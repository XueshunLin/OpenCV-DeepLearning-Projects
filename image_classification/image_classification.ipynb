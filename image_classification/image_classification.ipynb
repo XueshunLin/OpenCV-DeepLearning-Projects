{
  "cells": [
    {
      "cell_type": "markdown",
      "metadata": {},
      "source": [
        "# Pytorch CNN Image Classification"
      ]
    },
    {
      "cell_type": "code",
      "execution_count": null,
      "metadata": {
        "colab": {
          "base_uri": "https://localhost:8080/"
        },
        "id": "SjdGMlveNhF9",
        "outputId": "9bc37a9a-aaf6-460a-ad78-2383d828ba16"
      },
      "outputs": [
        {
          "name": "stdout",
          "output_type": "stream",
          "text": [
            "Collecting torchmetrics\n",
            "  Downloading torchmetrics-1.3.2-py3-none-any.whl (841 kB)\n",
            "\u001b[?25l     \u001b[90m━━━━━━━━━━━━━━━━━━━━━━━━━━━━━━━━━━━━━━━━\u001b[0m \u001b[32m0.0/841.5 kB\u001b[0m \u001b[31m?\u001b[0m eta \u001b[36m-:--:--\u001b[0m\r\u001b[2K     \u001b[91m━━━━━━━━━━━━━━━━━━━\u001b[0m\u001b[90m╺\u001b[0m\u001b[90m━━━━━━━━━━━━━━━━━━━━\u001b[0m \u001b[32m409.6/841.5 kB\u001b[0m \u001b[31m12.0 MB/s\u001b[0m eta \u001b[36m0:00:01\u001b[0m\r\u001b[2K     \u001b[90m━━━━━━━━━━━━━━━━━━━━━━━━━━━━━━━━━━━━━━━━\u001b[0m \u001b[32m841.5/841.5 kB\u001b[0m \u001b[31m17.5 MB/s\u001b[0m eta \u001b[36m0:00:00\u001b[0m\n",
            "\u001b[?25hRequirement already satisfied: numpy>1.20.0 in /usr/local/lib/python3.10/dist-packages (from torchmetrics) (1.25.2)\n",
            "Requirement already satisfied: packaging>17.1 in /usr/local/lib/python3.10/dist-packages (from torchmetrics) (24.0)\n",
            "Requirement already satisfied: torch>=1.10.0 in /usr/local/lib/python3.10/dist-packages (from torchmetrics) (2.2.1+cu121)\n",
            "Collecting lightning-utilities>=0.8.0 (from torchmetrics)\n",
            "  Downloading lightning_utilities-0.11.2-py3-none-any.whl (26 kB)\n",
            "Requirement already satisfied: setuptools in /usr/local/lib/python3.10/dist-packages (from lightning-utilities>=0.8.0->torchmetrics) (67.7.2)\n",
            "Requirement already satisfied: typing-extensions in /usr/local/lib/python3.10/dist-packages (from lightning-utilities>=0.8.0->torchmetrics) (4.11.0)\n",
            "Requirement already satisfied: filelock in /usr/local/lib/python3.10/dist-packages (from torch>=1.10.0->torchmetrics) (3.13.4)\n",
            "Requirement already satisfied: sympy in /usr/local/lib/python3.10/dist-packages (from torch>=1.10.0->torchmetrics) (1.12)\n",
            "Requirement already satisfied: networkx in /usr/local/lib/python3.10/dist-packages (from torch>=1.10.0->torchmetrics) (3.3)\n",
            "Requirement already satisfied: jinja2 in /usr/local/lib/python3.10/dist-packages (from torch>=1.10.0->torchmetrics) (3.1.3)\n",
            "Requirement already satisfied: fsspec in /usr/local/lib/python3.10/dist-packages (from torch>=1.10.0->torchmetrics) (2023.6.0)\n",
            "Collecting nvidia-cuda-nvrtc-cu12==12.1.105 (from torch>=1.10.0->torchmetrics)\n",
            "  Using cached nvidia_cuda_nvrtc_cu12-12.1.105-py3-none-manylinux1_x86_64.whl (23.7 MB)\n",
            "Collecting nvidia-cuda-runtime-cu12==12.1.105 (from torch>=1.10.0->torchmetrics)\n",
            "  Using cached nvidia_cuda_runtime_cu12-12.1.105-py3-none-manylinux1_x86_64.whl (823 kB)\n",
            "Collecting nvidia-cuda-cupti-cu12==12.1.105 (from torch>=1.10.0->torchmetrics)\n",
            "  Using cached nvidia_cuda_cupti_cu12-12.1.105-py3-none-manylinux1_x86_64.whl (14.1 MB)\n",
            "Collecting nvidia-cudnn-cu12==8.9.2.26 (from torch>=1.10.0->torchmetrics)\n",
            "  Using cached nvidia_cudnn_cu12-8.9.2.26-py3-none-manylinux1_x86_64.whl (731.7 MB)\n",
            "Collecting nvidia-cublas-cu12==12.1.3.1 (from torch>=1.10.0->torchmetrics)\n",
            "  Using cached nvidia_cublas_cu12-12.1.3.1-py3-none-manylinux1_x86_64.whl (410.6 MB)\n",
            "Collecting nvidia-cufft-cu12==11.0.2.54 (from torch>=1.10.0->torchmetrics)\n",
            "  Using cached nvidia_cufft_cu12-11.0.2.54-py3-none-manylinux1_x86_64.whl (121.6 MB)\n",
            "Collecting nvidia-curand-cu12==10.3.2.106 (from torch>=1.10.0->torchmetrics)\n",
            "  Using cached nvidia_curand_cu12-10.3.2.106-py3-none-manylinux1_x86_64.whl (56.5 MB)\n",
            "Collecting nvidia-cusolver-cu12==11.4.5.107 (from torch>=1.10.0->torchmetrics)\n",
            "  Using cached nvidia_cusolver_cu12-11.4.5.107-py3-none-manylinux1_x86_64.whl (124.2 MB)\n",
            "Collecting nvidia-cusparse-cu12==12.1.0.106 (from torch>=1.10.0->torchmetrics)\n",
            "  Using cached nvidia_cusparse_cu12-12.1.0.106-py3-none-manylinux1_x86_64.whl (196.0 MB)\n",
            "Collecting nvidia-nccl-cu12==2.19.3 (from torch>=1.10.0->torchmetrics)\n",
            "  Using cached nvidia_nccl_cu12-2.19.3-py3-none-manylinux1_x86_64.whl (166.0 MB)\n",
            "Collecting nvidia-nvtx-cu12==12.1.105 (from torch>=1.10.0->torchmetrics)\n",
            "  Using cached nvidia_nvtx_cu12-12.1.105-py3-none-manylinux1_x86_64.whl (99 kB)\n",
            "Requirement already satisfied: triton==2.2.0 in /usr/local/lib/python3.10/dist-packages (from torch>=1.10.0->torchmetrics) (2.2.0)\n",
            "Collecting nvidia-nvjitlink-cu12 (from nvidia-cusolver-cu12==11.4.5.107->torch>=1.10.0->torchmetrics)\n",
            "  Using cached nvidia_nvjitlink_cu12-12.4.127-py3-none-manylinux2014_x86_64.whl (21.1 MB)\n",
            "Requirement already satisfied: MarkupSafe>=2.0 in /usr/local/lib/python3.10/dist-packages (from jinja2->torch>=1.10.0->torchmetrics) (2.1.5)\n",
            "Requirement already satisfied: mpmath>=0.19 in /usr/local/lib/python3.10/dist-packages (from sympy->torch>=1.10.0->torchmetrics) (1.3.0)\n",
            "Installing collected packages: nvidia-nvtx-cu12, nvidia-nvjitlink-cu12, nvidia-nccl-cu12, nvidia-curand-cu12, nvidia-cufft-cu12, nvidia-cuda-runtime-cu12, nvidia-cuda-nvrtc-cu12, nvidia-cuda-cupti-cu12, nvidia-cublas-cu12, lightning-utilities, nvidia-cusparse-cu12, nvidia-cudnn-cu12, nvidia-cusolver-cu12, torchmetrics\n",
            "Successfully installed lightning-utilities-0.11.2 nvidia-cublas-cu12-12.1.3.1 nvidia-cuda-cupti-cu12-12.1.105 nvidia-cuda-nvrtc-cu12-12.1.105 nvidia-cuda-runtime-cu12-12.1.105 nvidia-cudnn-cu12-8.9.2.26 nvidia-cufft-cu12-11.0.2.54 nvidia-curand-cu12-10.3.2.106 nvidia-cusolver-cu12-11.4.5.107 nvidia-cusparse-cu12-12.1.0.106 nvidia-nccl-cu12-2.19.3 nvidia-nvjitlink-cu12-12.4.127 nvidia-nvtx-cu12-12.1.105 torchmetrics-1.3.2\n"
          ]
        }
      ],
      "source": [
        "pip install torchmetrics"
      ]
    },
    {
      "cell_type": "code",
      "execution_count": null,
      "metadata": {
        "colab": {
          "base_uri": "https://localhost:8080/"
        },
        "id": "QKLsXGVmV5NE",
        "outputId": "62161f90-be0d-4720-b016-ae90b8270a1d"
      },
      "outputs": [
        {
          "name": "stdout",
          "output_type": "stream",
          "text": [
            "Collecting optuna\n",
            "  Downloading optuna-3.6.1-py3-none-any.whl (380 kB)\n",
            "\u001b[2K     \u001b[90m━━━━━━━━━━━━━━━━━━━━━━━━━━━━━━━━━━━━━━━━\u001b[0m \u001b[32m380.1/380.1 kB\u001b[0m \u001b[31m7.7 MB/s\u001b[0m eta \u001b[36m0:00:00\u001b[0m\n",
            "\u001b[?25hCollecting alembic>=1.5.0 (from optuna)\n",
            "  Downloading alembic-1.13.1-py3-none-any.whl (233 kB)\n",
            "\u001b[2K     \u001b[90m━━━━━━━━━━━━━━━━━━━━━━━━━━━━━━━━━━━━━━━━\u001b[0m \u001b[32m233.4/233.4 kB\u001b[0m \u001b[31m27.3 MB/s\u001b[0m eta \u001b[36m0:00:00\u001b[0m\n",
            "\u001b[?25hCollecting colorlog (from optuna)\n",
            "  Downloading colorlog-6.8.2-py3-none-any.whl (11 kB)\n",
            "Requirement already satisfied: numpy in /usr/local/lib/python3.10/dist-packages (from optuna) (1.25.2)\n",
            "Requirement already satisfied: packaging>=20.0 in /usr/local/lib/python3.10/dist-packages (from optuna) (24.0)\n",
            "Requirement already satisfied: sqlalchemy>=1.3.0 in /usr/local/lib/python3.10/dist-packages (from optuna) (2.0.29)\n",
            "Requirement already satisfied: tqdm in /usr/local/lib/python3.10/dist-packages (from optuna) (4.66.2)\n",
            "Requirement already satisfied: PyYAML in /usr/local/lib/python3.10/dist-packages (from optuna) (6.0.1)\n",
            "Collecting Mako (from alembic>=1.5.0->optuna)\n",
            "  Downloading Mako-1.3.3-py3-none-any.whl (78 kB)\n",
            "\u001b[2K     \u001b[90m━━━━━━━━━━━━━━━━━━━━━━━━━━━━━━━━━━━━━━━━\u001b[0m \u001b[32m78.8/78.8 kB\u001b[0m \u001b[31m10.9 MB/s\u001b[0m eta \u001b[36m0:00:00\u001b[0m\n",
            "\u001b[?25hRequirement already satisfied: typing-extensions>=4 in /usr/local/lib/python3.10/dist-packages (from alembic>=1.5.0->optuna) (4.11.0)\n",
            "Requirement already satisfied: greenlet!=0.4.17 in /usr/local/lib/python3.10/dist-packages (from sqlalchemy>=1.3.0->optuna) (3.0.3)\n",
            "Requirement already satisfied: MarkupSafe>=0.9.2 in /usr/local/lib/python3.10/dist-packages (from Mako->alembic>=1.5.0->optuna) (2.1.5)\n",
            "Installing collected packages: Mako, colorlog, alembic, optuna\n",
            "Successfully installed Mako-1.3.3 alembic-1.13.1 colorlog-6.8.2 optuna-3.6.1\n"
          ]
        }
      ],
      "source": [
        "pip install optuna"
      ]
    },
    {
      "cell_type": "code",
      "execution_count": null,
      "metadata": {
        "colab": {
          "base_uri": "https://localhost:8080/"
        },
        "id": "aitSctHsKsft",
        "outputId": "776d69ec-1439-4a99-e8c5-fce67f8ea6fc"
      },
      "outputs": [
        {
          "name": "stdout",
          "output_type": "stream",
          "text": [
            "Requirement already satisfied: torchvision in /usr/local/lib/python3.10/dist-packages (0.17.1+cu121)\n",
            "Requirement already satisfied: numpy in /usr/local/lib/python3.10/dist-packages (from torchvision) (1.25.2)\n",
            "Requirement already satisfied: torch==2.2.1 in /usr/local/lib/python3.10/dist-packages (from torchvision) (2.2.1+cu121)\n",
            "Requirement already satisfied: pillow!=8.3.*,>=5.3.0 in /usr/local/lib/python3.10/dist-packages (from torchvision) (9.4.0)\n",
            "Requirement already satisfied: filelock in /usr/local/lib/python3.10/dist-packages (from torch==2.2.1->torchvision) (3.13.4)\n",
            "Requirement already satisfied: typing-extensions>=4.8.0 in /usr/local/lib/python3.10/dist-packages (from torch==2.2.1->torchvision) (4.11.0)\n",
            "Requirement already satisfied: sympy in /usr/local/lib/python3.10/dist-packages (from torch==2.2.1->torchvision) (1.12)\n",
            "Requirement already satisfied: networkx in /usr/local/lib/python3.10/dist-packages (from torch==2.2.1->torchvision) (3.3)\n",
            "Requirement already satisfied: jinja2 in /usr/local/lib/python3.10/dist-packages (from torch==2.2.1->torchvision) (3.1.3)\n",
            "Requirement already satisfied: fsspec in /usr/local/lib/python3.10/dist-packages (from torch==2.2.1->torchvision) (2023.6.0)\n",
            "Requirement already satisfied: nvidia-cuda-nvrtc-cu12==12.1.105 in /usr/local/lib/python3.10/dist-packages (from torch==2.2.1->torchvision) (12.1.105)\n",
            "Requirement already satisfied: nvidia-cuda-runtime-cu12==12.1.105 in /usr/local/lib/python3.10/dist-packages (from torch==2.2.1->torchvision) (12.1.105)\n",
            "Requirement already satisfied: nvidia-cuda-cupti-cu12==12.1.105 in /usr/local/lib/python3.10/dist-packages (from torch==2.2.1->torchvision) (12.1.105)\n",
            "Requirement already satisfied: nvidia-cudnn-cu12==8.9.2.26 in /usr/local/lib/python3.10/dist-packages (from torch==2.2.1->torchvision) (8.9.2.26)\n",
            "Requirement already satisfied: nvidia-cublas-cu12==12.1.3.1 in /usr/local/lib/python3.10/dist-packages (from torch==2.2.1->torchvision) (12.1.3.1)\n",
            "Requirement already satisfied: nvidia-cufft-cu12==11.0.2.54 in /usr/local/lib/python3.10/dist-packages (from torch==2.2.1->torchvision) (11.0.2.54)\n",
            "Requirement already satisfied: nvidia-curand-cu12==10.3.2.106 in /usr/local/lib/python3.10/dist-packages (from torch==2.2.1->torchvision) (10.3.2.106)\n",
            "Requirement already satisfied: nvidia-cusolver-cu12==11.4.5.107 in /usr/local/lib/python3.10/dist-packages (from torch==2.2.1->torchvision) (11.4.5.107)\n",
            "Requirement already satisfied: nvidia-cusparse-cu12==12.1.0.106 in /usr/local/lib/python3.10/dist-packages (from torch==2.2.1->torchvision) (12.1.0.106)\n",
            "Requirement already satisfied: nvidia-nccl-cu12==2.19.3 in /usr/local/lib/python3.10/dist-packages (from torch==2.2.1->torchvision) (2.19.3)\n",
            "Requirement already satisfied: nvidia-nvtx-cu12==12.1.105 in /usr/local/lib/python3.10/dist-packages (from torch==2.2.1->torchvision) (12.1.105)\n",
            "Requirement already satisfied: triton==2.2.0 in /usr/local/lib/python3.10/dist-packages (from torch==2.2.1->torchvision) (2.2.0)\n",
            "Requirement already satisfied: nvidia-nvjitlink-cu12 in /usr/local/lib/python3.10/dist-packages (from nvidia-cusolver-cu12==11.4.5.107->torch==2.2.1->torchvision) (12.4.127)\n",
            "Requirement already satisfied: MarkupSafe>=2.0 in /usr/local/lib/python3.10/dist-packages (from jinja2->torch==2.2.1->torchvision) (2.1.5)\n",
            "Requirement already satisfied: mpmath>=0.19 in /usr/local/lib/python3.10/dist-packages (from sympy->torch==2.2.1->torchvision) (1.3.0)\n"
          ]
        }
      ],
      "source": [
        "pip install torchvision"
      ]
    },
    {
      "cell_type": "code",
      "execution_count": null,
      "metadata": {
        "id": "JUmrICYLMcuT"
      },
      "outputs": [],
      "source": [
        "import torch\n",
        "from torchvision import transforms, datasets\n",
        "from torch.utils.data import DataLoader, Dataset, random_split\n",
        "from tqdm import tqdm\n",
        "from PIL import Image\n",
        "import torch.nn.functional as F\n",
        "import torch.nn as nn\n",
        "from torch.optim.lr_scheduler import OneCycleLR\n",
        "import torch.optim as optim\n",
        "from torchmetrics import Accuracy\n",
        "import optuna\n",
        "import random"
      ]
    },
    {
      "cell_type": "code",
      "execution_count": null,
      "metadata": {
        "colab": {
          "base_uri": "https://localhost:8080/"
        },
        "id": "bGJzmyDfNgJv",
        "outputId": "5696fbe9-a4f2-4425-d049-44641381f339"
      },
      "outputs": [
        {
          "name": "stdout",
          "output_type": "stream",
          "text": [
            "Mounted at /content/drive\n"
          ]
        }
      ],
      "source": [
        "from google.colab import drive\n",
        "drive.mount('/content/drive')"
      ]
    },
    {
      "cell_type": "markdown",
      "metadata": {},
      "source": [
        "## Calculate mean and std of the train data"
      ]
    },
    {
      "cell_type": "code",
      "execution_count": null,
      "metadata": {
        "id": "g6OiMrPBMcuX"
      },
      "outputs": [],
      "source": [
        "def get_mean_std(dataloader):\n",
        "\n",
        "    # Initialize the sums and the number of batches\n",
        "    sum = 0.0\n",
        "    sum_squared = 0.0\n",
        "    num_batches = 0\n",
        "\n",
        "    # Loop through the data in the DataLoader\n",
        "    for data, _ in tqdm(dataloader, desc=\"Computing mean and std\"):\n",
        "        sum += data.mean()\n",
        "        sum_squared += (data ** 2).mean()\n",
        "        num_batches += 1\n",
        "\n",
        "    # Divide by the total number of batches to get the mean\n",
        "    mean = sum / num_batches\n",
        "\n",
        "    # Calculate the std deviation\n",
        "    std = (sum_squared / num_batches - mean ** 2) ** 0.5\n",
        "\n",
        "    print(f'Mean: {mean}')\n",
        "    print(f'Std: {std}')\n",
        "\n",
        "\n",
        "    return mean, std"
      ]
    },
    {
      "cell_type": "markdown",
      "metadata": {},
      "source": [
        "## Set correct device for hardware acceleratiion"
      ]
    },
    {
      "cell_type": "code",
      "execution_count": null,
      "metadata": {
        "id": "sEaDmLjDMcua"
      },
      "outputs": [],
      "source": [
        "def get_device():\n",
        "    if torch.cuda.is_available():\n",
        "        return torch.device(\"cuda\")\n",
        "    elif torch.backends.mps.is_available():\n",
        "        return torch.device(\"mps\")\n",
        "    else:\n",
        "        return torch.device(\"cpu\")\n",
        "\n",
        "def to_device(data,device):\n",
        "    if isinstance(data,(list,tuple)):\n",
        "        return [to_device(x,device) for x in data]\n",
        "    return data.to(device,non_blocking=True)\n",
        "\n",
        "class ToDeviceLoader:\n",
        "    def __init__(self,data,device):\n",
        "        self.data = data\n",
        "        self.device = device\n",
        "\n",
        "    def __iter__(self):\n",
        "        for batch in self.data:\n",
        "            yield to_device(batch,self.device)\n",
        "\n",
        "    def __len__(self):\n",
        "        return len(self.data)"
      ]
    },
    {
      "cell_type": "code",
      "execution_count": null,
      "metadata": {
        "id": "AWSsk2R9McuY"
      },
      "outputs": [],
      "source": [
        "# apply the transformations and calculate the mean and std\n",
        "transform = transforms.Compose([\n",
        "    transforms.Resize((256, 256)),\n",
        "    transforms.ToTensor()\n",
        "])\n",
        "\n",
        "# Load your dataset\n",
        "dataset = datasets.ImageFolder(root= 'drive/MyDrive/train', transform=transform)\n",
        "\n",
        "device = get_device()\n",
        "dataloader = DataLoader(dataset, batch_size=64, shuffle=True)\n",
        "\n",
        "dataset = ToDeviceLoader(dataloader, device)\n",
        "\n",
        "mean, std = get_mean_std(dataset)"
      ]
    },
    {
      "cell_type": "markdown",
      "metadata": {},
      "source": [
        "## Set labels accordingly by overwrite the ImageFolder function"
      ]
    },
    {
      "cell_type": "code",
      "execution_count": null,
      "metadata": {
        "id": "ljWs9sWIMcuZ"
      },
      "outputs": [],
      "source": [
        "class CustomImageFolder(datasets.ImageFolder):\n",
        "    def __init__(self, root, transform=None, target_transform=None):\n",
        "        super().__init__(root, transform=transform, target_transform=target_transform)\n",
        "\n",
        "    def find_classes(self, dir):\n",
        "        \"\"\"\n",
        "        Override this method to load from setting file instead of scanning directory\n",
        "        \"\"\"\n",
        "        labels = {\n",
        "            'bedroom': 1,\n",
        "            'Coast': 2,\n",
        "            'Forest': 3,\n",
        "            'Highway': 4,\n",
        "            'industrial': 5,\n",
        "            'Insidecity': 6,\n",
        "            'kitchen': 7,\n",
        "            'livingroom': 8,\n",
        "            'Mountain': 9,\n",
        "            'Office': 10,\n",
        "            'OpenCountry': 11,\n",
        "            'store': 12,\n",
        "            'Street': 13,\n",
        "            'Suburb': 14,\n",
        "            'TallBuilding': 15\n",
        "        }\n",
        "\n",
        "        classes = list(labels.keys())\n",
        "        classes_to_idx = labels\n",
        "        return classes, classes_to_idx\n",
        "\n",
        "# referenced from https://discuss.pytorch.org/t/what-is-the-simplest-way-to-change-class-to-idx-attribute/86778/4"
      ]
    },
    {
      "cell_type": "markdown",
      "metadata": {},
      "source": [
        "## Overwrite Dataset function to apply data augmentation on training data after random split"
      ]
    },
    {
      "cell_type": "code",
      "execution_count": null,
      "metadata": {
        "id": "Crdgjr4OMcuZ"
      },
      "outputs": [],
      "source": [
        "class TrDataset(Dataset):\n",
        "    def __init__(self, base_dataset, transformations):\n",
        "        super(TrDataset, self).__init__()\n",
        "        self.base = base_dataset\n",
        "        self.transformations = transformations\n",
        "\n",
        "    def __len__(self):\n",
        "        return len(self.base)\n",
        "\n",
        "    def __getitem__(self, idx):\n",
        "        x, y = self.base[idx]\n",
        "        return self.transformations(x), y\n",
        "\n",
        "# referenced from https://stackoverflow.com/questions/74920920/pytorch-apply-data-augmentation-on-training-data-after-random-split"
      ]
    },
    {
      "cell_type": "markdown",
      "metadata": {},
      "source": [
        "## load data, apply train validataion split and respective transformations(augmentation)"
      ]
    },
    {
      "cell_type": "code",
      "execution_count": null,
      "metadata": {
        "id": "kMgZppVDMcuZ"
      },
      "outputs": [],
      "source": [
        "def load_data(mean, std, path, batch_size):\n",
        "    # Transformations for the training data with augmentation\n",
        "    train_transform = transforms.Compose([\n",
        "    # # Data augmentation\n",
        "    transforms.GaussianBlur(kernel_size=(5, 5), sigma=(0.1, 1.0)),\n",
        "    transforms.RandomPerspective(distortion_scale=0.6, p=0.5),\n",
        "    transforms.RandomHorizontalFlip(),\n",
        "    transforms.RandomRotation(45),\n",
        "    transforms.RandomAutocontrast(),\n",
        "    transforms.Resize((256, 256)),       # Resize images to 256x256\n",
        "    transforms.Grayscale(num_output_channels=1),  # Ensure there is only one channel\n",
        "    transforms.ToTensor(),               # Convert images to PyTorch tensors\n",
        "    # Normalize the images\n",
        "    transforms.Normalize(mean= [mean], std= [std]),  # Use the mean and std dev for grayscale images\n",
        "    transforms.RandomErasing(p=0.3, scale=(0.02, 0.4), ratio=(0.3, 3.3), value=0)\n",
        "    ])\n",
        "\n",
        "    # Transformations for the validation data without augmentation\n",
        "    validation_transform = transforms.Compose([\n",
        "        transforms.Resize((256, 256)),\n",
        "        transforms.Grayscale(num_output_channels=1),\n",
        "        transforms.ToTensor(),\n",
        "        transforms.Normalize(mean=[mean], std=[std])\n",
        "    ])\n",
        "\n",
        "    full_dataset = CustomImageFolder(root=path)\n",
        "    print(full_dataset.class_to_idx)\n",
        "    # Split dataset into training and validation sets\n",
        "    train_size = int(0.8 * len(full_dataset))\n",
        "    validation_size = len(full_dataset) - train_size\n",
        "    raw_train_dataset, raw_validation_dataset = random_split(full_dataset, [train_size, validation_size])\n",
        "\n",
        "    # Create custom datasets with the respective transformations\n",
        "    train_dataset = TrDataset(raw_train_dataset, train_transform)\n",
        "    validation_dataset = TrDataset(raw_validation_dataset, validation_transform)\n",
        "\n",
        "    # Data loaders for training and validation sets\n",
        "    train_loader = DataLoader(train_dataset, batch_size=batch_size, shuffle=True)\n",
        "    validation_loader = DataLoader(validation_dataset, batch_size=batch_size, shuffle=False)\n",
        "\n",
        "    return train_loader, validation_loader"
      ]
    },
    {
      "cell_type": "markdown",
      "metadata": {},
      "source": [
        "## Define ResNet framework"
      ]
    },
    {
      "cell_type": "code",
      "execution_count": null,
      "metadata": {
        "id": "Q4lKr4zNMcua"
      },
      "outputs": [],
      "source": [
        "# referenced from https://www.kaggle.com/code/toygarr/resnet-implementation-for-image-classification\n",
        "\n",
        "def conv_shortcut(in_channel, out_channel, stride):\n",
        "    layers = [nn.Conv2d(in_channel, out_channel, kernel_size=(1,1), stride=(stride, stride)),\n",
        "             nn.BatchNorm2d(out_channel)]\n",
        "    return nn.Sequential(*layers)\n",
        "\n",
        "def block(in_channel, out_channel, k_size,stride):\n",
        "    layers = None\n",
        "\n",
        "    first_layers = [nn.Conv2d(in_channel,out_channel[0], kernel_size=(1,1),stride=(stride,stride)),\n",
        "                    nn.BatchNorm2d(out_channel[0]),\n",
        "                    nn.ReLU()\n",
        "                    ]\n",
        "\n",
        "    second_layers = [nn.Conv2d(out_channel[0], out_channel[1], kernel_size=(k_size, k_size), stride=(1,1), padding=1),\n",
        "                    nn.BatchNorm2d(out_channel[1]),\n",
        "                    nn.ReLU()\n",
        "                    ]\n",
        "\n",
        "    layers = first_layers + second_layers\n",
        "\n",
        "    return nn.Sequential(*layers)\n",
        "\n",
        "\n",
        "class ResNet(nn.Module):\n",
        "\n",
        "    def __init__(self, in_channels, num_classes, stage2_loop, stage3_loop, dropout1, dropout2, out_channels):\n",
        "        super().__init__()\n",
        "\n",
        "        self.stage2_loop = stage2_loop\n",
        "        self.stage3_loop = stage3_loop\n",
        "        self.dropout1 = dropout1\n",
        "        self.dropout2 = dropout2\n",
        "        self.out_channels = out_channels\n",
        "\n",
        "        self.stg1 = nn.Sequential(\n",
        "                                   nn.Conv2d(in_channels=in_channels, out_channels=out_channels, kernel_size=(3),\n",
        "                                             stride=(1), padding=1),\n",
        "                                   nn.BatchNorm2d(out_channels),\n",
        "                                   nn.ReLU(),\n",
        "                                   nn.MaxPool2d(2))\n",
        "\n",
        "        ##stage 2\n",
        "        self.convShortcut2 = conv_shortcut(out_channels,out_channels*2,1)\n",
        "\n",
        "        self.conv2 = block(out_channels,[out_channels//2,out_channels*2],3,1)\n",
        "        self.ident2 = block(out_channels*2,[out_channels,out_channels*2],3,1)\n",
        "\n",
        "\n",
        "        # ##stage 3\n",
        "        self.convShortcut3 = conv_shortcut(out_channels*2,out_channels*4,2)\n",
        "\n",
        "        self.conv3 = block(out_channels*2,[out_channels,out_channels*4],3,2)\n",
        "        self.ident3 = block(out_channels*4,[out_channels*2,out_channels*4],3,1)\n",
        "\n",
        "        ##Classify\n",
        "        self.classifier = nn.Sequential(\n",
        "                                       nn.AvgPool2d(2),\n",
        "                                       nn.Dropout(self.dropout1),\n",
        "                                       nn.Flatten(),\n",
        "                                       nn.Dropout(self.dropout2),\n",
        "                                       nn.LazyLinear(num_classes))\n",
        "\n",
        "    def forward(self,inputs):\n",
        "        #stage 1\n",
        "        out = self.stg1(inputs)\n",
        "\n",
        "        #stage 2\n",
        "        out = F.relu(self.conv2(out) + self.convShortcut2(out))\n",
        "        for _ in range(self.stage2_loop):\n",
        "            out = F.relu(self.ident2(out) + out)\n",
        "\n",
        "        # Stage 3\n",
        "        out = F.relu(self.conv3(out) + self.convShortcut3(out))\n",
        "        for _ in range(self.stage3_loop):\n",
        "            out = F.relu(self.ident3(out) + out)\n",
        "\n",
        "        #Classify\n",
        "        out = self.classifier(out)\n",
        "\n",
        "        return out\n"
      ]
    },
    {
      "cell_type": "markdown",
      "metadata": {},
      "source": [
        "## Define early stopping machenism"
      ]
    },
    {
      "cell_type": "code",
      "execution_count": null,
      "metadata": {
        "id": "hsNse-OxMcua"
      },
      "outputs": [],
      "source": [
        "# referenced from https://stackoverflow.com/questions/71998978/early-stopping-in-pytorch\n",
        "class EarlyStopping:\n",
        "    def __init__(self, patience=7):\n",
        "        \"\"\"\n",
        "        Args:\n",
        "            patience (int): How long to wait after last time validation loss improved.\n",
        "                            Default: 7\n",
        "            min_delta (float): Minimum change in the monitored quantity to qualify as an improvement.\n",
        "                            Default: 0\n",
        "        \"\"\"\n",
        "        self.patience = patience\n",
        "        self.counter = 0\n",
        "        self.min_validation_loss = float('inf')\n",
        "        self.early_stop = False\n",
        "\n",
        "    def __call__(self, val_loss):\n",
        "        if val_loss < self.min_validation_loss:\n",
        "            self.min_validation_loss = val_loss\n",
        "            self.counter = 0\n",
        "        elif val_loss > self.min_validation_loss:\n",
        "            self.counter += 1\n",
        "            print(f'EarlyStopping counter: {self.counter} out of {self.patience}')\n",
        "            if self.counter >= self.patience:\n",
        "                self.early_stop = True"
      ]
    },
    {
      "cell_type": "markdown",
      "metadata": {},
      "source": [
        "## Define the training process of the model"
      ]
    },
    {
      "cell_type": "code",
      "execution_count": null,
      "metadata": {
        "id": "79IBkiR2Mcub"
      },
      "outputs": [],
      "source": [
        "global_best_accuracy = 0\n",
        "\n",
        "def train_model(model, train_loader, val_loader, optimizer, n_epochs, early_stopping, criterion, grad_clip=None, scheduler=None, accuracy=None):\n",
        "    torch.cuda.empty_cache()\n",
        "\n",
        "    history = []\n",
        "    local_best_accuracy = 0\n",
        "\n",
        "    for epoch in range(n_epochs):\n",
        "\n",
        "        result = {}\n",
        "        train_loss = []\n",
        "        validation_loss = []\n",
        "\n",
        "\n",
        "        model.train()\n",
        "        for data, target in tqdm(train_loader, desc=f'Epoch {epoch+1} Training'):\n",
        "            optimizer.zero_grad()\n",
        "            output = model(data)\n",
        "            loss = criterion(output, target - 1) # Subtract 1 from the target since the labels start from 1\n",
        "            train_loss.append(loss)\n",
        "            loss.backward()\n",
        "            # Gradient clipping\n",
        "            if grad_clip:\n",
        "                nn.utils.clip_grad_value_(model.parameters(), grad_clip)\n",
        "\n",
        "            optimizer.step()\n",
        "            scheduler.step()\n",
        "\n",
        "        result['train_loss'] = torch.stack(train_loss).mean().item()\n",
        "\n",
        "        model.eval()\n",
        "        val_loss = 0\n",
        "        with torch.no_grad():\n",
        "            for data, target in tqdm(val_loader, desc=f'Epoch {epoch+1} Validation'):\n",
        "                output = model(data)\n",
        "                val_loss = criterion(output, target - 1).detach()\n",
        "                validation_loss.append(val_loss)\n",
        "                preds = torch.argmax(output, dim=1)  # Get the predicted class labels\n",
        "                accuracy(preds , target-1)  # Update the running accuracy\n",
        "\n",
        "        val_acc = accuracy.compute()\n",
        "        accuracy.reset()\n",
        "        result['val_loss'] = torch.stack(validation_loss).mean().item()\n",
        "\n",
        "\n",
        "        current_lr = optimizer.param_groups[0]['lr']\n",
        "\n",
        "        result['lrs'] = current_lr\n",
        "        result['val_acc'] = val_acc\n",
        "\n",
        "        history.append(result)\n",
        "\n",
        "        print(\"Epoch [{}], last_lr: {:.5f}, train_loss: {:.4f}, val_loss: {:.4f}, val_acc: {:.4f}\".format(\n",
        "            epoch+1, current_lr, result['train_loss'], result['val_loss'], result['val_acc']))\n",
        "\n",
        "        if val_acc > local_best_accuracy:\n",
        "            local_best_accuracy = val_acc\n",
        "\n",
        "        global global_best_accuracy\n",
        "\n",
        "        if val_acc > global_best_accuracy:\n",
        "          global_best_accuracy = val_acc\n",
        "          torch.save(model, 'best-model-parameters.pt')\n",
        "          print(f'Saved new best model with accuracy: {val_acc}%')\n",
        "\n",
        "        # Call early stopping\n",
        "        early_stopping(result['val_loss'])\n",
        "        if early_stopping.early_stop:\n",
        "            print(\"Early stopping triggered\")\n",
        "            break\n",
        "\n",
        "    return history, local_best_accuracy"
      ]
    },
    {
      "cell_type": "markdown",
      "metadata": {},
      "source": [
        "## Define a optuna objective function for hyperparameter tuning, using bayesian optimization"
      ]
    },
    {
      "cell_type": "code",
      "execution_count": null,
      "metadata": {
        "colab": {
          "base_uri": "https://localhost:8080/"
        },
        "id": "FWEzi8JQLW8W",
        "outputId": "58c50745-ce1c-41b7-8dbe-523b8dabb27e"
      },
      "outputs": [
        {
          "name": "stderr",
          "output_type": "stream",
          "text": [
            "/usr/local/lib/python3.10/dist-packages/torch/nn/modules/lazy.py:181: UserWarning: Lazy modules are a new feature under heavy development so changes to the API or functionality can happen at any moment.\n",
            "  warnings.warn('Lazy modules are a new feature under heavy development '\n"
          ]
        },
        {
          "name": "stdout",
          "output_type": "stream",
          "text": [
            "{'bedroom': 1, 'Coast': 2, 'Forest': 3, 'Highway': 4, 'industrial': 5, 'Insidecity': 6, 'kitchen': 7, 'livingroom': 8, 'Mountain': 9, 'Office': 10, 'OpenCountry': 11, 'store': 12, 'Street': 13, 'Suburb': 14, 'TallBuilding': 15}\n"
          ]
        },
        {
          "name": "stderr",
          "output_type": "stream",
          "text": [
            "Epoch 1 Training: 100%|██████████| 75/75 [16:22<00:00, 13.10s/it]\n",
            "Epoch 1 Validation: 100%|██████████| 19/19 [03:57<00:00, 12.48s/it]\n"
          ]
        },
        {
          "name": "stdout",
          "output_type": "stream",
          "text": [
            "Epoch [1], last_lr: 0.00017, train_loss: 12.0808, val_loss: 11.6689, val_acc: 0.2167\n",
            "Saved new best model with accuracy: 0.21666666865348816%\n"
          ]
        },
        {
          "name": "stderr",
          "output_type": "stream",
          "text": [
            "Epoch 2 Training: 100%|██████████| 75/75 [00:12<00:00,  5.79it/s]\n",
            "Epoch 2 Validation: 100%|██████████| 19/19 [00:01<00:00, 10.88it/s]\n"
          ]
        },
        {
          "name": "stdout",
          "output_type": "stream",
          "text": [
            "Epoch [2], last_lr: 0.00018, train_loss: 11.0717, val_loss: 9.0622, val_acc: 0.2800\n",
            "Saved new best model with accuracy: 0.2800000011920929%\n"
          ]
        },
        {
          "name": "stderr",
          "output_type": "stream",
          "text": [
            "Epoch 3 Training: 100%|██████████| 75/75 [00:12<00:00,  5.84it/s]\n",
            "Epoch 3 Validation: 100%|██████████| 19/19 [00:01<00:00, 10.88it/s]\n"
          ]
        },
        {
          "name": "stdout",
          "output_type": "stream",
          "text": [
            "Epoch [3], last_lr: 0.00018, train_loss: 10.3421, val_loss: 8.3323, val_acc: 0.3167\n",
            "Saved new best model with accuracy: 0.3166666626930237%\n"
          ]
        },
        {
          "name": "stderr",
          "output_type": "stream",
          "text": [
            "Epoch 4 Training: 100%|██████████| 75/75 [00:12<00:00,  5.97it/s]\n",
            "Epoch 4 Validation: 100%|██████████| 19/19 [00:01<00:00, 10.86it/s]\n"
          ]
        },
        {
          "name": "stdout",
          "output_type": "stream",
          "text": [
            "Epoch [4], last_lr: 0.00019, train_loss: 8.5119, val_loss: 6.7294, val_acc: 0.2967\n"
          ]
        },
        {
          "name": "stderr",
          "output_type": "stream",
          "text": [
            "Epoch 5 Training: 100%|██████████| 75/75 [00:12<00:00,  5.89it/s]\n",
            "Epoch 5 Validation: 100%|██████████| 19/19 [00:01<00:00, 10.51it/s]\n"
          ]
        },
        {
          "name": "stdout",
          "output_type": "stream",
          "text": [
            "Epoch [5], last_lr: 0.00020, train_loss: 6.3234, val_loss: 5.7532, val_acc: 0.3200\n",
            "Saved new best model with accuracy: 0.3199999928474426%\n"
          ]
        },
        {
          "name": "stderr",
          "output_type": "stream",
          "text": [
            "Epoch 6 Training: 100%|██████████| 75/75 [00:12<00:00,  5.88it/s]\n",
            "Epoch 6 Validation: 100%|██████████| 19/19 [00:01<00:00, 11.07it/s]\n"
          ]
        },
        {
          "name": "stdout",
          "output_type": "stream",
          "text": [
            "Epoch [6], last_lr: 0.00022, train_loss: 5.1718, val_loss: 3.9939, val_acc: 0.4233\n",
            "Saved new best model with accuracy: 0.4233333468437195%\n"
          ]
        },
        {
          "name": "stderr",
          "output_type": "stream",
          "text": [
            "Epoch 7 Training: 100%|██████████| 75/75 [00:12<00:00,  5.95it/s]\n",
            "Epoch 7 Validation: 100%|██████████| 19/19 [00:01<00:00, 10.84it/s]\n"
          ]
        },
        {
          "name": "stdout",
          "output_type": "stream",
          "text": [
            "Epoch [7], last_lr: 0.00023, train_loss: 4.1194, val_loss: 3.5263, val_acc: 0.3567\n"
          ]
        },
        {
          "name": "stderr",
          "output_type": "stream",
          "text": [
            "Epoch 8 Training: 100%|██████████| 75/75 [00:12<00:00,  5.92it/s]\n",
            "Epoch 8 Validation: 100%|██████████| 19/19 [00:01<00:00, 10.86it/s]\n"
          ]
        },
        {
          "name": "stdout",
          "output_type": "stream",
          "text": [
            "Epoch [8], last_lr: 0.00025, train_loss: 3.2168, val_loss: 3.2158, val_acc: 0.3267\n"
          ]
        },
        {
          "name": "stderr",
          "output_type": "stream",
          "text": [
            "Epoch 9 Training: 100%|██████████| 75/75 [00:12<00:00,  5.94it/s]\n",
            "Epoch 9 Validation: 100%|██████████| 19/19 [00:01<00:00, 10.73it/s]\n"
          ]
        },
        {
          "name": "stdout",
          "output_type": "stream",
          "text": [
            "Epoch [9], last_lr: 0.00027, train_loss: 2.7802, val_loss: 2.4320, val_acc: 0.4500\n",
            "Saved new best model with accuracy: 0.44999998807907104%\n"
          ]
        },
        {
          "name": "stderr",
          "output_type": "stream",
          "text": [
            "Epoch 10 Training: 100%|██████████| 75/75 [00:12<00:00,  5.88it/s]\n",
            "Epoch 10 Validation: 100%|██████████| 19/19 [00:01<00:00, 10.02it/s]\n"
          ]
        },
        {
          "name": "stdout",
          "output_type": "stream",
          "text": [
            "Epoch [10], last_lr: 0.00030, train_loss: 2.6858, val_loss: 2.8445, val_acc: 0.3667\n"
          ]
        },
        {
          "name": "stderr",
          "output_type": "stream",
          "text": [
            "Epoch 11 Training: 100%|██████████| 75/75 [00:13<00:00,  5.72it/s]\n",
            "Epoch 11 Validation: 100%|██████████| 19/19 [00:01<00:00, 10.65it/s]\n"
          ]
        },
        {
          "name": "stdout",
          "output_type": "stream",
          "text": [
            "Epoch [11], last_lr: 0.00032, train_loss: 2.5228, val_loss: 2.8759, val_acc: 0.4133\n"
          ]
        },
        {
          "name": "stderr",
          "output_type": "stream",
          "text": [
            "Epoch 12 Training: 100%|██████████| 75/75 [00:13<00:00,  5.74it/s]\n",
            "Epoch 12 Validation: 100%|██████████| 19/19 [00:01<00:00, 10.61it/s]\n"
          ]
        },
        {
          "name": "stdout",
          "output_type": "stream",
          "text": [
            "Epoch [12], last_lr: 0.00035, train_loss: 2.7069, val_loss: 2.1151, val_acc: 0.4633\n",
            "Saved new best model with accuracy: 0.4633333384990692%\n"
          ]
        },
        {
          "name": "stderr",
          "output_type": "stream",
          "text": [
            "Epoch 13 Training: 100%|██████████| 75/75 [00:13<00:00,  5.69it/s]\n",
            "Epoch 13 Validation: 100%|██████████| 19/19 [00:01<00:00, 10.83it/s]\n"
          ]
        },
        {
          "name": "stdout",
          "output_type": "stream",
          "text": [
            "Epoch [13], last_lr: 0.00038, train_loss: 2.2850, val_loss: 2.0275, val_acc: 0.4500\n"
          ]
        },
        {
          "name": "stderr",
          "output_type": "stream",
          "text": [
            "Epoch 14 Training: 100%|██████████| 75/75 [00:12<00:00,  5.79it/s]\n",
            "Epoch 14 Validation: 100%|██████████| 19/19 [00:01<00:00, 11.01it/s]\n"
          ]
        },
        {
          "name": "stdout",
          "output_type": "stream",
          "text": [
            "Epoch [14], last_lr: 0.00041, train_loss: 2.1800, val_loss: 1.8319, val_acc: 0.4667\n",
            "Saved new best model with accuracy: 0.46666666865348816%\n"
          ]
        },
        {
          "name": "stderr",
          "output_type": "stream",
          "text": [
            "Epoch 15 Training: 100%|██████████| 75/75 [00:12<00:00,  5.88it/s]\n",
            "Epoch 15 Validation: 100%|██████████| 19/19 [00:01<00:00, 10.41it/s]\n"
          ]
        },
        {
          "name": "stdout",
          "output_type": "stream",
          "text": [
            "Epoch [15], last_lr: 0.00045, train_loss: 2.0259, val_loss: 1.8222, val_acc: 0.4533\n"
          ]
        },
        {
          "name": "stderr",
          "output_type": "stream",
          "text": [
            "Epoch 16 Training: 100%|██████████| 75/75 [00:12<00:00,  5.80it/s]\n",
            "Epoch 16 Validation: 100%|██████████| 19/19 [00:01<00:00, 10.85it/s]\n"
          ]
        },
        {
          "name": "stdout",
          "output_type": "stream",
          "text": [
            "Epoch [16], last_lr: 0.00049, train_loss: 1.8619, val_loss: 2.0729, val_acc: 0.4567\n"
          ]
        },
        {
          "name": "stderr",
          "output_type": "stream",
          "text": [
            "Epoch 17 Training: 100%|██████████| 75/75 [00:12<00:00,  5.81it/s]\n",
            "Epoch 17 Validation: 100%|██████████| 19/19 [00:01<00:00, 11.02it/s]\n"
          ]
        },
        {
          "name": "stdout",
          "output_type": "stream",
          "text": [
            "Epoch [17], last_lr: 0.00053, train_loss: 1.7313, val_loss: 1.7444, val_acc: 0.4900\n",
            "Saved new best model with accuracy: 0.49000000953674316%\n"
          ]
        },
        {
          "name": "stderr",
          "output_type": "stream",
          "text": [
            "Epoch 18 Training: 100%|██████████| 75/75 [00:13<00:00,  5.72it/s]\n",
            "Epoch 18 Validation: 100%|██████████| 19/19 [00:01<00:00, 10.78it/s]\n"
          ]
        },
        {
          "name": "stdout",
          "output_type": "stream",
          "text": [
            "Epoch [18], last_lr: 0.00057, train_loss: 1.7070, val_loss: 1.6956, val_acc: 0.4600\n"
          ]
        },
        {
          "name": "stderr",
          "output_type": "stream",
          "text": [
            "Epoch 19 Training: 100%|██████████| 75/75 [00:12<00:00,  5.82it/s]\n",
            "Epoch 19 Validation: 100%|██████████| 19/19 [00:01<00:00, 10.93it/s]\n"
          ]
        },
        {
          "name": "stdout",
          "output_type": "stream",
          "text": [
            "Epoch [19], last_lr: 0.00061, train_loss: 1.7331, val_loss: 1.7278, val_acc: 0.5133\n",
            "Saved new best model with accuracy: 0.5133333206176758%\n"
          ]
        },
        {
          "name": "stderr",
          "output_type": "stream",
          "text": [
            "Epoch 20 Training: 100%|██████████| 75/75 [00:13<00:00,  5.74it/s]\n",
            "Epoch 20 Validation: 100%|██████████| 19/19 [00:01<00:00, 10.27it/s]\n"
          ]
        },
        {
          "name": "stdout",
          "output_type": "stream",
          "text": [
            "Epoch [20], last_lr: 0.00066, train_loss: 1.7019, val_loss: 1.6083, val_acc: 0.5033\n"
          ]
        },
        {
          "name": "stderr",
          "output_type": "stream",
          "text": [
            "Epoch 21 Training: 100%|██████████| 75/75 [00:13<00:00,  5.74it/s]\n",
            "Epoch 21 Validation: 100%|██████████| 19/19 [00:01<00:00, 10.54it/s]\n"
          ]
        },
        {
          "name": "stdout",
          "output_type": "stream",
          "text": [
            "Epoch [21], last_lr: 0.00070, train_loss: 1.6600, val_loss: 1.4948, val_acc: 0.4933\n"
          ]
        },
        {
          "name": "stderr",
          "output_type": "stream",
          "text": [
            "Epoch 22 Training: 100%|██████████| 75/75 [00:12<00:00,  5.78it/s]\n",
            "Epoch 22 Validation: 100%|██████████| 19/19 [00:01<00:00, 11.15it/s]\n"
          ]
        },
        {
          "name": "stdout",
          "output_type": "stream",
          "text": [
            "Epoch [22], last_lr: 0.00075, train_loss: 1.6110, val_loss: 1.5400, val_acc: 0.5267\n",
            "Saved new best model with accuracy: 0.5266666412353516%\n"
          ]
        },
        {
          "name": "stderr",
          "output_type": "stream",
          "text": [
            "Epoch 23 Training: 100%|██████████| 75/75 [00:12<00:00,  5.86it/s]\n",
            "Epoch 23 Validation: 100%|██████████| 19/19 [00:01<00:00, 10.70it/s]\n"
          ]
        },
        {
          "name": "stdout",
          "output_type": "stream",
          "text": [
            "Epoch [23], last_lr: 0.00080, train_loss: 1.5719, val_loss: 1.5728, val_acc: 0.5400\n",
            "Saved new best model with accuracy: 0.5400000214576721%\n"
          ]
        },
        {
          "name": "stderr",
          "output_type": "stream",
          "text": [
            "Epoch 24 Training: 100%|██████████| 75/75 [00:12<00:00,  5.78it/s]\n",
            "Epoch 24 Validation: 100%|██████████| 19/19 [00:01<00:00, 10.79it/s]\n"
          ]
        },
        {
          "name": "stdout",
          "output_type": "stream",
          "text": [
            "Epoch [24], last_lr: 0.00086, train_loss: 1.5710, val_loss: 1.4031, val_acc: 0.5567\n",
            "Saved new best model with accuracy: 0.5566666722297668%\n"
          ]
        },
        {
          "name": "stderr",
          "output_type": "stream",
          "text": [
            "Epoch 25 Training: 100%|██████████| 75/75 [00:12<00:00,  5.83it/s]\n",
            "Epoch 25 Validation: 100%|██████████| 19/19 [00:01<00:00, 10.63it/s]\n"
          ]
        },
        {
          "name": "stdout",
          "output_type": "stream",
          "text": [
            "Epoch [25], last_lr: 0.00091, train_loss: 1.6242, val_loss: 1.3401, val_acc: 0.5767\n",
            "Saved new best model with accuracy: 0.5766666531562805%\n"
          ]
        },
        {
          "name": "stderr",
          "output_type": "stream",
          "text": [
            "Epoch 26 Training: 100%|██████████| 75/75 [00:12<00:00,  5.91it/s]\n",
            "Epoch 26 Validation: 100%|██████████| 19/19 [00:01<00:00, 10.85it/s]\n"
          ]
        },
        {
          "name": "stdout",
          "output_type": "stream",
          "text": [
            "Epoch [26], last_lr: 0.00097, train_loss: 1.5573, val_loss: 1.3937, val_acc: 0.5833\n",
            "Saved new best model with accuracy: 0.5833333134651184%\n"
          ]
        },
        {
          "name": "stderr",
          "output_type": "stream",
          "text": [
            "Epoch 27 Training: 100%|██████████| 75/75 [00:12<00:00,  5.84it/s]\n",
            "Epoch 27 Validation: 100%|██████████| 19/19 [00:01<00:00, 11.01it/s]\n"
          ]
        },
        {
          "name": "stdout",
          "output_type": "stream",
          "text": [
            "Epoch [27], last_lr: 0.00102, train_loss: 1.4705, val_loss: 1.4856, val_acc: 0.5567\n"
          ]
        },
        {
          "name": "stderr",
          "output_type": "stream",
          "text": [
            "Epoch 28 Training: 100%|██████████| 75/75 [00:12<00:00,  5.82it/s]\n",
            "Epoch 28 Validation: 100%|██████████| 19/19 [00:01<00:00, 10.99it/s]\n"
          ]
        },
        {
          "name": "stdout",
          "output_type": "stream",
          "text": [
            "Epoch [28], last_lr: 0.00108, train_loss: 1.4935, val_loss: 1.5516, val_acc: 0.5200\n"
          ]
        },
        {
          "name": "stderr",
          "output_type": "stream",
          "text": [
            "Epoch 29 Training: 100%|██████████| 75/75 [00:12<00:00,  5.87it/s]\n",
            "Epoch 29 Validation: 100%|██████████| 19/19 [00:01<00:00, 10.83it/s]\n"
          ]
        },
        {
          "name": "stdout",
          "output_type": "stream",
          "text": [
            "Epoch [29], last_lr: 0.00114, train_loss: 1.5044, val_loss: 1.3102, val_acc: 0.5633\n"
          ]
        },
        {
          "name": "stderr",
          "output_type": "stream",
          "text": [
            "Epoch 30 Training: 100%|██████████| 75/75 [00:12<00:00,  5.87it/s]\n",
            "Epoch 30 Validation: 100%|██████████| 19/19 [00:01<00:00, 10.18it/s]\n"
          ]
        },
        {
          "name": "stdout",
          "output_type": "stream",
          "text": [
            "Epoch [30], last_lr: 0.00121, train_loss: 1.4879, val_loss: 1.5049, val_acc: 0.5467\n"
          ]
        },
        {
          "name": "stderr",
          "output_type": "stream",
          "text": [
            "Epoch 31 Training: 100%|██████████| 75/75 [00:12<00:00,  5.86it/s]\n",
            "Epoch 31 Validation: 100%|██████████| 19/19 [00:01<00:00, 10.93it/s]\n"
          ]
        },
        {
          "name": "stdout",
          "output_type": "stream",
          "text": [
            "Epoch [31], last_lr: 0.00127, train_loss: 1.5193, val_loss: 1.6492, val_acc: 0.5200\n"
          ]
        },
        {
          "name": "stderr",
          "output_type": "stream",
          "text": [
            "Epoch 32 Training: 100%|██████████| 75/75 [00:12<00:00,  5.78it/s]\n",
            "Epoch 32 Validation: 100%|██████████| 19/19 [00:01<00:00, 11.07it/s]\n"
          ]
        },
        {
          "name": "stdout",
          "output_type": "stream",
          "text": [
            "Epoch [32], last_lr: 0.00133, train_loss: 1.4225, val_loss: 1.4523, val_acc: 0.5300\n"
          ]
        },
        {
          "name": "stderr",
          "output_type": "stream",
          "text": [
            "Epoch 33 Training: 100%|██████████| 75/75 [00:12<00:00,  5.86it/s]\n",
            "Epoch 33 Validation: 100%|██████████| 19/19 [00:01<00:00, 11.34it/s]\n"
          ]
        },
        {
          "name": "stdout",
          "output_type": "stream",
          "text": [
            "Epoch [33], last_lr: 0.00140, train_loss: 1.4225, val_loss: 1.3507, val_acc: 0.6000\n",
            "Saved new best model with accuracy: 0.6000000238418579%\n"
          ]
        },
        {
          "name": "stderr",
          "output_type": "stream",
          "text": [
            "Epoch 34 Training: 100%|██████████| 75/75 [00:12<00:00,  5.96it/s]\n",
            "Epoch 34 Validation: 100%|██████████| 19/19 [00:01<00:00, 10.87it/s]\n"
          ]
        },
        {
          "name": "stdout",
          "output_type": "stream",
          "text": [
            "Epoch [34], last_lr: 0.00146, train_loss: 1.4035, val_loss: 1.3457, val_acc: 0.5667\n"
          ]
        },
        {
          "name": "stderr",
          "output_type": "stream",
          "text": [
            "Epoch 35 Training: 100%|██████████| 75/75 [00:12<00:00,  5.96it/s]\n",
            "Epoch 35 Validation: 100%|██████████| 19/19 [00:01<00:00, 10.20it/s]\n"
          ]
        },
        {
          "name": "stdout",
          "output_type": "stream",
          "text": [
            "Epoch [35], last_lr: 0.00153, train_loss: 1.3930, val_loss: 1.3570, val_acc: 0.5567\n"
          ]
        },
        {
          "name": "stderr",
          "output_type": "stream",
          "text": [
            "Epoch 36 Training: 100%|██████████| 75/75 [00:12<00:00,  5.94it/s]\n",
            "Epoch 36 Validation: 100%|██████████| 19/19 [00:01<00:00, 10.89it/s]\n"
          ]
        },
        {
          "name": "stdout",
          "output_type": "stream",
          "text": [
            "Epoch [36], last_lr: 0.00160, train_loss: 1.3500, val_loss: 1.4185, val_acc: 0.5733\n"
          ]
        },
        {
          "name": "stderr",
          "output_type": "stream",
          "text": [
            "Epoch 37 Training: 100%|██████████| 75/75 [00:12<00:00,  5.93it/s]\n",
            "Epoch 37 Validation: 100%|██████████| 19/19 [00:01<00:00, 10.88it/s]\n"
          ]
        },
        {
          "name": "stdout",
          "output_type": "stream",
          "text": [
            "Epoch [37], last_lr: 0.00167, train_loss: 1.3750, val_loss: 1.4638, val_acc: 0.5267\n"
          ]
        },
        {
          "name": "stderr",
          "output_type": "stream",
          "text": [
            "Epoch 38 Training: 100%|██████████| 75/75 [00:12<00:00,  5.81it/s]\n",
            "Epoch 38 Validation: 100%|██████████| 19/19 [00:01<00:00, 11.17it/s]\n"
          ]
        },
        {
          "name": "stdout",
          "output_type": "stream",
          "text": [
            "Epoch [38], last_lr: 0.00174, train_loss: 1.3316, val_loss: 1.3887, val_acc: 0.5867\n"
          ]
        },
        {
          "name": "stderr",
          "output_type": "stream",
          "text": [
            "Epoch 39 Training: 100%|██████████| 75/75 [00:12<00:00,  5.94it/s]\n",
            "Epoch 39 Validation: 100%|██████████| 19/19 [00:01<00:00, 11.07it/s]\n"
          ]
        },
        {
          "name": "stdout",
          "output_type": "stream",
          "text": [
            "Epoch [39], last_lr: 0.00181, train_loss: 1.3348, val_loss: 1.1504, val_acc: 0.6433\n",
            "Saved new best model with accuracy: 0.6433333158493042%\n"
          ]
        },
        {
          "name": "stderr",
          "output_type": "stream",
          "text": [
            "Epoch 40 Training: 100%|██████████| 75/75 [00:12<00:00,  5.82it/s]\n",
            "Epoch 40 Validation: 100%|██████████| 19/19 [00:01<00:00, 10.53it/s]\n"
          ]
        },
        {
          "name": "stdout",
          "output_type": "stream",
          "text": [
            "Epoch [40], last_lr: 0.00188, train_loss: 1.4396, val_loss: 1.3649, val_acc: 0.5967\n"
          ]
        },
        {
          "name": "stderr",
          "output_type": "stream",
          "text": [
            "Epoch 41 Training: 100%|██████████| 75/75 [00:12<00:00,  5.84it/s]\n",
            "Epoch 41 Validation: 100%|██████████| 19/19 [00:01<00:00, 11.10it/s]\n"
          ]
        },
        {
          "name": "stdout",
          "output_type": "stream",
          "text": [
            "Epoch [41], last_lr: 0.00195, train_loss: 1.3119, val_loss: 1.5284, val_acc: 0.5433\n"
          ]
        },
        {
          "name": "stderr",
          "output_type": "stream",
          "text": [
            "Epoch 42 Training: 100%|██████████| 75/75 [00:12<00:00,  5.84it/s]\n",
            "Epoch 42 Validation: 100%|██████████| 19/19 [00:01<00:00, 10.62it/s]\n"
          ]
        },
        {
          "name": "stdout",
          "output_type": "stream",
          "text": [
            "Epoch [42], last_lr: 0.00202, train_loss: 1.3431, val_loss: 1.3925, val_acc: 0.6133\n"
          ]
        },
        {
          "name": "stderr",
          "output_type": "stream",
          "text": [
            "Epoch 43 Training: 100%|██████████| 75/75 [00:12<00:00,  5.85it/s]\n",
            "Epoch 43 Validation: 100%|██████████| 19/19 [00:01<00:00, 10.99it/s]\n"
          ]
        },
        {
          "name": "stdout",
          "output_type": "stream",
          "text": [
            "Epoch [43], last_lr: 0.00209, train_loss: 1.3091, val_loss: 1.4888, val_acc: 0.5433\n"
          ]
        },
        {
          "name": "stderr",
          "output_type": "stream",
          "text": [
            "Epoch 44 Training: 100%|██████████| 75/75 [00:12<00:00,  5.83it/s]\n",
            "Epoch 44 Validation: 100%|██████████| 19/19 [00:01<00:00, 11.00it/s]\n"
          ]
        },
        {
          "name": "stdout",
          "output_type": "stream",
          "text": [
            "Epoch [44], last_lr: 0.00217, train_loss: 1.3011, val_loss: 1.4252, val_acc: 0.5767\n"
          ]
        },
        {
          "name": "stderr",
          "output_type": "stream",
          "text": [
            "Epoch 45 Training: 100%|██████████| 75/75 [00:12<00:00,  5.90it/s]\n",
            "Epoch 45 Validation: 100%|██████████| 19/19 [00:01<00:00, 10.57it/s]\n"
          ]
        },
        {
          "name": "stdout",
          "output_type": "stream",
          "text": [
            "Epoch [45], last_lr: 0.00224, train_loss: 1.3017, val_loss: 1.4472, val_acc: 0.5600\n"
          ]
        },
        {
          "name": "stderr",
          "output_type": "stream",
          "text": [
            "Epoch 46 Training: 100%|██████████| 75/75 [00:12<00:00,  5.81it/s]\n",
            "Epoch 46 Validation: 100%|██████████| 19/19 [00:01<00:00, 10.77it/s]\n"
          ]
        },
        {
          "name": "stdout",
          "output_type": "stream",
          "text": [
            "Epoch [46], last_lr: 0.00231, train_loss: 1.2721, val_loss: 1.3884, val_acc: 0.5633\n"
          ]
        },
        {
          "name": "stderr",
          "output_type": "stream",
          "text": [
            "Epoch 47 Training: 100%|██████████| 75/75 [00:12<00:00,  5.82it/s]\n",
            "Epoch 47 Validation: 100%|██████████| 19/19 [00:01<00:00, 10.94it/s]\n"
          ]
        },
        {
          "name": "stdout",
          "output_type": "stream",
          "text": [
            "Epoch [47], last_lr: 0.00238, train_loss: 1.3209, val_loss: 1.5459, val_acc: 0.5567\n"
          ]
        },
        {
          "name": "stderr",
          "output_type": "stream",
          "text": [
            "Epoch 48 Training: 100%|██████████| 75/75 [00:12<00:00,  5.89it/s]\n",
            "Epoch 48 Validation: 100%|██████████| 19/19 [00:01<00:00, 10.79it/s]\n"
          ]
        },
        {
          "name": "stdout",
          "output_type": "stream",
          "text": [
            "Epoch [48], last_lr: 0.00246, train_loss: 1.2793, val_loss: 1.2879, val_acc: 0.5967\n"
          ]
        },
        {
          "name": "stderr",
          "output_type": "stream",
          "text": [
            "Epoch 49 Training: 100%|██████████| 75/75 [00:12<00:00,  5.91it/s]\n",
            "Epoch 49 Validation: 100%|██████████| 19/19 [00:01<00:00, 11.09it/s]\n"
          ]
        },
        {
          "name": "stdout",
          "output_type": "stream",
          "text": [
            "Epoch [49], last_lr: 0.00253, train_loss: 1.2392, val_loss: 1.2112, val_acc: 0.6400\n"
          ]
        },
        {
          "name": "stderr",
          "output_type": "stream",
          "text": [
            "Epoch 50 Training: 100%|██████████| 75/75 [00:12<00:00,  5.91it/s]\n",
            "Epoch 50 Validation: 100%|██████████| 19/19 [00:01<00:00, 11.00it/s]\n"
          ]
        },
        {
          "name": "stdout",
          "output_type": "stream",
          "text": [
            "Epoch [50], last_lr: 0.00260, train_loss: 1.2736, val_loss: 1.3830, val_acc: 0.5900\n"
          ]
        },
        {
          "name": "stderr",
          "output_type": "stream",
          "text": [
            "Epoch 51 Training: 100%|██████████| 75/75 [00:12<00:00,  5.80it/s]\n",
            "Epoch 51 Validation: 100%|██████████| 19/19 [00:01<00:00, 10.63it/s]\n"
          ]
        },
        {
          "name": "stdout",
          "output_type": "stream",
          "text": [
            "Epoch [51], last_lr: 0.00267, train_loss: 1.2315, val_loss: 1.3646, val_acc: 0.5900\n"
          ]
        },
        {
          "name": "stderr",
          "output_type": "stream",
          "text": [
            "Epoch 52 Training: 100%|██████████| 75/75 [00:12<00:00,  5.93it/s]\n",
            "Epoch 52 Validation: 100%|██████████| 19/19 [00:01<00:00, 10.91it/s]\n"
          ]
        },
        {
          "name": "stdout",
          "output_type": "stream",
          "text": [
            "Epoch [52], last_lr: 0.00274, train_loss: 1.2896, val_loss: 1.2822, val_acc: 0.5933\n"
          ]
        },
        {
          "name": "stderr",
          "output_type": "stream",
          "text": [
            "Epoch 53 Training: 100%|██████████| 75/75 [00:12<00:00,  5.87it/s]\n",
            "Epoch 53 Validation: 100%|██████████| 19/19 [00:01<00:00, 10.73it/s]\n"
          ]
        },
        {
          "name": "stdout",
          "output_type": "stream",
          "text": [
            "Epoch [53], last_lr: 0.00281, train_loss: 1.2338, val_loss: 1.2545, val_acc: 0.6133\n"
          ]
        },
        {
          "name": "stderr",
          "output_type": "stream",
          "text": [
            "Epoch 54 Training: 100%|██████████| 75/75 [00:12<00:00,  6.00it/s]\n",
            "Epoch 54 Validation: 100%|██████████| 19/19 [00:01<00:00, 10.72it/s]\n"
          ]
        },
        {
          "name": "stdout",
          "output_type": "stream",
          "text": [
            "Epoch [54], last_lr: 0.00288, train_loss: 1.2180, val_loss: 1.3361, val_acc: 0.5933\n"
          ]
        },
        {
          "name": "stderr",
          "output_type": "stream",
          "text": [
            "Epoch 55 Training: 100%|██████████| 75/75 [00:12<00:00,  5.99it/s]\n",
            "Epoch 55 Validation: 100%|██████████| 19/19 [00:01<00:00, 10.99it/s]\n"
          ]
        },
        {
          "name": "stdout",
          "output_type": "stream",
          "text": [
            "Epoch [55], last_lr: 0.00295, train_loss: 1.1449, val_loss: 1.4579, val_acc: 0.5867\n"
          ]
        },
        {
          "name": "stderr",
          "output_type": "stream",
          "text": [
            "Epoch 56 Training: 100%|██████████| 75/75 [00:12<00:00,  5.93it/s]\n",
            "Epoch 56 Validation: 100%|██████████| 19/19 [00:01<00:00, 10.51it/s]\n"
          ]
        },
        {
          "name": "stdout",
          "output_type": "stream",
          "text": [
            "Epoch [56], last_lr: 0.00301, train_loss: 1.2290, val_loss: 1.1892, val_acc: 0.6333\n"
          ]
        },
        {
          "name": "stderr",
          "output_type": "stream",
          "text": [
            "Epoch 57 Training: 100%|██████████| 75/75 [00:13<00:00,  5.77it/s]\n",
            "Epoch 57 Validation: 100%|██████████| 19/19 [00:01<00:00, 10.77it/s]\n"
          ]
        },
        {
          "name": "stdout",
          "output_type": "stream",
          "text": [
            "Epoch [57], last_lr: 0.00308, train_loss: 1.2099, val_loss: 1.1618, val_acc: 0.6200\n"
          ]
        },
        {
          "name": "stderr",
          "output_type": "stream",
          "text": [
            "Epoch 58 Training: 100%|██████████| 75/75 [00:12<00:00,  5.95it/s]\n",
            "Epoch 58 Validation: 100%|██████████| 19/19 [00:01<00:00, 10.88it/s]\n"
          ]
        },
        {
          "name": "stdout",
          "output_type": "stream",
          "text": [
            "Epoch [58], last_lr: 0.00314, train_loss: 1.1994, val_loss: 1.1396, val_acc: 0.6467\n",
            "Saved new best model with accuracy: 0.6466666460037231%\n"
          ]
        },
        {
          "name": "stderr",
          "output_type": "stream",
          "text": [
            "Epoch 59 Training: 100%|██████████| 75/75 [00:12<00:00,  5.94it/s]\n",
            "Epoch 59 Validation: 100%|██████████| 19/19 [00:01<00:00, 10.87it/s]\n"
          ]
        },
        {
          "name": "stdout",
          "output_type": "stream",
          "text": [
            "Epoch [59], last_lr: 0.00321, train_loss: 1.1134, val_loss: 1.3251, val_acc: 0.6133\n"
          ]
        },
        {
          "name": "stderr",
          "output_type": "stream",
          "text": [
            "Epoch 60 Training: 100%|██████████| 75/75 [00:12<00:00,  5.94it/s]\n",
            "Epoch 60 Validation: 100%|██████████| 19/19 [00:01<00:00, 10.83it/s]\n"
          ]
        },
        {
          "name": "stdout",
          "output_type": "stream",
          "text": [
            "Epoch [60], last_lr: 0.00327, train_loss: 1.1505, val_loss: 1.1438, val_acc: 0.6233\n"
          ]
        },
        {
          "name": "stderr",
          "output_type": "stream",
          "text": [
            "Epoch 61 Training: 100%|██████████| 75/75 [00:12<00:00,  5.88it/s]\n",
            "Epoch 61 Validation: 100%|██████████| 19/19 [00:01<00:00, 10.49it/s]\n"
          ]
        },
        {
          "name": "stdout",
          "output_type": "stream",
          "text": [
            "Epoch [61], last_lr: 0.00333, train_loss: 1.1826, val_loss: 1.2103, val_acc: 0.6033\n"
          ]
        },
        {
          "name": "stderr",
          "output_type": "stream",
          "text": [
            "Epoch 62 Training: 100%|██████████| 75/75 [00:12<00:00,  5.94it/s]\n",
            "Epoch 62 Validation: 100%|██████████| 19/19 [00:01<00:00, 10.96it/s]\n"
          ]
        },
        {
          "name": "stdout",
          "output_type": "stream",
          "text": [
            "Epoch [62], last_lr: 0.00339, train_loss: 1.1280, val_loss: 1.3993, val_acc: 0.6133\n"
          ]
        },
        {
          "name": "stderr",
          "output_type": "stream",
          "text": [
            "Epoch 63 Training: 100%|██████████| 75/75 [00:12<00:00,  5.78it/s]\n",
            "Epoch 63 Validation: 100%|██████████| 19/19 [00:01<00:00, 10.39it/s]\n"
          ]
        },
        {
          "name": "stdout",
          "output_type": "stream",
          "text": [
            "Epoch [63], last_lr: 0.00345, train_loss: 1.1115, val_loss: 1.3482, val_acc: 0.5967\n"
          ]
        },
        {
          "name": "stderr",
          "output_type": "stream",
          "text": [
            "Epoch 64 Training: 100%|██████████| 75/75 [00:12<00:00,  5.80it/s]\n",
            "Epoch 64 Validation: 100%|██████████| 19/19 [00:01<00:00, 10.52it/s]\n"
          ]
        },
        {
          "name": "stdout",
          "output_type": "stream",
          "text": [
            "Epoch [64], last_lr: 0.00351, train_loss: 1.1333, val_loss: 1.3057, val_acc: 0.6300\n"
          ]
        },
        {
          "name": "stderr",
          "output_type": "stream",
          "text": [
            "Epoch 65 Training: 100%|██████████| 75/75 [00:12<00:00,  5.99it/s]\n",
            "Epoch 65 Validation: 100%|██████████| 19/19 [00:01<00:00, 11.10it/s]\n"
          ]
        },
        {
          "name": "stdout",
          "output_type": "stream",
          "text": [
            "Epoch [65], last_lr: 0.00357, train_loss: 1.1074, val_loss: 1.4152, val_acc: 0.5833\n"
          ]
        },
        {
          "name": "stderr",
          "output_type": "stream",
          "text": [
            "Epoch 66 Training: 100%|██████████| 75/75 [00:12<00:00,  5.90it/s]\n",
            "Epoch 66 Validation: 100%|██████████| 19/19 [00:01<00:00, 10.72it/s]\n"
          ]
        },
        {
          "name": "stdout",
          "output_type": "stream",
          "text": [
            "Epoch [66], last_lr: 0.00362, train_loss: 1.1093, val_loss: 1.1002, val_acc: 0.6433\n"
          ]
        },
        {
          "name": "stderr",
          "output_type": "stream",
          "text": [
            "Epoch 67 Training: 100%|██████████| 75/75 [00:13<00:00,  5.72it/s]\n",
            "Epoch 67 Validation: 100%|██████████| 19/19 [00:01<00:00, 10.88it/s]\n"
          ]
        },
        {
          "name": "stdout",
          "output_type": "stream",
          "text": [
            "Epoch [67], last_lr: 0.00367, train_loss: 1.1492, val_loss: 1.2914, val_acc: 0.5867\n"
          ]
        },
        {
          "name": "stderr",
          "output_type": "stream",
          "text": [
            "Epoch 68 Training: 100%|██████████| 75/75 [00:12<00:00,  5.79it/s]\n",
            "Epoch 68 Validation: 100%|██████████| 19/19 [00:01<00:00, 10.92it/s]\n"
          ]
        },
        {
          "name": "stdout",
          "output_type": "stream",
          "text": [
            "Epoch [68], last_lr: 0.00373, train_loss: 1.0780, val_loss: 1.3327, val_acc: 0.6233\n"
          ]
        },
        {
          "name": "stderr",
          "output_type": "stream",
          "text": [
            "Epoch 69 Training: 100%|██████████| 75/75 [00:13<00:00,  5.73it/s]\n",
            "Epoch 69 Validation: 100%|██████████| 19/19 [00:01<00:00, 10.96it/s]\n"
          ]
        },
        {
          "name": "stdout",
          "output_type": "stream",
          "text": [
            "Epoch [69], last_lr: 0.00377, train_loss: 1.1108, val_loss: 1.2156, val_acc: 0.6100\n"
          ]
        },
        {
          "name": "stderr",
          "output_type": "stream",
          "text": [
            "Epoch 70 Training: 100%|██████████| 75/75 [00:12<00:00,  5.80it/s]\n",
            "Epoch 70 Validation: 100%|██████████| 19/19 [00:01<00:00, 10.86it/s]\n"
          ]
        },
        {
          "name": "stdout",
          "output_type": "stream",
          "text": [
            "Epoch [70], last_lr: 0.00382, train_loss: 1.0509, val_loss: 1.4468, val_acc: 0.5733\n"
          ]
        },
        {
          "name": "stderr",
          "output_type": "stream",
          "text": [
            "Epoch 71 Training: 100%|██████████| 75/75 [00:12<00:00,  5.93it/s]\n",
            "Epoch 71 Validation: 100%|██████████| 19/19 [00:01<00:00, 10.51it/s]\n"
          ]
        },
        {
          "name": "stdout",
          "output_type": "stream",
          "text": [
            "Epoch [71], last_lr: 0.00387, train_loss: 1.0836, val_loss: 1.5288, val_acc: 0.5567\n"
          ]
        },
        {
          "name": "stderr",
          "output_type": "stream",
          "text": [
            "Epoch 72 Training: 100%|██████████| 75/75 [00:12<00:00,  5.96it/s]\n",
            "Epoch 72 Validation: 100%|██████████| 19/19 [00:01<00:00, 11.09it/s]\n"
          ]
        },
        {
          "name": "stdout",
          "output_type": "stream",
          "text": [
            "Epoch [72], last_lr: 0.00391, train_loss: 1.0282, val_loss: 1.1042, val_acc: 0.6800\n",
            "Saved new best model with accuracy: 0.6800000071525574%\n"
          ]
        },
        {
          "name": "stderr",
          "output_type": "stream",
          "text": [
            "Epoch 73 Training: 100%|██████████| 75/75 [00:12<00:00,  5.86it/s]\n",
            "Epoch 73 Validation: 100%|██████████| 19/19 [00:01<00:00, 11.21it/s]\n"
          ]
        },
        {
          "name": "stdout",
          "output_type": "stream",
          "text": [
            "Epoch [73], last_lr: 0.00395, train_loss: 1.0520, val_loss: 1.4121, val_acc: 0.5800\n"
          ]
        },
        {
          "name": "stderr",
          "output_type": "stream",
          "text": [
            "Epoch 74 Training: 100%|██████████| 75/75 [00:12<00:00,  5.90it/s]\n",
            "Epoch 74 Validation: 100%|██████████| 19/19 [00:01<00:00, 10.86it/s]\n"
          ]
        },
        {
          "name": "stdout",
          "output_type": "stream",
          "text": [
            "Epoch [74], last_lr: 0.00399, train_loss: 1.0836, val_loss: 1.2915, val_acc: 0.6567\n"
          ]
        },
        {
          "name": "stderr",
          "output_type": "stream",
          "text": [
            "Epoch 75 Training: 100%|██████████| 75/75 [00:12<00:00,  5.95it/s]\n",
            "Epoch 75 Validation: 100%|██████████| 19/19 [00:01<00:00, 10.89it/s]\n"
          ]
        },
        {
          "name": "stdout",
          "output_type": "stream",
          "text": [
            "Epoch [75], last_lr: 0.00403, train_loss: 1.0633, val_loss: 1.0717, val_acc: 0.6767\n"
          ]
        },
        {
          "name": "stderr",
          "output_type": "stream",
          "text": [
            "Epoch 76 Training: 100%|██████████| 75/75 [00:12<00:00,  5.86it/s]\n",
            "Epoch 76 Validation: 100%|██████████| 19/19 [00:01<00:00, 10.60it/s]\n"
          ]
        },
        {
          "name": "stdout",
          "output_type": "stream",
          "text": [
            "Epoch [76], last_lr: 0.00406, train_loss: 0.9904, val_loss: 1.1894, val_acc: 0.6133\n"
          ]
        },
        {
          "name": "stderr",
          "output_type": "stream",
          "text": [
            "Epoch 77 Training: 100%|██████████| 75/75 [00:12<00:00,  5.85it/s]\n",
            "Epoch 77 Validation: 100%|██████████| 19/19 [00:01<00:00, 10.65it/s]\n"
          ]
        },
        {
          "name": "stdout",
          "output_type": "stream",
          "text": [
            "Epoch [77], last_lr: 0.00410, train_loss: 0.9915, val_loss: 1.1743, val_acc: 0.6433\n"
          ]
        },
        {
          "name": "stderr",
          "output_type": "stream",
          "text": [
            "Epoch 78 Training: 100%|██████████| 75/75 [00:12<00:00,  5.90it/s]\n",
            "Epoch 78 Validation: 100%|██████████| 19/19 [00:01<00:00, 10.50it/s]\n"
          ]
        },
        {
          "name": "stdout",
          "output_type": "stream",
          "text": [
            "Epoch [78], last_lr: 0.00413, train_loss: 1.0505, val_loss: 1.4986, val_acc: 0.5800\n"
          ]
        },
        {
          "name": "stderr",
          "output_type": "stream",
          "text": [
            "Epoch 79 Training: 100%|██████████| 75/75 [00:12<00:00,  5.83it/s]\n",
            "Epoch 79 Validation: 100%|██████████| 19/19 [00:01<00:00, 11.02it/s]\n"
          ]
        },
        {
          "name": "stdout",
          "output_type": "stream",
          "text": [
            "Epoch [79], last_lr: 0.00415, train_loss: 0.9870, val_loss: 1.1514, val_acc: 0.6600\n"
          ]
        },
        {
          "name": "stderr",
          "output_type": "stream",
          "text": [
            "Epoch 80 Training: 100%|██████████| 75/75 [00:12<00:00,  5.95it/s]\n",
            "Epoch 80 Validation: 100%|██████████| 19/19 [00:01<00:00, 10.75it/s]\n"
          ]
        },
        {
          "name": "stdout",
          "output_type": "stream",
          "text": [
            "Epoch [80], last_lr: 0.00418, train_loss: 0.9638, val_loss: 1.1385, val_acc: 0.6867\n",
            "Saved new best model with accuracy: 0.6866666674613953%\n"
          ]
        },
        {
          "name": "stderr",
          "output_type": "stream",
          "text": [
            "Epoch 81 Training: 100%|██████████| 75/75 [00:12<00:00,  5.80it/s]\n",
            "Epoch 81 Validation: 100%|██████████| 19/19 [00:01<00:00,  9.96it/s]\n"
          ]
        },
        {
          "name": "stdout",
          "output_type": "stream",
          "text": [
            "Epoch [81], last_lr: 0.00420, train_loss: 1.0205, val_loss: 1.0395, val_acc: 0.6833\n"
          ]
        },
        {
          "name": "stderr",
          "output_type": "stream",
          "text": [
            "Epoch 82 Training: 100%|██████████| 75/75 [00:12<00:00,  5.83it/s]\n",
            "Epoch 82 Validation: 100%|██████████| 19/19 [00:01<00:00, 10.59it/s]\n"
          ]
        },
        {
          "name": "stdout",
          "output_type": "stream",
          "text": [
            "Epoch [82], last_lr: 0.00423, train_loss: 0.9543, val_loss: 1.0942, val_acc: 0.7000\n",
            "Saved new best model with accuracy: 0.699999988079071%\n"
          ]
        },
        {
          "name": "stderr",
          "output_type": "stream",
          "text": [
            "Epoch 83 Training: 100%|██████████| 75/75 [00:12<00:00,  5.94it/s]\n",
            "Epoch 83 Validation: 100%|██████████| 19/19 [00:01<00:00, 11.11it/s]\n"
          ]
        },
        {
          "name": "stdout",
          "output_type": "stream",
          "text": [
            "Epoch [83], last_lr: 0.00424, train_loss: 0.9262, val_loss: 1.1826, val_acc: 0.6700\n"
          ]
        },
        {
          "name": "stderr",
          "output_type": "stream",
          "text": [
            "Epoch 84 Training: 100%|██████████| 75/75 [00:12<00:00,  5.91it/s]\n",
            "Epoch 84 Validation: 100%|██████████| 19/19 [00:01<00:00, 10.90it/s]\n"
          ]
        },
        {
          "name": "stdout",
          "output_type": "stream",
          "text": [
            "Epoch [84], last_lr: 0.00426, train_loss: 0.9919, val_loss: 1.2344, val_acc: 0.6300\n"
          ]
        },
        {
          "name": "stderr",
          "output_type": "stream",
          "text": [
            "Epoch 85 Training: 100%|██████████| 75/75 [00:13<00:00,  5.77it/s]\n",
            "Epoch 85 Validation: 100%|██████████| 19/19 [00:01<00:00, 10.94it/s]\n"
          ]
        },
        {
          "name": "stdout",
          "output_type": "stream",
          "text": [
            "Epoch [85], last_lr: 0.00427, train_loss: 0.9821, val_loss: 1.2487, val_acc: 0.6233\n"
          ]
        },
        {
          "name": "stderr",
          "output_type": "stream",
          "text": [
            "Epoch 86 Training: 100%|██████████| 75/75 [00:12<00:00,  5.83it/s]\n",
            "Epoch 86 Validation: 100%|██████████| 19/19 [00:01<00:00, 10.97it/s]\n"
          ]
        },
        {
          "name": "stdout",
          "output_type": "stream",
          "text": [
            "Epoch [86], last_lr: 0.00428, train_loss: 0.9905, val_loss: 1.2562, val_acc: 0.6367\n"
          ]
        },
        {
          "name": "stderr",
          "output_type": "stream",
          "text": [
            "Epoch 87 Training: 100%|██████████| 75/75 [00:12<00:00,  6.01it/s]\n",
            "Epoch 87 Validation: 100%|██████████| 19/19 [00:01<00:00, 10.31it/s]\n"
          ]
        },
        {
          "name": "stdout",
          "output_type": "stream",
          "text": [
            "Epoch [87], last_lr: 0.00429, train_loss: 0.9897, val_loss: 1.0721, val_acc: 0.6867\n"
          ]
        },
        {
          "name": "stderr",
          "output_type": "stream",
          "text": [
            "Epoch 88 Training: 100%|██████████| 75/75 [00:12<00:00,  5.87it/s]\n",
            "Epoch 88 Validation: 100%|██████████| 19/19 [00:01<00:00, 10.83it/s]\n"
          ]
        },
        {
          "name": "stdout",
          "output_type": "stream",
          "text": [
            "Epoch [88], last_lr: 0.00430, train_loss: 0.9427, val_loss: 1.0726, val_acc: 0.6767\n"
          ]
        },
        {
          "name": "stderr",
          "output_type": "stream",
          "text": [
            "Epoch 89 Training: 100%|██████████| 75/75 [00:12<00:00,  5.96it/s]\n",
            "Epoch 89 Validation: 100%|██████████| 19/19 [00:01<00:00, 11.14it/s]\n"
          ]
        },
        {
          "name": "stdout",
          "output_type": "stream",
          "text": [
            "Epoch [89], last_lr: 0.00430, train_loss: 0.8834, val_loss: 1.1759, val_acc: 0.6567\n"
          ]
        },
        {
          "name": "stderr",
          "output_type": "stream",
          "text": [
            "Epoch 90 Training: 100%|██████████| 75/75 [00:12<00:00,  6.02it/s]\n",
            "Epoch 90 Validation: 100%|██████████| 19/19 [00:01<00:00, 10.89it/s]\n"
          ]
        },
        {
          "name": "stdout",
          "output_type": "stream",
          "text": [
            "Epoch [90], last_lr: 0.00430, train_loss: 0.8878, val_loss: 1.4628, val_acc: 0.6367\n"
          ]
        },
        {
          "name": "stderr",
          "output_type": "stream",
          "text": [
            "Epoch 91 Training: 100%|██████████| 75/75 [00:12<00:00,  6.06it/s]\n",
            "Epoch 91 Validation: 100%|██████████| 19/19 [00:01<00:00, 11.07it/s]\n"
          ]
        },
        {
          "name": "stdout",
          "output_type": "stream",
          "text": [
            "Epoch [91], last_lr: 0.00430, train_loss: 0.8900, val_loss: 1.0575, val_acc: 0.6833\n"
          ]
        },
        {
          "name": "stderr",
          "output_type": "stream",
          "text": [
            "Epoch 92 Training: 100%|██████████| 75/75 [00:12<00:00,  5.95it/s]\n",
            "Epoch 92 Validation: 100%|██████████| 19/19 [00:01<00:00, 11.07it/s]\n"
          ]
        },
        {
          "name": "stdout",
          "output_type": "stream",
          "text": [
            "Epoch [92], last_lr: 0.00430, train_loss: 0.9674, val_loss: 1.1807, val_acc: 0.6467\n"
          ]
        },
        {
          "name": "stderr",
          "output_type": "stream",
          "text": [
            "Epoch 93 Training: 100%|██████████| 75/75 [00:12<00:00,  5.91it/s]\n",
            "Epoch 93 Validation: 100%|██████████| 19/19 [00:01<00:00, 10.50it/s]\n"
          ]
        },
        {
          "name": "stdout",
          "output_type": "stream",
          "text": [
            "Epoch [93], last_lr: 0.00430, train_loss: 0.9420, val_loss: 1.2212, val_acc: 0.6700\n"
          ]
        },
        {
          "name": "stderr",
          "output_type": "stream",
          "text": [
            "Epoch 94 Training: 100%|██████████| 75/75 [00:12<00:00,  5.91it/s]\n",
            "Epoch 94 Validation: 100%|██████████| 19/19 [00:01<00:00, 10.79it/s]\n"
          ]
        },
        {
          "name": "stdout",
          "output_type": "stream",
          "text": [
            "Epoch [94], last_lr: 0.00430, train_loss: 0.9342, val_loss: 1.2910, val_acc: 0.6433\n"
          ]
        },
        {
          "name": "stderr",
          "output_type": "stream",
          "text": [
            "Epoch 95 Training: 100%|██████████| 75/75 [00:12<00:00,  5.90it/s]\n",
            "Epoch 95 Validation: 100%|██████████| 19/19 [00:01<00:00, 10.91it/s]\n"
          ]
        },
        {
          "name": "stdout",
          "output_type": "stream",
          "text": [
            "Epoch [95], last_lr: 0.00430, train_loss: 0.9228, val_loss: 1.1999, val_acc: 0.6700\n"
          ]
        },
        {
          "name": "stderr",
          "output_type": "stream",
          "text": [
            "Epoch 96 Training: 100%|██████████| 75/75 [00:12<00:00,  5.82it/s]\n",
            "Epoch 96 Validation: 100%|██████████| 19/19 [00:01<00:00, 11.19it/s]\n"
          ]
        },
        {
          "name": "stdout",
          "output_type": "stream",
          "text": [
            "Epoch [96], last_lr: 0.00430, train_loss: 0.9013, val_loss: 1.2263, val_acc: 0.6367\n"
          ]
        },
        {
          "name": "stderr",
          "output_type": "stream",
          "text": [
            "Epoch 97 Training: 100%|██████████| 75/75 [00:12<00:00,  5.87it/s]\n",
            "Epoch 97 Validation: 100%|██████████| 19/19 [00:01<00:00, 10.92it/s]\n"
          ]
        },
        {
          "name": "stdout",
          "output_type": "stream",
          "text": [
            "Epoch [97], last_lr: 0.00429, train_loss: 0.9532, val_loss: 1.1949, val_acc: 0.6733\n"
          ]
        },
        {
          "name": "stderr",
          "output_type": "stream",
          "text": [
            "Epoch 98 Training: 100%|██████████| 75/75 [00:12<00:00,  5.96it/s]\n",
            "Epoch 98 Validation: 100%|██████████| 19/19 [00:01<00:00, 10.56it/s]\n"
          ]
        },
        {
          "name": "stdout",
          "output_type": "stream",
          "text": [
            "Epoch [98], last_lr: 0.00429, train_loss: 0.8689, val_loss: 1.1041, val_acc: 0.6567\n"
          ]
        },
        {
          "name": "stderr",
          "output_type": "stream",
          "text": [
            "Epoch 99 Training: 100%|██████████| 75/75 [00:12<00:00,  5.79it/s]\n",
            "Epoch 99 Validation: 100%|██████████| 19/19 [00:01<00:00, 10.96it/s]\n"
          ]
        },
        {
          "name": "stdout",
          "output_type": "stream",
          "text": [
            "Epoch [99], last_lr: 0.00429, train_loss: 0.8918, val_loss: 1.4393, val_acc: 0.6100\n"
          ]
        },
        {
          "name": "stderr",
          "output_type": "stream",
          "text": [
            "Epoch 100 Training: 100%|██████████| 75/75 [00:12<00:00,  6.03it/s]\n",
            "Epoch 100 Validation: 100%|██████████| 19/19 [00:01<00:00, 10.75it/s]\n"
          ]
        },
        {
          "name": "stdout",
          "output_type": "stream",
          "text": [
            "Epoch [100], last_lr: 0.00428, train_loss: 0.8941, val_loss: 1.3500, val_acc: 0.6267\n"
          ]
        },
        {
          "name": "stderr",
          "output_type": "stream",
          "text": [
            "Epoch 101 Training: 100%|██████████| 75/75 [00:12<00:00,  5.85it/s]\n",
            "Epoch 101 Validation: 100%|██████████| 19/19 [00:01<00:00, 10.92it/s]\n"
          ]
        },
        {
          "name": "stdout",
          "output_type": "stream",
          "text": [
            "Epoch [101], last_lr: 0.00428, train_loss: 0.8285, val_loss: 1.2145, val_acc: 0.6400\n"
          ]
        },
        {
          "name": "stderr",
          "output_type": "stream",
          "text": [
            "Epoch 102 Training: 100%|██████████| 75/75 [00:12<00:00,  5.92it/s]\n",
            "Epoch 102 Validation: 100%|██████████| 19/19 [00:01<00:00, 11.03it/s]\n"
          ]
        },
        {
          "name": "stdout",
          "output_type": "stream",
          "text": [
            "Epoch [102], last_lr: 0.00427, train_loss: 0.8375, val_loss: 1.2944, val_acc: 0.6667\n"
          ]
        },
        {
          "name": "stderr",
          "output_type": "stream",
          "text": [
            "Epoch 103 Training: 100%|██████████| 75/75 [00:12<00:00,  5.91it/s]\n",
            "Epoch 103 Validation: 100%|██████████| 19/19 [00:01<00:00, 10.24it/s]\n"
          ]
        },
        {
          "name": "stdout",
          "output_type": "stream",
          "text": [
            "Epoch [103], last_lr: 0.00426, train_loss: 0.8940, val_loss: 1.1309, val_acc: 0.6700\n"
          ]
        },
        {
          "name": "stderr",
          "output_type": "stream",
          "text": [
            "Epoch 104 Training: 100%|██████████| 75/75 [00:13<00:00,  5.73it/s]\n",
            "Epoch 104 Validation: 100%|██████████| 19/19 [00:01<00:00, 10.06it/s]\n"
          ]
        },
        {
          "name": "stdout",
          "output_type": "stream",
          "text": [
            "Epoch [104], last_lr: 0.00426, train_loss: 0.9182, val_loss: 1.0572, val_acc: 0.6933\n"
          ]
        },
        {
          "name": "stderr",
          "output_type": "stream",
          "text": [
            "Epoch 105 Training: 100%|██████████| 75/75 [00:13<00:00,  5.73it/s]\n",
            "Epoch 105 Validation: 100%|██████████| 19/19 [00:01<00:00, 11.02it/s]\n"
          ]
        },
        {
          "name": "stdout",
          "output_type": "stream",
          "text": [
            "Epoch [105], last_lr: 0.00425, train_loss: 0.8391, val_loss: 1.1094, val_acc: 0.6633\n"
          ]
        },
        {
          "name": "stderr",
          "output_type": "stream",
          "text": [
            "Epoch 106 Training: 100%|██████████| 75/75 [00:13<00:00,  5.61it/s]\n",
            "Epoch 106 Validation: 100%|██████████| 19/19 [00:01<00:00, 10.66it/s]\n"
          ]
        },
        {
          "name": "stdout",
          "output_type": "stream",
          "text": [
            "Epoch [106], last_lr: 0.00424, train_loss: 0.8767, val_loss: 1.3032, val_acc: 0.6567\n"
          ]
        },
        {
          "name": "stderr",
          "output_type": "stream",
          "text": [
            "Epoch 107 Training: 100%|██████████| 75/75 [00:13<00:00,  5.68it/s]\n",
            "Epoch 107 Validation: 100%|██████████| 19/19 [00:01<00:00, 11.11it/s]\n"
          ]
        },
        {
          "name": "stdout",
          "output_type": "stream",
          "text": [
            "Epoch [107], last_lr: 0.00424, train_loss: 0.8670, val_loss: 1.2714, val_acc: 0.6967\n"
          ]
        },
        {
          "name": "stderr",
          "output_type": "stream",
          "text": [
            "Epoch 108 Training: 100%|██████████| 75/75 [00:12<00:00,  5.80it/s]\n",
            "Epoch 108 Validation: 100%|██████████| 19/19 [00:01<00:00, 10.70it/s]\n"
          ]
        },
        {
          "name": "stdout",
          "output_type": "stream",
          "text": [
            "Epoch [108], last_lr: 0.00423, train_loss: 0.8545, val_loss: 1.2452, val_acc: 0.6500\n"
          ]
        },
        {
          "name": "stderr",
          "output_type": "stream",
          "text": [
            "Epoch 109 Training: 100%|██████████| 75/75 [00:12<00:00,  5.93it/s]\n",
            "Epoch 109 Validation: 100%|██████████| 19/19 [00:01<00:00, 11.03it/s]\n"
          ]
        },
        {
          "name": "stdout",
          "output_type": "stream",
          "text": [
            "Epoch [109], last_lr: 0.00422, train_loss: 0.8418, val_loss: 1.1215, val_acc: 0.6867\n"
          ]
        },
        {
          "name": "stderr",
          "output_type": "stream",
          "text": [
            "Epoch 110 Training: 100%|██████████| 75/75 [00:12<00:00,  5.91it/s]\n",
            "Epoch 110 Validation: 100%|██████████| 19/19 [00:01<00:00, 11.02it/s]\n"
          ]
        },
        {
          "name": "stdout",
          "output_type": "stream",
          "text": [
            "Epoch [110], last_lr: 0.00421, train_loss: 0.7871, val_loss: 1.1316, val_acc: 0.6833\n"
          ]
        },
        {
          "name": "stderr",
          "output_type": "stream",
          "text": [
            "Epoch 111 Training: 100%|██████████| 75/75 [00:12<00:00,  5.89it/s]\n",
            "Epoch 111 Validation: 100%|██████████| 19/19 [00:01<00:00, 10.98it/s]\n"
          ]
        },
        {
          "name": "stdout",
          "output_type": "stream",
          "text": [
            "Epoch [111], last_lr: 0.00420, train_loss: 0.8585, val_loss: 1.1235, val_acc: 0.6667\n"
          ]
        },
        {
          "name": "stderr",
          "output_type": "stream",
          "text": [
            "Epoch 112 Training: 100%|██████████| 75/75 [00:12<00:00,  5.86it/s]\n",
            "Epoch 112 Validation: 100%|██████████| 19/19 [00:01<00:00, 10.98it/s]\n"
          ]
        },
        {
          "name": "stdout",
          "output_type": "stream",
          "text": [
            "Epoch [112], last_lr: 0.00419, train_loss: 0.7816, val_loss: 1.3095, val_acc: 0.6733\n"
          ]
        },
        {
          "name": "stderr",
          "output_type": "stream",
          "text": [
            "Epoch 113 Training: 100%|██████████| 75/75 [00:12<00:00,  5.85it/s]\n",
            "Epoch 113 Validation: 100%|██████████| 19/19 [00:01<00:00, 10.33it/s]\n"
          ]
        },
        {
          "name": "stdout",
          "output_type": "stream",
          "text": [
            "Epoch [113], last_lr: 0.00418, train_loss: 0.8383, val_loss: 1.2433, val_acc: 0.6667\n"
          ]
        },
        {
          "name": "stderr",
          "output_type": "stream",
          "text": [
            "Epoch 114 Training: 100%|██████████| 75/75 [00:12<00:00,  5.82it/s]\n",
            "Epoch 114 Validation: 100%|██████████| 19/19 [00:01<00:00, 11.06it/s]\n"
          ]
        },
        {
          "name": "stdout",
          "output_type": "stream",
          "text": [
            "Epoch [114], last_lr: 0.00417, train_loss: 0.7758, val_loss: 1.1697, val_acc: 0.6967\n"
          ]
        },
        {
          "name": "stderr",
          "output_type": "stream",
          "text": [
            "Epoch 115 Training: 100%|██████████| 75/75 [00:12<00:00,  5.83it/s]\n",
            "Epoch 115 Validation: 100%|██████████| 19/19 [00:01<00:00, 10.61it/s]\n"
          ]
        },
        {
          "name": "stdout",
          "output_type": "stream",
          "text": [
            "Epoch [115], last_lr: 0.00416, train_loss: 0.8049, val_loss: 1.3081, val_acc: 0.6400\n"
          ]
        },
        {
          "name": "stderr",
          "output_type": "stream",
          "text": [
            "Epoch 116 Training: 100%|██████████| 75/75 [00:12<00:00,  5.85it/s]\n",
            "Epoch 116 Validation: 100%|██████████| 19/19 [00:01<00:00, 10.99it/s]\n"
          ]
        },
        {
          "name": "stdout",
          "output_type": "stream",
          "text": [
            "Epoch [116], last_lr: 0.00414, train_loss: 0.8205, val_loss: 1.2450, val_acc: 0.6733\n"
          ]
        },
        {
          "name": "stderr",
          "output_type": "stream",
          "text": [
            "Epoch 117 Training: 100%|██████████| 75/75 [00:12<00:00,  5.79it/s]\n",
            "Epoch 117 Validation: 100%|██████████| 19/19 [00:01<00:00, 10.65it/s]\n"
          ]
        },
        {
          "name": "stdout",
          "output_type": "stream",
          "text": [
            "Epoch [117], last_lr: 0.00413, train_loss: 0.7917, val_loss: 1.3077, val_acc: 0.6400\n"
          ]
        },
        {
          "name": "stderr",
          "output_type": "stream",
          "text": [
            "Epoch 118 Training: 100%|██████████| 75/75 [00:12<00:00,  5.82it/s]\n",
            "Epoch 118 Validation: 100%|██████████| 19/19 [00:01<00:00, 10.43it/s]\n"
          ]
        },
        {
          "name": "stdout",
          "output_type": "stream",
          "text": [
            "Epoch [118], last_lr: 0.00412, train_loss: 0.8260, val_loss: 1.1587, val_acc: 0.6633\n"
          ]
        },
        {
          "name": "stderr",
          "output_type": "stream",
          "text": [
            "Epoch 119 Training: 100%|██████████| 75/75 [00:12<00:00,  5.84it/s]\n",
            "Epoch 119 Validation: 100%|██████████| 19/19 [00:01<00:00, 10.93it/s]\n"
          ]
        },
        {
          "name": "stdout",
          "output_type": "stream",
          "text": [
            "Epoch [119], last_lr: 0.00411, train_loss: 0.8124, val_loss: 1.2035, val_acc: 0.6567\n"
          ]
        },
        {
          "name": "stderr",
          "output_type": "stream",
          "text": [
            "Epoch 120 Training: 100%|██████████| 75/75 [00:12<00:00,  6.03it/s]\n",
            "Epoch 120 Validation: 100%|██████████| 19/19 [00:01<00:00, 10.89it/s]\n"
          ]
        },
        {
          "name": "stdout",
          "output_type": "stream",
          "text": [
            "Epoch [120], last_lr: 0.00409, train_loss: 0.8078, val_loss: 1.3027, val_acc: 0.6367\n"
          ]
        },
        {
          "name": "stderr",
          "output_type": "stream",
          "text": [
            "Epoch 121 Training: 100%|██████████| 75/75 [00:12<00:00,  5.94it/s]\n",
            "Epoch 121 Validation: 100%|██████████| 19/19 [00:01<00:00, 10.79it/s]\n"
          ]
        },
        {
          "name": "stdout",
          "output_type": "stream",
          "text": [
            "Epoch [121], last_lr: 0.00408, train_loss: 0.7141, val_loss: 1.0702, val_acc: 0.6700\n"
          ]
        },
        {
          "name": "stderr",
          "output_type": "stream",
          "text": [
            "Epoch 122 Training: 100%|██████████| 75/75 [00:12<00:00,  5.96it/s]\n",
            "Epoch 122 Validation: 100%|██████████| 19/19 [00:01<00:00, 10.98it/s]\n"
          ]
        },
        {
          "name": "stdout",
          "output_type": "stream",
          "text": [
            "Epoch [122], last_lr: 0.00406, train_loss: 0.7942, val_loss: 1.0788, val_acc: 0.6733\n"
          ]
        },
        {
          "name": "stderr",
          "output_type": "stream",
          "text": [
            "Epoch 123 Training: 100%|██████████| 75/75 [00:12<00:00,  5.94it/s]\n",
            "Epoch 123 Validation: 100%|██████████| 19/19 [00:01<00:00, 10.27it/s]\n"
          ]
        },
        {
          "name": "stdout",
          "output_type": "stream",
          "text": [
            "Epoch [123], last_lr: 0.00405, train_loss: 0.7596, val_loss: 1.2175, val_acc: 0.6767\n"
          ]
        },
        {
          "name": "stderr",
          "output_type": "stream",
          "text": [
            "Epoch 124 Training: 100%|██████████| 75/75 [00:12<00:00,  5.86it/s]\n",
            "Epoch 124 Validation: 100%|██████████| 19/19 [00:01<00:00, 10.80it/s]\n"
          ]
        },
        {
          "name": "stdout",
          "output_type": "stream",
          "text": [
            "Epoch [124], last_lr: 0.00403, train_loss: 0.7771, val_loss: 1.1019, val_acc: 0.6767\n"
          ]
        },
        {
          "name": "stderr",
          "output_type": "stream",
          "text": [
            "Epoch 125 Training: 100%|██████████| 75/75 [00:12<00:00,  5.89it/s]\n",
            "Epoch 125 Validation: 100%|██████████| 19/19 [00:01<00:00, 10.98it/s]\n"
          ]
        },
        {
          "name": "stdout",
          "output_type": "stream",
          "text": [
            "Epoch [125], last_lr: 0.00402, train_loss: 0.7872, val_loss: 1.2073, val_acc: 0.6867\n"
          ]
        },
        {
          "name": "stderr",
          "output_type": "stream",
          "text": [
            "Epoch 126 Training: 100%|██████████| 75/75 [00:12<00:00,  5.86it/s]\n",
            "Epoch 126 Validation: 100%|██████████| 19/19 [00:01<00:00, 11.11it/s]\n"
          ]
        },
        {
          "name": "stdout",
          "output_type": "stream",
          "text": [
            "Epoch [126], last_lr: 0.00400, train_loss: 0.7183, val_loss: 1.2283, val_acc: 0.6600\n"
          ]
        },
        {
          "name": "stderr",
          "output_type": "stream",
          "text": [
            "Epoch 127 Training: 100%|██████████| 75/75 [00:12<00:00,  5.82it/s]\n",
            "Epoch 127 Validation: 100%|██████████| 19/19 [00:01<00:00, 10.53it/s]\n"
          ]
        },
        {
          "name": "stdout",
          "output_type": "stream",
          "text": [
            "Epoch [127], last_lr: 0.00398, train_loss: 0.7557, val_loss: 1.0630, val_acc: 0.7367\n",
            "Saved new best model with accuracy: 0.7366666793823242%\n"
          ]
        },
        {
          "name": "stderr",
          "output_type": "stream",
          "text": [
            "Epoch 128 Training: 100%|██████████| 75/75 [00:12<00:00,  5.79it/s]\n",
            "Epoch 128 Validation: 100%|██████████| 19/19 [00:01<00:00, 10.67it/s]\n"
          ]
        },
        {
          "name": "stdout",
          "output_type": "stream",
          "text": [
            "Epoch [128], last_lr: 0.00397, train_loss: 0.7594, val_loss: 1.0722, val_acc: 0.6867\n"
          ]
        },
        {
          "name": "stderr",
          "output_type": "stream",
          "text": [
            "Epoch 129 Training: 100%|██████████| 75/75 [00:13<00:00,  5.76it/s]\n",
            "Epoch 129 Validation: 100%|██████████| 19/19 [00:01<00:00, 11.07it/s]\n"
          ]
        },
        {
          "name": "stdout",
          "output_type": "stream",
          "text": [
            "Epoch [129], last_lr: 0.00395, train_loss: 0.7834, val_loss: 1.2841, val_acc: 0.6633\n"
          ]
        },
        {
          "name": "stderr",
          "output_type": "stream",
          "text": [
            "Epoch 130 Training: 100%|██████████| 75/75 [00:12<00:00,  5.78it/s]\n",
            "Epoch 130 Validation: 100%|██████████| 19/19 [00:01<00:00, 11.01it/s]\n"
          ]
        },
        {
          "name": "stdout",
          "output_type": "stream",
          "text": [
            "Epoch [130], last_lr: 0.00393, train_loss: 0.7536, val_loss: 1.1735, val_acc: 0.6733\n"
          ]
        },
        {
          "name": "stderr",
          "output_type": "stream",
          "text": [
            "Epoch 131 Training: 100%|██████████| 75/75 [00:12<00:00,  6.01it/s]\n",
            "Epoch 131 Validation: 100%|██████████| 19/19 [00:01<00:00, 10.94it/s]\n"
          ]
        },
        {
          "name": "stdout",
          "output_type": "stream",
          "text": [
            "Epoch [131], last_lr: 0.00391, train_loss: 0.7686, val_loss: 1.0918, val_acc: 0.7000\n"
          ]
        },
        {
          "name": "stderr",
          "output_type": "stream",
          "text": [
            "Epoch 132 Training: 100%|██████████| 75/75 [00:12<00:00,  5.98it/s]\n",
            "Epoch 132 Validation: 100%|██████████| 19/19 [00:01<00:00, 11.02it/s]\n"
          ]
        },
        {
          "name": "stdout",
          "output_type": "stream",
          "text": [
            "Epoch [132], last_lr: 0.00389, train_loss: 0.7452, val_loss: 1.1794, val_acc: 0.6867\n"
          ]
        },
        {
          "name": "stderr",
          "output_type": "stream",
          "text": [
            "Epoch 133 Training: 100%|██████████| 75/75 [00:12<00:00,  5.93it/s]\n",
            "Epoch 133 Validation: 100%|██████████| 19/19 [00:01<00:00, 10.64it/s]\n"
          ]
        },
        {
          "name": "stdout",
          "output_type": "stream",
          "text": [
            "Epoch [133], last_lr: 0.00387, train_loss: 0.7279, val_loss: 1.2077, val_acc: 0.6833\n"
          ]
        },
        {
          "name": "stderr",
          "output_type": "stream",
          "text": [
            "Epoch 134 Training: 100%|██████████| 75/75 [00:12<00:00,  5.93it/s]\n",
            "Epoch 134 Validation: 100%|██████████| 19/19 [00:01<00:00, 10.83it/s]\n"
          ]
        },
        {
          "name": "stdout",
          "output_type": "stream",
          "text": [
            "Epoch [134], last_lr: 0.00385, train_loss: 0.6991, val_loss: 1.3367, val_acc: 0.6867\n"
          ]
        },
        {
          "name": "stderr",
          "output_type": "stream",
          "text": [
            "Epoch 135 Training: 100%|██████████| 75/75 [00:12<00:00,  6.00it/s]\n",
            "Epoch 135 Validation: 100%|██████████| 19/19 [00:01<00:00, 11.01it/s]\n"
          ]
        },
        {
          "name": "stdout",
          "output_type": "stream",
          "text": [
            "Epoch [135], last_lr: 0.00384, train_loss: 0.7943, val_loss: 1.6203, val_acc: 0.6100\n"
          ]
        },
        {
          "name": "stderr",
          "output_type": "stream",
          "text": [
            "Epoch 136 Training: 100%|██████████| 75/75 [00:12<00:00,  5.95it/s]\n",
            "Epoch 136 Validation: 100%|██████████| 19/19 [00:01<00:00, 11.23it/s]\n"
          ]
        },
        {
          "name": "stdout",
          "output_type": "stream",
          "text": [
            "Epoch [136], last_lr: 0.00381, train_loss: 0.7155, val_loss: 1.1616, val_acc: 0.6967\n"
          ]
        },
        {
          "name": "stderr",
          "output_type": "stream",
          "text": [
            "Epoch 137 Training: 100%|██████████| 75/75 [00:12<00:00,  5.91it/s]\n",
            "Epoch 137 Validation: 100%|██████████| 19/19 [00:01<00:00, 10.72it/s]\n"
          ]
        },
        {
          "name": "stdout",
          "output_type": "stream",
          "text": [
            "Epoch [137], last_lr: 0.00379, train_loss: 0.7018, val_loss: 1.2440, val_acc: 0.6633\n"
          ]
        },
        {
          "name": "stderr",
          "output_type": "stream",
          "text": [
            "Epoch 138 Training: 100%|██████████| 75/75 [00:12<00:00,  5.89it/s]\n",
            "Epoch 138 Validation: 100%|██████████| 19/19 [00:01<00:00, 10.86it/s]\n"
          ]
        },
        {
          "name": "stdout",
          "output_type": "stream",
          "text": [
            "Epoch [138], last_lr: 0.00377, train_loss: 0.7257, val_loss: 1.1083, val_acc: 0.6933\n"
          ]
        },
        {
          "name": "stderr",
          "output_type": "stream",
          "text": [
            "Epoch 139 Training: 100%|██████████| 75/75 [00:12<00:00,  6.03it/s]\n",
            "Epoch 139 Validation: 100%|██████████| 19/19 [00:01<00:00, 10.36it/s]\n"
          ]
        },
        {
          "name": "stdout",
          "output_type": "stream",
          "text": [
            "Epoch [139], last_lr: 0.00375, train_loss: 0.6881, val_loss: 1.7907, val_acc: 0.5800\n"
          ]
        },
        {
          "name": "stderr",
          "output_type": "stream",
          "text": [
            "Epoch 140 Training: 100%|██████████| 75/75 [00:12<00:00,  5.93it/s]\n",
            "Epoch 140 Validation: 100%|██████████| 19/19 [00:01<00:00, 10.94it/s]\n"
          ]
        },
        {
          "name": "stdout",
          "output_type": "stream",
          "text": [
            "Epoch [140], last_lr: 0.00373, train_loss: 0.7736, val_loss: 1.2428, val_acc: 0.6833\n"
          ]
        },
        {
          "name": "stderr",
          "output_type": "stream",
          "text": [
            "Epoch 141 Training: 100%|██████████| 75/75 [00:12<00:00,  5.93it/s]\n",
            "Epoch 141 Validation: 100%|██████████| 19/19 [00:01<00:00, 11.16it/s]\n"
          ]
        },
        {
          "name": "stdout",
          "output_type": "stream",
          "text": [
            "Epoch [141], last_lr: 0.00371, train_loss: 0.7164, val_loss: 1.2162, val_acc: 0.6733\n"
          ]
        },
        {
          "name": "stderr",
          "output_type": "stream",
          "text": [
            "Epoch 142 Training: 100%|██████████| 75/75 [00:12<00:00,  5.95it/s]\n",
            "Epoch 142 Validation: 100%|██████████| 19/19 [00:01<00:00, 10.91it/s]\n"
          ]
        },
        {
          "name": "stdout",
          "output_type": "stream",
          "text": [
            "Epoch [142], last_lr: 0.00369, train_loss: 0.7006, val_loss: 1.1370, val_acc: 0.7100\n"
          ]
        },
        {
          "name": "stderr",
          "output_type": "stream",
          "text": [
            "Epoch 143 Training: 100%|██████████| 75/75 [00:12<00:00,  5.91it/s]\n",
            "Epoch 143 Validation: 100%|██████████| 19/19 [00:01<00:00, 11.00it/s]\n"
          ]
        },
        {
          "name": "stdout",
          "output_type": "stream",
          "text": [
            "Epoch [143], last_lr: 0.00366, train_loss: 0.6862, val_loss: 1.1453, val_acc: 0.7133\n"
          ]
        },
        {
          "name": "stderr",
          "output_type": "stream",
          "text": [
            "Epoch 144 Training: 100%|██████████| 75/75 [00:12<00:00,  5.94it/s]\n",
            "Epoch 144 Validation: 100%|██████████| 19/19 [00:01<00:00, 10.86it/s]\n"
          ]
        },
        {
          "name": "stdout",
          "output_type": "stream",
          "text": [
            "Epoch [144], last_lr: 0.00364, train_loss: 0.7101, val_loss: 1.2369, val_acc: 0.6933\n"
          ]
        },
        {
          "name": "stderr",
          "output_type": "stream",
          "text": [
            "Epoch 145 Training: 100%|██████████| 75/75 [00:12<00:00,  5.82it/s]\n",
            "Epoch 145 Validation: 100%|██████████| 19/19 [00:01<00:00, 11.00it/s]\n"
          ]
        },
        {
          "name": "stdout",
          "output_type": "stream",
          "text": [
            "Epoch [145], last_lr: 0.00362, train_loss: 0.7148, val_loss: 1.1013, val_acc: 0.7433\n",
            "Saved new best model with accuracy: 0.7433333396911621%\n"
          ]
        },
        {
          "name": "stderr",
          "output_type": "stream",
          "text": [
            "Epoch 146 Training: 100%|██████████| 75/75 [00:12<00:00,  5.87it/s]\n",
            "Epoch 146 Validation: 100%|██████████| 19/19 [00:01<00:00, 11.17it/s]\n"
          ]
        },
        {
          "name": "stdout",
          "output_type": "stream",
          "text": [
            "Epoch [146], last_lr: 0.00359, train_loss: 0.6902, val_loss: 1.3241, val_acc: 0.6733\n"
          ]
        },
        {
          "name": "stderr",
          "output_type": "stream",
          "text": [
            "Epoch 147 Training: 100%|██████████| 75/75 [00:12<00:00,  5.95it/s]\n",
            "Epoch 147 Validation: 100%|██████████| 19/19 [00:01<00:00, 11.06it/s]\n"
          ]
        },
        {
          "name": "stdout",
          "output_type": "stream",
          "text": [
            "Epoch [147], last_lr: 0.00357, train_loss: 0.6923, val_loss: 1.2664, val_acc: 0.6800\n"
          ]
        },
        {
          "name": "stderr",
          "output_type": "stream",
          "text": [
            "Epoch 148 Training: 100%|██████████| 75/75 [00:12<00:00,  5.86it/s]\n",
            "Epoch 148 Validation: 100%|██████████| 19/19 [00:01<00:00, 10.72it/s]\n"
          ]
        },
        {
          "name": "stdout",
          "output_type": "stream",
          "text": [
            "Epoch [148], last_lr: 0.00354, train_loss: 0.7322, val_loss: 1.1635, val_acc: 0.6933\n"
          ]
        },
        {
          "name": "stderr",
          "output_type": "stream",
          "text": [
            "Epoch 149 Training: 100%|██████████| 75/75 [00:12<00:00,  5.85it/s]\n",
            "Epoch 149 Validation: 100%|██████████| 19/19 [00:01<00:00, 10.66it/s]\n"
          ]
        },
        {
          "name": "stdout",
          "output_type": "stream",
          "text": [
            "Epoch [149], last_lr: 0.00352, train_loss: 0.7098, val_loss: 1.1829, val_acc: 0.6867\n"
          ]
        },
        {
          "name": "stderr",
          "output_type": "stream",
          "text": [
            "Epoch 150 Training: 100%|██████████| 75/75 [00:12<00:00,  5.86it/s]\n",
            "Epoch 150 Validation: 100%|██████████| 19/19 [00:01<00:00, 10.54it/s]\n"
          ]
        },
        {
          "name": "stdout",
          "output_type": "stream",
          "text": [
            "Epoch [150], last_lr: 0.00349, train_loss: 0.6959, val_loss: 1.1039, val_acc: 0.6933\n"
          ]
        },
        {
          "name": "stderr",
          "output_type": "stream",
          "text": [
            "Epoch 151 Training: 100%|██████████| 75/75 [00:12<00:00,  6.02it/s]\n",
            "Epoch 151 Validation: 100%|██████████| 19/19 [00:01<00:00, 11.18it/s]\n"
          ]
        },
        {
          "name": "stdout",
          "output_type": "stream",
          "text": [
            "Epoch [151], last_lr: 0.00347, train_loss: 0.7048, val_loss: 1.3447, val_acc: 0.6867\n"
          ]
        },
        {
          "name": "stderr",
          "output_type": "stream",
          "text": [
            "Epoch 152 Training: 100%|██████████| 75/75 [00:12<00:00,  5.97it/s]\n",
            "Epoch 152 Validation: 100%|██████████| 19/19 [00:01<00:00, 10.88it/s]\n"
          ]
        },
        {
          "name": "stdout",
          "output_type": "stream",
          "text": [
            "Epoch [152], last_lr: 0.00344, train_loss: 0.6591, val_loss: 1.2321, val_acc: 0.7000\n"
          ]
        },
        {
          "name": "stderr",
          "output_type": "stream",
          "text": [
            "Epoch 153 Training: 100%|██████████| 75/75 [00:12<00:00,  5.87it/s]\n",
            "Epoch 153 Validation: 100%|██████████| 19/19 [00:01<00:00, 10.86it/s]\n"
          ]
        },
        {
          "name": "stdout",
          "output_type": "stream",
          "text": [
            "Epoch [153], last_lr: 0.00342, train_loss: 0.7133, val_loss: 1.1101, val_acc: 0.6833\n"
          ]
        },
        {
          "name": "stderr",
          "output_type": "stream",
          "text": [
            "Epoch 154 Training: 100%|██████████| 75/75 [00:12<00:00,  5.95it/s]\n",
            "Epoch 154 Validation: 100%|██████████| 19/19 [00:01<00:00, 10.76it/s]\n"
          ]
        },
        {
          "name": "stdout",
          "output_type": "stream",
          "text": [
            "Epoch [154], last_lr: 0.00339, train_loss: 0.6439, val_loss: 1.1156, val_acc: 0.7333\n"
          ]
        },
        {
          "name": "stderr",
          "output_type": "stream",
          "text": [
            "Epoch 155 Training: 100%|██████████| 75/75 [00:12<00:00,  5.91it/s]\n",
            "Epoch 155 Validation: 100%|██████████| 19/19 [00:01<00:00, 10.70it/s]\n"
          ]
        },
        {
          "name": "stdout",
          "output_type": "stream",
          "text": [
            "Epoch [155], last_lr: 0.00336, train_loss: 0.6523, val_loss: 1.1636, val_acc: 0.7000\n"
          ]
        },
        {
          "name": "stderr",
          "output_type": "stream",
          "text": [
            "Epoch 156 Training: 100%|██████████| 75/75 [00:12<00:00,  6.01it/s]\n",
            "Epoch 156 Validation: 100%|██████████| 19/19 [00:01<00:00, 10.64it/s]\n"
          ]
        },
        {
          "name": "stdout",
          "output_type": "stream",
          "text": [
            "Epoch [156], last_lr: 0.00334, train_loss: 0.6722, val_loss: 1.3384, val_acc: 0.6967\n"
          ]
        },
        {
          "name": "stderr",
          "output_type": "stream",
          "text": [
            "Epoch 157 Training: 100%|██████████| 75/75 [00:12<00:00,  5.85it/s]\n",
            "Epoch 157 Validation: 100%|██████████| 19/19 [00:01<00:00, 11.07it/s]\n"
          ]
        },
        {
          "name": "stdout",
          "output_type": "stream",
          "text": [
            "Epoch [157], last_lr: 0.00331, train_loss: 0.6680, val_loss: 1.1190, val_acc: 0.7500\n",
            "Saved new best model with accuracy: 0.75%\n"
          ]
        },
        {
          "name": "stderr",
          "output_type": "stream",
          "text": [
            "Epoch 158 Training: 100%|██████████| 75/75 [00:12<00:00,  6.05it/s]\n",
            "Epoch 158 Validation: 100%|██████████| 19/19 [00:01<00:00, 11.05it/s]\n"
          ]
        },
        {
          "name": "stdout",
          "output_type": "stream",
          "text": [
            "Epoch [158], last_lr: 0.00328, train_loss: 0.6382, val_loss: 1.2462, val_acc: 0.7000\n"
          ]
        },
        {
          "name": "stderr",
          "output_type": "stream",
          "text": [
            "Epoch 159 Training: 100%|██████████| 75/75 [00:12<00:00,  5.90it/s]\n",
            "Epoch 159 Validation: 100%|██████████| 19/19 [00:01<00:00, 10.83it/s]\n"
          ]
        },
        {
          "name": "stdout",
          "output_type": "stream",
          "text": [
            "Epoch [159], last_lr: 0.00326, train_loss: 0.6534, val_loss: 1.5601, val_acc: 0.6533\n"
          ]
        },
        {
          "name": "stderr",
          "output_type": "stream",
          "text": [
            "Epoch 160 Training: 100%|██████████| 75/75 [00:12<00:00,  5.99it/s]\n",
            "Epoch 160 Validation: 100%|██████████| 19/19 [00:01<00:00, 10.61it/s]\n"
          ]
        },
        {
          "name": "stdout",
          "output_type": "stream",
          "text": [
            "Epoch [160], last_lr: 0.00323, train_loss: 0.6258, val_loss: 1.2111, val_acc: 0.7100\n"
          ]
        },
        {
          "name": "stderr",
          "output_type": "stream",
          "text": [
            "Epoch 161 Training: 100%|██████████| 75/75 [00:12<00:00,  6.05it/s]\n",
            "Epoch 161 Validation: 100%|██████████| 19/19 [00:01<00:00, 10.40it/s]\n"
          ]
        },
        {
          "name": "stdout",
          "output_type": "stream",
          "text": [
            "Epoch [161], last_lr: 0.00320, train_loss: 0.6733, val_loss: 1.2096, val_acc: 0.7000\n"
          ]
        },
        {
          "name": "stderr",
          "output_type": "stream",
          "text": [
            "Epoch 162 Training: 100%|██████████| 75/75 [00:12<00:00,  5.96it/s]\n",
            "Epoch 162 Validation: 100%|██████████| 19/19 [00:01<00:00, 11.01it/s]\n"
          ]
        },
        {
          "name": "stdout",
          "output_type": "stream",
          "text": [
            "Epoch [162], last_lr: 0.00317, train_loss: 0.6174, val_loss: 1.4047, val_acc: 0.7167\n"
          ]
        },
        {
          "name": "stderr",
          "output_type": "stream",
          "text": [
            "Epoch 163 Training: 100%|██████████| 75/75 [00:12<00:00,  5.93it/s]\n",
            "Epoch 163 Validation: 100%|██████████| 19/19 [00:01<00:00, 11.07it/s]\n"
          ]
        },
        {
          "name": "stdout",
          "output_type": "stream",
          "text": [
            "Epoch [163], last_lr: 0.00314, train_loss: 0.6607, val_loss: 1.3554, val_acc: 0.6733\n"
          ]
        },
        {
          "name": "stderr",
          "output_type": "stream",
          "text": [
            "Epoch 164 Training: 100%|██████████| 75/75 [00:12<00:00,  5.87it/s]\n",
            "Epoch 164 Validation: 100%|██████████| 19/19 [00:01<00:00, 11.11it/s]\n"
          ]
        },
        {
          "name": "stdout",
          "output_type": "stream",
          "text": [
            "Epoch [164], last_lr: 0.00311, train_loss: 0.5564, val_loss: 1.2623, val_acc: 0.7133\n"
          ]
        },
        {
          "name": "stderr",
          "output_type": "stream",
          "text": [
            "Epoch 165 Training: 100%|██████████| 75/75 [00:12<00:00,  5.95it/s]\n",
            "Epoch 165 Validation: 100%|██████████| 19/19 [00:01<00:00, 10.68it/s]\n"
          ]
        },
        {
          "name": "stdout",
          "output_type": "stream",
          "text": [
            "Epoch [165], last_lr: 0.00309, train_loss: 0.6290, val_loss: 1.2829, val_acc: 0.7067\n"
          ]
        },
        {
          "name": "stderr",
          "output_type": "stream",
          "text": [
            "Epoch 166 Training: 100%|██████████| 75/75 [00:12<00:00,  6.06it/s]\n",
            "Epoch 166 Validation: 100%|██████████| 19/19 [00:01<00:00, 10.92it/s]\n"
          ]
        },
        {
          "name": "stdout",
          "output_type": "stream",
          "text": [
            "Epoch [166], last_lr: 0.00306, train_loss: 0.6456, val_loss: 1.2643, val_acc: 0.7167\n"
          ]
        },
        {
          "name": "stderr",
          "output_type": "stream",
          "text": [
            "Epoch 167 Training: 100%|██████████| 75/75 [00:13<00:00,  5.75it/s]\n",
            "Epoch 167 Validation: 100%|██████████| 19/19 [00:01<00:00, 10.91it/s]\n"
          ]
        },
        {
          "name": "stdout",
          "output_type": "stream",
          "text": [
            "Epoch [167], last_lr: 0.00303, train_loss: 0.6211, val_loss: 1.1867, val_acc: 0.7000\n"
          ]
        },
        {
          "name": "stderr",
          "output_type": "stream",
          "text": [
            "Epoch 168 Training: 100%|██████████| 75/75 [00:12<00:00,  5.99it/s]\n",
            "Epoch 168 Validation: 100%|██████████| 19/19 [00:01<00:00, 10.83it/s]\n"
          ]
        },
        {
          "name": "stdout",
          "output_type": "stream",
          "text": [
            "Epoch [168], last_lr: 0.00300, train_loss: 0.6051, val_loss: 1.2525, val_acc: 0.7167\n"
          ]
        },
        {
          "name": "stderr",
          "output_type": "stream",
          "text": [
            "Epoch 169 Training: 100%|██████████| 75/75 [00:12<00:00,  5.93it/s]\n",
            "Epoch 169 Validation: 100%|██████████| 19/19 [00:01<00:00, 10.92it/s]\n"
          ]
        },
        {
          "name": "stdout",
          "output_type": "stream",
          "text": [
            "Epoch [169], last_lr: 0.00297, train_loss: 0.6293, val_loss: 1.2855, val_acc: 0.7100\n"
          ]
        },
        {
          "name": "stderr",
          "output_type": "stream",
          "text": [
            "Epoch 170 Training: 100%|██████████| 75/75 [00:12<00:00,  5.90it/s]\n",
            "Epoch 170 Validation: 100%|██████████| 19/19 [00:01<00:00, 10.74it/s]\n"
          ]
        },
        {
          "name": "stdout",
          "output_type": "stream",
          "text": [
            "Epoch [170], last_lr: 0.00294, train_loss: 0.5925, val_loss: 1.3072, val_acc: 0.6967\n"
          ]
        },
        {
          "name": "stderr",
          "output_type": "stream",
          "text": [
            "Epoch 171 Training: 100%|██████████| 75/75 [00:12<00:00,  5.94it/s]\n",
            "Epoch 171 Validation: 100%|██████████| 19/19 [00:01<00:00, 10.88it/s]\n"
          ]
        },
        {
          "name": "stdout",
          "output_type": "stream",
          "text": [
            "Epoch [171], last_lr: 0.00291, train_loss: 0.6169, val_loss: 1.0675, val_acc: 0.7433\n"
          ]
        },
        {
          "name": "stderr",
          "output_type": "stream",
          "text": [
            "Epoch 172 Training: 100%|██████████| 75/75 [00:12<00:00,  6.06it/s]\n",
            "Epoch 172 Validation: 100%|██████████| 19/19 [00:01<00:00, 10.82it/s]\n"
          ]
        },
        {
          "name": "stdout",
          "output_type": "stream",
          "text": [
            "Epoch [172], last_lr: 0.00288, train_loss: 0.5799, val_loss: 1.2310, val_acc: 0.7200\n"
          ]
        },
        {
          "name": "stderr",
          "output_type": "stream",
          "text": [
            "Epoch 173 Training: 100%|██████████| 75/75 [00:12<00:00,  5.94it/s]\n",
            "Epoch 173 Validation: 100%|██████████| 19/19 [00:01<00:00, 11.12it/s]\n"
          ]
        },
        {
          "name": "stdout",
          "output_type": "stream",
          "text": [
            "Epoch [173], last_lr: 0.00285, train_loss: 0.6194, val_loss: 1.1778, val_acc: 0.7300\n"
          ]
        },
        {
          "name": "stderr",
          "output_type": "stream",
          "text": [
            "Epoch 174 Training: 100%|██████████| 75/75 [00:12<00:00,  6.01it/s]\n",
            "Epoch 174 Validation: 100%|██████████| 19/19 [00:01<00:00, 10.86it/s]\n"
          ]
        },
        {
          "name": "stdout",
          "output_type": "stream",
          "text": [
            "Epoch [174], last_lr: 0.00282, train_loss: 0.6223, val_loss: 1.2153, val_acc: 0.7100\n"
          ]
        },
        {
          "name": "stderr",
          "output_type": "stream",
          "text": [
            "Epoch 175 Training: 100%|██████████| 75/75 [00:12<00:00,  5.98it/s]\n",
            "Epoch 175 Validation: 100%|██████████| 19/19 [00:01<00:00, 10.99it/s]\n"
          ]
        },
        {
          "name": "stdout",
          "output_type": "stream",
          "text": [
            "Epoch [175], last_lr: 0.00279, train_loss: 0.5858, val_loss: 1.1144, val_acc: 0.7300\n"
          ]
        },
        {
          "name": "stderr",
          "output_type": "stream",
          "text": [
            "Epoch 176 Training: 100%|██████████| 75/75 [00:12<00:00,  6.03it/s]\n",
            "Epoch 176 Validation: 100%|██████████| 19/19 [00:01<00:00, 11.00it/s]\n"
          ]
        },
        {
          "name": "stdout",
          "output_type": "stream",
          "text": [
            "Epoch [176], last_lr: 0.00276, train_loss: 0.6087, val_loss: 1.1622, val_acc: 0.6967\n"
          ]
        },
        {
          "name": "stderr",
          "output_type": "stream",
          "text": [
            "Epoch 177 Training: 100%|██████████| 75/75 [00:12<00:00,  5.91it/s]\n",
            "Epoch 177 Validation: 100%|██████████| 19/19 [00:01<00:00, 10.86it/s]\n"
          ]
        },
        {
          "name": "stdout",
          "output_type": "stream",
          "text": [
            "Epoch [177], last_lr: 0.00272, train_loss: 0.5931, val_loss: 1.1898, val_acc: 0.7200\n"
          ]
        },
        {
          "name": "stderr",
          "output_type": "stream",
          "text": [
            "Epoch 178 Training: 100%|██████████| 75/75 [00:12<00:00,  5.91it/s]\n",
            "Epoch 178 Validation: 100%|██████████| 19/19 [00:01<00:00, 10.48it/s]\n"
          ]
        },
        {
          "name": "stdout",
          "output_type": "stream",
          "text": [
            "Epoch [178], last_lr: 0.00269, train_loss: 0.6070, val_loss: 1.1262, val_acc: 0.7167\n"
          ]
        },
        {
          "name": "stderr",
          "output_type": "stream",
          "text": [
            "Epoch 179 Training: 100%|██████████| 75/75 [00:12<00:00,  6.04it/s]\n",
            "Epoch 179 Validation: 100%|██████████| 19/19 [00:01<00:00, 10.93it/s]\n"
          ]
        },
        {
          "name": "stdout",
          "output_type": "stream",
          "text": [
            "Epoch [179], last_lr: 0.00266, train_loss: 0.5581, val_loss: 1.2780, val_acc: 0.7233\n"
          ]
        },
        {
          "name": "stderr",
          "output_type": "stream",
          "text": [
            "Epoch 180 Training: 100%|██████████| 75/75 [00:12<00:00,  5.94it/s]\n",
            "Epoch 180 Validation: 100%|██████████| 19/19 [00:01<00:00, 10.96it/s]\n"
          ]
        },
        {
          "name": "stdout",
          "output_type": "stream",
          "text": [
            "Epoch [180], last_lr: 0.00263, train_loss: 0.6159, val_loss: 1.2167, val_acc: 0.7300\n"
          ]
        },
        {
          "name": "stderr",
          "output_type": "stream",
          "text": [
            "Epoch 181 Training: 100%|██████████| 75/75 [00:12<00:00,  5.94it/s]\n",
            "Epoch 181 Validation: 100%|██████████| 19/19 [00:01<00:00, 10.88it/s]\n"
          ]
        },
        {
          "name": "stdout",
          "output_type": "stream",
          "text": [
            "Epoch [181], last_lr: 0.00260, train_loss: 0.5295, val_loss: 1.4546, val_acc: 0.7033\n"
          ]
        },
        {
          "name": "stderr",
          "output_type": "stream",
          "text": [
            "Epoch 182 Training: 100%|██████████| 75/75 [00:12<00:00,  5.91it/s]\n",
            "Epoch 182 Validation: 100%|██████████| 19/19 [00:01<00:00, 10.85it/s]\n"
          ]
        },
        {
          "name": "stdout",
          "output_type": "stream",
          "text": [
            "Epoch [182], last_lr: 0.00257, train_loss: 0.5837, val_loss: 1.2114, val_acc: 0.7267\n"
          ]
        },
        {
          "name": "stderr",
          "output_type": "stream",
          "text": [
            "Epoch 183 Training: 100%|██████████| 75/75 [00:13<00:00,  5.75it/s]\n",
            "Epoch 183 Validation: 100%|██████████| 19/19 [00:01<00:00, 10.43it/s]\n"
          ]
        },
        {
          "name": "stdout",
          "output_type": "stream",
          "text": [
            "Epoch [183], last_lr: 0.00254, train_loss: 0.5718, val_loss: 1.3298, val_acc: 0.6967\n"
          ]
        },
        {
          "name": "stderr",
          "output_type": "stream",
          "text": [
            "Epoch 184 Training: 100%|██████████| 75/75 [00:12<00:00,  5.84it/s]\n",
            "Epoch 184 Validation: 100%|██████████| 19/19 [00:01<00:00, 10.42it/s]\n"
          ]
        },
        {
          "name": "stdout",
          "output_type": "stream",
          "text": [
            "Epoch [184], last_lr: 0.00250, train_loss: 0.5824, val_loss: 1.1896, val_acc: 0.7200\n"
          ]
        },
        {
          "name": "stderr",
          "output_type": "stream",
          "text": [
            "Epoch 185 Training: 100%|██████████| 75/75 [00:12<00:00,  5.84it/s]\n",
            "Epoch 185 Validation: 100%|██████████| 19/19 [00:01<00:00, 11.10it/s]\n"
          ]
        },
        {
          "name": "stdout",
          "output_type": "stream",
          "text": [
            "Epoch [185], last_lr: 0.00247, train_loss: 0.5858, val_loss: 1.3282, val_acc: 0.7467\n"
          ]
        },
        {
          "name": "stderr",
          "output_type": "stream",
          "text": [
            "Epoch 186 Training: 100%|██████████| 75/75 [00:12<00:00,  5.92it/s]\n",
            "Epoch 186 Validation: 100%|██████████| 19/19 [00:01<00:00, 11.19it/s]\n"
          ]
        },
        {
          "name": "stdout",
          "output_type": "stream",
          "text": [
            "Epoch [186], last_lr: 0.00244, train_loss: 0.5802, val_loss: 1.3805, val_acc: 0.7033\n"
          ]
        },
        {
          "name": "stderr",
          "output_type": "stream",
          "text": [
            "Epoch 187 Training: 100%|██████████| 75/75 [00:12<00:00,  5.95it/s]\n",
            "Epoch 187 Validation: 100%|██████████| 19/19 [00:01<00:00, 10.81it/s]\n"
          ]
        },
        {
          "name": "stdout",
          "output_type": "stream",
          "text": [
            "Epoch [187], last_lr: 0.00241, train_loss: 0.6420, val_loss: 1.1687, val_acc: 0.7433\n"
          ]
        },
        {
          "name": "stderr",
          "output_type": "stream",
          "text": [
            "Epoch 188 Training: 100%|██████████| 75/75 [00:12<00:00,  5.84it/s]\n",
            "Epoch 188 Validation: 100%|██████████| 19/19 [00:01<00:00, 10.52it/s]\n"
          ]
        },
        {
          "name": "stdout",
          "output_type": "stream",
          "text": [
            "Epoch [188], last_lr: 0.00238, train_loss: 0.5836, val_loss: 1.3511, val_acc: 0.6733\n"
          ]
        },
        {
          "name": "stderr",
          "output_type": "stream",
          "text": [
            "Epoch 189 Training: 100%|██████████| 75/75 [00:12<00:00,  5.91it/s]\n",
            "Epoch 189 Validation: 100%|██████████| 19/19 [00:01<00:00, 11.02it/s]\n"
          ]
        },
        {
          "name": "stdout",
          "output_type": "stream",
          "text": [
            "Epoch [189], last_lr: 0.00234, train_loss: 0.5721, val_loss: 1.1347, val_acc: 0.7267\n"
          ]
        },
        {
          "name": "stderr",
          "output_type": "stream",
          "text": [
            "Epoch 190 Training: 100%|██████████| 75/75 [00:12<00:00,  5.95it/s]\n",
            "Epoch 190 Validation: 100%|██████████| 19/19 [00:01<00:00, 11.18it/s]\n"
          ]
        },
        {
          "name": "stdout",
          "output_type": "stream",
          "text": [
            "Epoch [190], last_lr: 0.00231, train_loss: 0.5493, val_loss: 1.2649, val_acc: 0.7033\n"
          ]
        },
        {
          "name": "stderr",
          "output_type": "stream",
          "text": [
            "Epoch 191 Training: 100%|██████████| 75/75 [00:12<00:00,  5.92it/s]\n",
            "Epoch 191 Validation: 100%|██████████| 19/19 [00:01<00:00, 10.65it/s]\n"
          ]
        },
        {
          "name": "stdout",
          "output_type": "stream",
          "text": [
            "Epoch [191], last_lr: 0.00228, train_loss: 0.5607, val_loss: 1.1516, val_acc: 0.7133\n"
          ]
        },
        {
          "name": "stderr",
          "output_type": "stream",
          "text": [
            "Epoch 192 Training: 100%|██████████| 75/75 [00:12<00:00,  5.98it/s]\n",
            "Epoch 192 Validation: 100%|██████████| 19/19 [00:01<00:00, 11.28it/s]\n"
          ]
        },
        {
          "name": "stdout",
          "output_type": "stream",
          "text": [
            "Epoch [192], last_lr: 0.00225, train_loss: 0.5658, val_loss: 1.3388, val_acc: 0.7133\n"
          ]
        },
        {
          "name": "stderr",
          "output_type": "stream",
          "text": [
            "Epoch 193 Training: 100%|██████████| 75/75 [00:12<00:00,  5.86it/s]\n",
            "Epoch 193 Validation: 100%|██████████| 19/19 [00:01<00:00, 10.95it/s]\n"
          ]
        },
        {
          "name": "stdout",
          "output_type": "stream",
          "text": [
            "Epoch [193], last_lr: 0.00222, train_loss: 0.6118, val_loss: 1.1500, val_acc: 0.7433\n"
          ]
        },
        {
          "name": "stderr",
          "output_type": "stream",
          "text": [
            "Epoch 194 Training: 100%|██████████| 75/75 [00:12<00:00,  6.00it/s]\n",
            "Epoch 194 Validation: 100%|██████████| 19/19 [00:01<00:00, 10.94it/s]\n"
          ]
        },
        {
          "name": "stdout",
          "output_type": "stream",
          "text": [
            "Epoch [194], last_lr: 0.00218, train_loss: 0.5723, val_loss: 1.2772, val_acc: 0.6900\n"
          ]
        },
        {
          "name": "stderr",
          "output_type": "stream",
          "text": [
            "Epoch 195 Training: 100%|██████████| 75/75 [00:12<00:00,  6.06it/s]\n",
            "Epoch 195 Validation: 100%|██████████| 19/19 [00:01<00:00, 10.90it/s]\n"
          ]
        },
        {
          "name": "stdout",
          "output_type": "stream",
          "text": [
            "Epoch [195], last_lr: 0.00215, train_loss: 0.5521, val_loss: 1.2355, val_acc: 0.7267\n"
          ]
        },
        {
          "name": "stderr",
          "output_type": "stream",
          "text": [
            "Epoch 196 Training: 100%|██████████| 75/75 [00:12<00:00,  5.95it/s]\n",
            "Epoch 196 Validation: 100%|██████████| 19/19 [00:01<00:00, 10.81it/s]\n"
          ]
        },
        {
          "name": "stdout",
          "output_type": "stream",
          "text": [
            "Epoch [196], last_lr: 0.00212, train_loss: 0.6139, val_loss: 1.1799, val_acc: 0.7000\n"
          ]
        },
        {
          "name": "stderr",
          "output_type": "stream",
          "text": [
            "Epoch 197 Training: 100%|██████████| 75/75 [00:12<00:00,  5.98it/s]\n",
            "Epoch 197 Validation: 100%|██████████| 19/19 [00:01<00:00, 11.22it/s]\n"
          ]
        },
        {
          "name": "stdout",
          "output_type": "stream",
          "text": [
            "Epoch [197], last_lr: 0.00209, train_loss: 0.5715, val_loss: 1.4915, val_acc: 0.6633\n"
          ]
        },
        {
          "name": "stderr",
          "output_type": "stream",
          "text": [
            "Epoch 198 Training: 100%|██████████| 75/75 [00:12<00:00,  5.93it/s]\n",
            "Epoch 198 Validation: 100%|██████████| 19/19 [00:01<00:00, 11.14it/s]\n"
          ]
        },
        {
          "name": "stdout",
          "output_type": "stream",
          "text": [
            "Epoch [198], last_lr: 0.00206, train_loss: 0.5566, val_loss: 1.3060, val_acc: 0.6933\n"
          ]
        },
        {
          "name": "stderr",
          "output_type": "stream",
          "text": [
            "Epoch 199 Training: 100%|██████████| 75/75 [00:12<00:00,  5.98it/s]\n",
            "Epoch 199 Validation: 100%|██████████| 19/19 [00:01<00:00, 10.88it/s]\n"
          ]
        },
        {
          "name": "stdout",
          "output_type": "stream",
          "text": [
            "Epoch [199], last_lr: 0.00202, train_loss: 0.5541, val_loss: 1.1468, val_acc: 0.7000\n"
          ]
        },
        {
          "name": "stderr",
          "output_type": "stream",
          "text": [
            "Epoch 200 Training: 100%|██████████| 75/75 [00:12<00:00,  5.99it/s]\n",
            "Epoch 200 Validation: 100%|██████████| 19/19 [00:01<00:00, 10.66it/s]\n"
          ]
        },
        {
          "name": "stdout",
          "output_type": "stream",
          "text": [
            "Epoch [200], last_lr: 0.00199, train_loss: 0.5286, val_loss: 1.3363, val_acc: 0.6967\n"
          ]
        },
        {
          "name": "stderr",
          "output_type": "stream",
          "text": [
            "Epoch 201 Training: 100%|██████████| 75/75 [00:12<00:00,  5.97it/s]\n",
            "Epoch 201 Validation: 100%|██████████| 19/19 [00:01<00:00, 11.19it/s]\n"
          ]
        },
        {
          "name": "stdout",
          "output_type": "stream",
          "text": [
            "Epoch [201], last_lr: 0.00196, train_loss: 0.5305, val_loss: 1.3516, val_acc: 0.7167\n"
          ]
        },
        {
          "name": "stderr",
          "output_type": "stream",
          "text": [
            "Epoch 202 Training: 100%|██████████| 75/75 [00:12<00:00,  5.84it/s]\n",
            "Epoch 202 Validation: 100%|██████████| 19/19 [00:01<00:00, 11.10it/s]\n"
          ]
        },
        {
          "name": "stdout",
          "output_type": "stream",
          "text": [
            "Epoch [202], last_lr: 0.00193, train_loss: 0.5477, val_loss: 1.0089, val_acc: 0.7467\n"
          ]
        },
        {
          "name": "stderr",
          "output_type": "stream",
          "text": [
            "Epoch 203 Training: 100%|██████████| 75/75 [00:12<00:00,  5.85it/s]\n",
            "Epoch 203 Validation: 100%|██████████| 19/19 [00:01<00:00, 11.15it/s]\n"
          ]
        },
        {
          "name": "stdout",
          "output_type": "stream",
          "text": [
            "Epoch [203], last_lr: 0.00190, train_loss: 0.5345, val_loss: 1.2486, val_acc: 0.7300\n"
          ]
        },
        {
          "name": "stderr",
          "output_type": "stream",
          "text": [
            "Epoch 204 Training: 100%|██████████| 75/75 [00:12<00:00,  5.95it/s]\n",
            "Epoch 204 Validation: 100%|██████████| 19/19 [00:01<00:00, 10.86it/s]\n"
          ]
        },
        {
          "name": "stdout",
          "output_type": "stream",
          "text": [
            "Epoch [204], last_lr: 0.00186, train_loss: 0.5248, val_loss: 1.4492, val_acc: 0.6733\n"
          ]
        },
        {
          "name": "stderr",
          "output_type": "stream",
          "text": [
            "Epoch 205 Training: 100%|██████████| 75/75 [00:12<00:00,  5.95it/s]\n",
            "Epoch 205 Validation: 100%|██████████| 19/19 [00:01<00:00, 10.64it/s]\n"
          ]
        },
        {
          "name": "stdout",
          "output_type": "stream",
          "text": [
            "Epoch [205], last_lr: 0.00183, train_loss: 0.5136, val_loss: 1.3049, val_acc: 0.7033\n"
          ]
        },
        {
          "name": "stderr",
          "output_type": "stream",
          "text": [
            "Epoch 206 Training: 100%|██████████| 75/75 [00:12<00:00,  6.02it/s]\n",
            "Epoch 206 Validation: 100%|██████████| 19/19 [00:01<00:00, 10.96it/s]\n"
          ]
        },
        {
          "name": "stdout",
          "output_type": "stream",
          "text": [
            "Epoch [206], last_lr: 0.00180, train_loss: 0.4864, val_loss: 1.1939, val_acc: 0.7467\n"
          ]
        },
        {
          "name": "stderr",
          "output_type": "stream",
          "text": [
            "Epoch 207 Training: 100%|██████████| 75/75 [00:12<00:00,  5.97it/s]\n",
            "Epoch 207 Validation: 100%|██████████| 19/19 [00:01<00:00, 11.01it/s]\n"
          ]
        },
        {
          "name": "stdout",
          "output_type": "stream",
          "text": [
            "Epoch [207], last_lr: 0.00177, train_loss: 0.5180, val_loss: 1.2717, val_acc: 0.7267\n"
          ]
        },
        {
          "name": "stderr",
          "output_type": "stream",
          "text": [
            "Epoch 208 Training: 100%|██████████| 75/75 [00:12<00:00,  5.94it/s]\n",
            "Epoch 208 Validation: 100%|██████████| 19/19 [00:01<00:00, 10.87it/s]\n"
          ]
        },
        {
          "name": "stdout",
          "output_type": "stream",
          "text": [
            "Epoch [208], last_lr: 0.00174, train_loss: 0.4908, val_loss: 1.2782, val_acc: 0.7167\n"
          ]
        },
        {
          "name": "stderr",
          "output_type": "stream",
          "text": [
            "Epoch 209 Training: 100%|██████████| 75/75 [00:12<00:00,  5.94it/s]\n",
            "Epoch 209 Validation: 100%|██████████| 19/19 [00:01<00:00, 11.08it/s]\n"
          ]
        },
        {
          "name": "stdout",
          "output_type": "stream",
          "text": [
            "Epoch [209], last_lr: 0.00170, train_loss: 0.4828, val_loss: 1.4273, val_acc: 0.7067\n"
          ]
        },
        {
          "name": "stderr",
          "output_type": "stream",
          "text": [
            "Epoch 210 Training: 100%|██████████| 75/75 [00:12<00:00,  5.95it/s]\n",
            "Epoch 210 Validation: 100%|██████████| 19/19 [00:01<00:00, 11.10it/s]\n"
          ]
        },
        {
          "name": "stdout",
          "output_type": "stream",
          "text": [
            "Epoch [210], last_lr: 0.00167, train_loss: 0.5534, val_loss: 1.1992, val_acc: 0.7467\n"
          ]
        },
        {
          "name": "stderr",
          "output_type": "stream",
          "text": [
            "Epoch 211 Training: 100%|██████████| 75/75 [00:12<00:00,  6.03it/s]\n",
            "Epoch 211 Validation: 100%|██████████| 19/19 [00:01<00:00, 10.91it/s]\n"
          ]
        },
        {
          "name": "stdout",
          "output_type": "stream",
          "text": [
            "Epoch [211], last_lr: 0.00164, train_loss: 0.5454, val_loss: 1.1472, val_acc: 0.7300\n"
          ]
        },
        {
          "name": "stderr",
          "output_type": "stream",
          "text": [
            "Epoch 212 Training: 100%|██████████| 75/75 [00:12<00:00,  5.87it/s]\n",
            "Epoch 212 Validation: 100%|██████████| 19/19 [00:01<00:00, 10.68it/s]\n"
          ]
        },
        {
          "name": "stdout",
          "output_type": "stream",
          "text": [
            "Epoch [212], last_lr: 0.00161, train_loss: 0.4698, val_loss: 1.2537, val_acc: 0.7467\n"
          ]
        },
        {
          "name": "stderr",
          "output_type": "stream",
          "text": [
            "Epoch 213 Training: 100%|██████████| 75/75 [00:12<00:00,  5.85it/s]\n",
            "Epoch 213 Validation: 100%|██████████| 19/19 [00:01<00:00, 10.81it/s]\n"
          ]
        },
        {
          "name": "stdout",
          "output_type": "stream",
          "text": [
            "Epoch [213], last_lr: 0.00158, train_loss: 0.5202, val_loss: 1.1913, val_acc: 0.7500\n"
          ]
        },
        {
          "name": "stderr",
          "output_type": "stream",
          "text": [
            "Epoch 214 Training: 100%|██████████| 75/75 [00:12<00:00,  5.94it/s]\n",
            "Epoch 214 Validation: 100%|██████████| 19/19 [00:01<00:00, 10.98it/s]\n"
          ]
        },
        {
          "name": "stdout",
          "output_type": "stream",
          "text": [
            "Epoch [214], last_lr: 0.00155, train_loss: 0.4951, val_loss: 1.2278, val_acc: 0.7400\n"
          ]
        },
        {
          "name": "stderr",
          "output_type": "stream",
          "text": [
            "Epoch 215 Training: 100%|██████████| 75/75 [00:12<00:00,  6.01it/s]\n",
            "Epoch 215 Validation: 100%|██████████| 19/19 [00:01<00:00, 11.02it/s]\n"
          ]
        },
        {
          "name": "stdout",
          "output_type": "stream",
          "text": [
            "Epoch [215], last_lr: 0.00152, train_loss: 0.4682, val_loss: 1.3168, val_acc: 0.7067\n"
          ]
        },
        {
          "name": "stderr",
          "output_type": "stream",
          "text": [
            "Epoch 216 Training: 100%|██████████| 75/75 [00:12<00:00,  5.87it/s]\n",
            "Epoch 216 Validation: 100%|██████████| 19/19 [00:01<00:00, 10.82it/s]\n"
          ]
        },
        {
          "name": "stdout",
          "output_type": "stream",
          "text": [
            "Epoch [216], last_lr: 0.00149, train_loss: 0.4720, val_loss: 1.2703, val_acc: 0.7500\n"
          ]
        },
        {
          "name": "stderr",
          "output_type": "stream",
          "text": [
            "Epoch 217 Training: 100%|██████████| 75/75 [00:12<00:00,  5.97it/s]\n",
            "Epoch 217 Validation: 100%|██████████| 19/19 [00:01<00:00, 10.51it/s]\n"
          ]
        },
        {
          "name": "stdout",
          "output_type": "stream",
          "text": [
            "Epoch [217], last_lr: 0.00146, train_loss: 0.5225, val_loss: 1.2026, val_acc: 0.7367\n"
          ]
        },
        {
          "name": "stderr",
          "output_type": "stream",
          "text": [
            "Epoch 218 Training: 100%|██████████| 75/75 [00:12<00:00,  5.91it/s]\n",
            "Epoch 218 Validation: 100%|██████████| 19/19 [00:01<00:00, 11.13it/s]\n"
          ]
        },
        {
          "name": "stdout",
          "output_type": "stream",
          "text": [
            "Epoch [218], last_lr: 0.00143, train_loss: 0.4884, val_loss: 1.3319, val_acc: 0.7133\n"
          ]
        },
        {
          "name": "stderr",
          "output_type": "stream",
          "text": [
            "Epoch 219 Training: 100%|██████████| 75/75 [00:13<00:00,  5.76it/s]\n",
            "Epoch 219 Validation: 100%|██████████| 19/19 [00:01<00:00, 11.18it/s]\n"
          ]
        },
        {
          "name": "stdout",
          "output_type": "stream",
          "text": [
            "Epoch [219], last_lr: 0.00140, train_loss: 0.4534, val_loss: 1.1493, val_acc: 0.7633\n",
            "Saved new best model with accuracy: 0.7633333206176758%\n"
          ]
        },
        {
          "name": "stderr",
          "output_type": "stream",
          "text": [
            "Epoch 220 Training: 100%|██████████| 75/75 [00:12<00:00,  5.80it/s]\n",
            "Epoch 220 Validation: 100%|██████████| 19/19 [00:01<00:00, 10.78it/s]\n"
          ]
        },
        {
          "name": "stdout",
          "output_type": "stream",
          "text": [
            "Epoch [220], last_lr: 0.00137, train_loss: 0.4550, val_loss: 1.2861, val_acc: 0.7267\n"
          ]
        },
        {
          "name": "stderr",
          "output_type": "stream",
          "text": [
            "Epoch 221 Training: 100%|██████████| 75/75 [00:13<00:00,  5.67it/s]\n",
            "Epoch 221 Validation: 100%|██████████| 19/19 [00:01<00:00, 10.32it/s]\n"
          ]
        },
        {
          "name": "stdout",
          "output_type": "stream",
          "text": [
            "Epoch [221], last_lr: 0.00134, train_loss: 0.4714, val_loss: 1.3404, val_acc: 0.7167\n"
          ]
        },
        {
          "name": "stderr",
          "output_type": "stream",
          "text": [
            "Epoch 222 Training: 100%|██████████| 75/75 [00:12<00:00,  5.85it/s]\n",
            "Epoch 222 Validation: 100%|██████████| 19/19 [00:01<00:00, 11.12it/s]\n"
          ]
        },
        {
          "name": "stdout",
          "output_type": "stream",
          "text": [
            "Epoch [222], last_lr: 0.00131, train_loss: 0.4800, val_loss: 1.2011, val_acc: 0.7533\n"
          ]
        },
        {
          "name": "stderr",
          "output_type": "stream",
          "text": [
            "Epoch 223 Training: 100%|██████████| 75/75 [00:12<00:00,  6.02it/s]\n",
            "Epoch 223 Validation: 100%|██████████| 19/19 [00:01<00:00, 11.06it/s]\n"
          ]
        },
        {
          "name": "stdout",
          "output_type": "stream",
          "text": [
            "Epoch [223], last_lr: 0.00128, train_loss: 0.4410, val_loss: 1.2511, val_acc: 0.7400\n"
          ]
        },
        {
          "name": "stderr",
          "output_type": "stream",
          "text": [
            "Epoch 224 Training: 100%|██████████| 75/75 [00:12<00:00,  5.93it/s]\n",
            "Epoch 224 Validation: 100%|██████████| 19/19 [00:01<00:00, 10.92it/s]\n"
          ]
        },
        {
          "name": "stdout",
          "output_type": "stream",
          "text": [
            "Epoch [224], last_lr: 0.00125, train_loss: 0.4317, val_loss: 1.2919, val_acc: 0.7233\n"
          ]
        },
        {
          "name": "stderr",
          "output_type": "stream",
          "text": [
            "Epoch 225 Training: 100%|██████████| 75/75 [00:12<00:00,  5.91it/s]\n",
            "Epoch 225 Validation: 100%|██████████| 19/19 [00:01<00:00, 11.02it/s]\n"
          ]
        },
        {
          "name": "stdout",
          "output_type": "stream",
          "text": [
            "Epoch [225], last_lr: 0.00122, train_loss: 0.4929, val_loss: 1.1456, val_acc: 0.7400\n"
          ]
        },
        {
          "name": "stderr",
          "output_type": "stream",
          "text": [
            "Epoch 226 Training: 100%|██████████| 75/75 [00:12<00:00,  6.00it/s]\n",
            "Epoch 226 Validation: 100%|██████████| 19/19 [00:01<00:00, 10.84it/s]\n"
          ]
        },
        {
          "name": "stdout",
          "output_type": "stream",
          "text": [
            "Epoch [226], last_lr: 0.00119, train_loss: 0.4656, val_loss: 1.1109, val_acc: 0.7467\n"
          ]
        },
        {
          "name": "stderr",
          "output_type": "stream",
          "text": [
            "Epoch 227 Training: 100%|██████████| 75/75 [00:12<00:00,  5.86it/s]\n",
            "Epoch 227 Validation: 100%|██████████| 19/19 [00:01<00:00, 10.50it/s]\n"
          ]
        },
        {
          "name": "stdout",
          "output_type": "stream",
          "text": [
            "Epoch [227], last_lr: 0.00116, train_loss: 0.4902, val_loss: 1.1898, val_acc: 0.7333\n"
          ]
        },
        {
          "name": "stderr",
          "output_type": "stream",
          "text": [
            "Epoch 228 Training: 100%|██████████| 75/75 [00:12<00:00,  5.96it/s]\n",
            "Epoch 228 Validation: 100%|██████████| 19/19 [00:01<00:00, 11.03it/s]\n"
          ]
        },
        {
          "name": "stdout",
          "output_type": "stream",
          "text": [
            "Epoch [228], last_lr: 0.00113, train_loss: 0.4513, val_loss: 1.2236, val_acc: 0.7500\n"
          ]
        },
        {
          "name": "stderr",
          "output_type": "stream",
          "text": [
            "Epoch 229 Training: 100%|██████████| 75/75 [00:12<00:00,  5.81it/s]\n",
            "Epoch 229 Validation: 100%|██████████| 19/19 [00:01<00:00, 10.65it/s]\n"
          ]
        },
        {
          "name": "stdout",
          "output_type": "stream",
          "text": [
            "Epoch [229], last_lr: 0.00110, train_loss: 0.4746, val_loss: 1.2604, val_acc: 0.7600\n"
          ]
        },
        {
          "name": "stderr",
          "output_type": "stream",
          "text": [
            "Epoch 230 Training: 100%|██████████| 75/75 [00:12<00:00,  6.01it/s]\n",
            "Epoch 230 Validation: 100%|██████████| 19/19 [00:01<00:00, 11.11it/s]\n"
          ]
        },
        {
          "name": "stdout",
          "output_type": "stream",
          "text": [
            "Epoch [230], last_lr: 0.00108, train_loss: 0.4477, val_loss: 1.3118, val_acc: 0.7267\n"
          ]
        },
        {
          "name": "stderr",
          "output_type": "stream",
          "text": [
            "Epoch 231 Training: 100%|██████████| 75/75 [00:12<00:00,  5.91it/s]\n",
            "Epoch 231 Validation: 100%|██████████| 19/19 [00:01<00:00, 10.97it/s]\n"
          ]
        },
        {
          "name": "stdout",
          "output_type": "stream",
          "text": [
            "Epoch [231], last_lr: 0.00105, train_loss: 0.4982, val_loss: 1.3084, val_acc: 0.7300\n"
          ]
        },
        {
          "name": "stderr",
          "output_type": "stream",
          "text": [
            "Epoch 232 Training: 100%|██████████| 75/75 [00:12<00:00,  6.05it/s]\n",
            "Epoch 232 Validation: 100%|██████████| 19/19 [00:01<00:00, 10.40it/s]\n"
          ]
        },
        {
          "name": "stdout",
          "output_type": "stream",
          "text": [
            "Epoch [232], last_lr: 0.00102, train_loss: 0.4484, val_loss: 1.3049, val_acc: 0.7400\n"
          ]
        },
        {
          "name": "stderr",
          "output_type": "stream",
          "text": [
            "Epoch 233 Training: 100%|██████████| 75/75 [00:12<00:00,  5.87it/s]\n",
            "Epoch 233 Validation: 100%|██████████| 19/19 [00:01<00:00, 11.30it/s]\n"
          ]
        },
        {
          "name": "stdout",
          "output_type": "stream",
          "text": [
            "Epoch [233], last_lr: 0.00099, train_loss: 0.4839, val_loss: 1.3096, val_acc: 0.7433\n"
          ]
        },
        {
          "name": "stderr",
          "output_type": "stream",
          "text": [
            "Epoch 234 Training: 100%|██████████| 75/75 [00:12<00:00,  5.88it/s]\n",
            "Epoch 234 Validation: 100%|██████████| 19/19 [00:01<00:00, 10.71it/s]\n"
          ]
        },
        {
          "name": "stdout",
          "output_type": "stream",
          "text": [
            "Epoch [234], last_lr: 0.00097, train_loss: 0.4556, val_loss: 1.2137, val_acc: 0.7367\n"
          ]
        },
        {
          "name": "stderr",
          "output_type": "stream",
          "text": [
            "Epoch 235 Training: 100%|██████████| 75/75 [00:12<00:00,  5.85it/s]\n",
            "Epoch 235 Validation: 100%|██████████| 19/19 [00:01<00:00, 10.91it/s]\n"
          ]
        },
        {
          "name": "stdout",
          "output_type": "stream",
          "text": [
            "Epoch [235], last_lr: 0.00094, train_loss: 0.4514, val_loss: 1.1797, val_acc: 0.7567\n"
          ]
        },
        {
          "name": "stderr",
          "output_type": "stream",
          "text": [
            "Epoch 236 Training: 100%|██████████| 75/75 [00:12<00:00,  5.86it/s]\n",
            "Epoch 236 Validation: 100%|██████████| 19/19 [00:01<00:00, 11.05it/s]\n"
          ]
        },
        {
          "name": "stdout",
          "output_type": "stream",
          "text": [
            "Epoch [236], last_lr: 0.00091, train_loss: 0.4484, val_loss: 1.3410, val_acc: 0.7333\n"
          ]
        },
        {
          "name": "stderr",
          "output_type": "stream",
          "text": [
            "Epoch 237 Training: 100%|██████████| 75/75 [00:12<00:00,  5.80it/s]\n",
            "Epoch 237 Validation: 100%|██████████| 19/19 [00:01<00:00, 10.71it/s]\n"
          ]
        },
        {
          "name": "stdout",
          "output_type": "stream",
          "text": [
            "Epoch [237], last_lr: 0.00089, train_loss: 0.4424, val_loss: 1.3916, val_acc: 0.7100\n"
          ]
        },
        {
          "name": "stderr",
          "output_type": "stream",
          "text": [
            "Epoch 238 Training: 100%|██████████| 75/75 [00:12<00:00,  5.97it/s]\n",
            "Epoch 238 Validation: 100%|██████████| 19/19 [00:01<00:00, 10.63it/s]\n"
          ]
        },
        {
          "name": "stdout",
          "output_type": "stream",
          "text": [
            "Epoch [238], last_lr: 0.00086, train_loss: 0.4056, val_loss: 1.3147, val_acc: 0.7400\n"
          ]
        },
        {
          "name": "stderr",
          "output_type": "stream",
          "text": [
            "Epoch 239 Training: 100%|██████████| 75/75 [00:12<00:00,  5.95it/s]\n",
            "Epoch 239 Validation: 100%|██████████| 19/19 [00:01<00:00, 11.05it/s]\n"
          ]
        },
        {
          "name": "stdout",
          "output_type": "stream",
          "text": [
            "Epoch [239], last_lr: 0.00084, train_loss: 0.4609, val_loss: 1.2449, val_acc: 0.7433\n"
          ]
        },
        {
          "name": "stderr",
          "output_type": "stream",
          "text": [
            "Epoch 240 Training: 100%|██████████| 75/75 [00:12<00:00,  5.96it/s]\n",
            "Epoch 240 Validation: 100%|██████████| 19/19 [00:01<00:00, 10.96it/s]\n"
          ]
        },
        {
          "name": "stdout",
          "output_type": "stream",
          "text": [
            "Epoch [240], last_lr: 0.00081, train_loss: 0.4534, val_loss: 1.2237, val_acc: 0.7367\n"
          ]
        },
        {
          "name": "stderr",
          "output_type": "stream",
          "text": [
            "Epoch 241 Training: 100%|██████████| 75/75 [00:12<00:00,  5.83it/s]\n",
            "Epoch 241 Validation: 100%|██████████| 19/19 [00:01<00:00, 11.02it/s]\n"
          ]
        },
        {
          "name": "stdout",
          "output_type": "stream",
          "text": [
            "Epoch [241], last_lr: 0.00079, train_loss: 0.4163, val_loss: 1.2746, val_acc: 0.7333\n"
          ]
        },
        {
          "name": "stderr",
          "output_type": "stream",
          "text": [
            "Epoch 242 Training: 100%|██████████| 75/75 [00:12<00:00,  5.95it/s]\n",
            "Epoch 242 Validation: 100%|██████████| 19/19 [00:01<00:00, 10.72it/s]\n"
          ]
        },
        {
          "name": "stdout",
          "output_type": "stream",
          "text": [
            "Epoch [242], last_lr: 0.00076, train_loss: 0.4192, val_loss: 1.2798, val_acc: 0.7500\n"
          ]
        },
        {
          "name": "stderr",
          "output_type": "stream",
          "text": [
            "Epoch 243 Training: 100%|██████████| 75/75 [00:12<00:00,  5.97it/s]\n",
            "Epoch 243 Validation: 100%|██████████| 19/19 [00:01<00:00, 10.54it/s]\n"
          ]
        },
        {
          "name": "stdout",
          "output_type": "stream",
          "text": [
            "Epoch [243], last_lr: 0.00074, train_loss: 0.4126, val_loss: 1.2627, val_acc: 0.7767\n",
            "Saved new best model with accuracy: 0.7766666412353516%\n"
          ]
        },
        {
          "name": "stderr",
          "output_type": "stream",
          "text": [
            "Epoch 244 Training: 100%|██████████| 75/75 [00:12<00:00,  6.02it/s]\n",
            "Epoch 244 Validation: 100%|██████████| 19/19 [00:01<00:00, 11.40it/s]\n"
          ]
        },
        {
          "name": "stdout",
          "output_type": "stream",
          "text": [
            "Epoch [244], last_lr: 0.00071, train_loss: 0.4109, val_loss: 1.2282, val_acc: 0.7400\n"
          ]
        },
        {
          "name": "stderr",
          "output_type": "stream",
          "text": [
            "Epoch 245 Training: 100%|██████████| 75/75 [00:12<00:00,  5.96it/s]\n",
            "Epoch 245 Validation: 100%|██████████| 19/19 [00:01<00:00, 11.01it/s]\n"
          ]
        },
        {
          "name": "stdout",
          "output_type": "stream",
          "text": [
            "Epoch [245], last_lr: 0.00069, train_loss: 0.4186, val_loss: 1.2792, val_acc: 0.7433\n"
          ]
        },
        {
          "name": "stderr",
          "output_type": "stream",
          "text": [
            "Epoch 246 Training: 100%|██████████| 75/75 [00:12<00:00,  5.91it/s]\n",
            "Epoch 246 Validation: 100%|██████████| 19/19 [00:01<00:00, 10.91it/s]\n"
          ]
        },
        {
          "name": "stdout",
          "output_type": "stream",
          "text": [
            "Epoch [246], last_lr: 0.00066, train_loss: 0.3899, val_loss: 1.2747, val_acc: 0.7433\n"
          ]
        },
        {
          "name": "stderr",
          "output_type": "stream",
          "text": [
            "Epoch 247 Training: 100%|██████████| 75/75 [00:12<00:00,  5.95it/s]\n",
            "Epoch 247 Validation: 100%|██████████| 19/19 [00:01<00:00, 10.98it/s]\n"
          ]
        },
        {
          "name": "stdout",
          "output_type": "stream",
          "text": [
            "Epoch [247], last_lr: 0.00064, train_loss: 0.3666, val_loss: 1.3713, val_acc: 0.7467\n"
          ]
        },
        {
          "name": "stderr",
          "output_type": "stream",
          "text": [
            "Epoch 248 Training: 100%|██████████| 75/75 [00:12<00:00,  6.07it/s]\n",
            "Epoch 248 Validation: 100%|██████████| 19/19 [00:01<00:00, 10.92it/s]\n"
          ]
        },
        {
          "name": "stdout",
          "output_type": "stream",
          "text": [
            "Epoch [248], last_lr: 0.00062, train_loss: 0.3976, val_loss: 1.3737, val_acc: 0.7400\n"
          ]
        },
        {
          "name": "stderr",
          "output_type": "stream",
          "text": [
            "Epoch 249 Training: 100%|██████████| 75/75 [00:12<00:00,  5.95it/s]\n",
            "Epoch 249 Validation: 100%|██████████| 19/19 [00:01<00:00, 11.09it/s]\n"
          ]
        },
        {
          "name": "stdout",
          "output_type": "stream",
          "text": [
            "Epoch [249], last_lr: 0.00060, train_loss: 0.3989, val_loss: 1.2337, val_acc: 0.7567\n"
          ]
        },
        {
          "name": "stderr",
          "output_type": "stream",
          "text": [
            "Epoch 250 Training: 100%|██████████| 75/75 [00:12<00:00,  5.95it/s]\n",
            "Epoch 250 Validation: 100%|██████████| 19/19 [00:01<00:00, 11.13it/s]\n"
          ]
        },
        {
          "name": "stdout",
          "output_type": "stream",
          "text": [
            "Epoch [250], last_lr: 0.00057, train_loss: 0.4196, val_loss: 1.2651, val_acc: 0.7400\n"
          ]
        },
        {
          "name": "stderr",
          "output_type": "stream",
          "text": [
            "Epoch 251 Training: 100%|██████████| 75/75 [00:12<00:00,  5.98it/s]\n",
            "Epoch 251 Validation: 100%|██████████| 19/19 [00:01<00:00, 10.98it/s]\n"
          ]
        },
        {
          "name": "stdout",
          "output_type": "stream",
          "text": [
            "Epoch [251], last_lr: 0.00055, train_loss: 0.4445, val_loss: 1.1447, val_acc: 0.7500\n"
          ]
        },
        {
          "name": "stderr",
          "output_type": "stream",
          "text": [
            "Epoch 252 Training: 100%|██████████| 75/75 [00:12<00:00,  5.90it/s]\n",
            "Epoch 252 Validation: 100%|██████████| 19/19 [00:01<00:00, 11.08it/s]\n"
          ]
        },
        {
          "name": "stdout",
          "output_type": "stream",
          "text": [
            "Epoch [252], last_lr: 0.00053, train_loss: 0.3724, val_loss: 1.2625, val_acc: 0.7267\n"
          ]
        },
        {
          "name": "stderr",
          "output_type": "stream",
          "text": [
            "Epoch 253 Training: 100%|██████████| 75/75 [00:12<00:00,  5.96it/s]\n",
            "Epoch 253 Validation: 100%|██████████| 19/19 [00:01<00:00, 10.68it/s]\n"
          ]
        },
        {
          "name": "stdout",
          "output_type": "stream",
          "text": [
            "Epoch [253], last_lr: 0.00051, train_loss: 0.3883, val_loss: 1.2904, val_acc: 0.7567\n"
          ]
        },
        {
          "name": "stderr",
          "output_type": "stream",
          "text": [
            "Epoch 254 Training: 100%|██████████| 75/75 [00:12<00:00,  5.91it/s]\n",
            "Epoch 254 Validation: 100%|██████████| 19/19 [00:01<00:00, 10.69it/s]\n"
          ]
        },
        {
          "name": "stdout",
          "output_type": "stream",
          "text": [
            "Epoch [254], last_lr: 0.00049, train_loss: 0.3471, val_loss: 1.2577, val_acc: 0.7433\n"
          ]
        },
        {
          "name": "stderr",
          "output_type": "stream",
          "text": [
            "Epoch 255 Training: 100%|██████████| 75/75 [00:12<00:00,  5.93it/s]\n",
            "Epoch 255 Validation: 100%|██████████| 19/19 [00:01<00:00, 10.72it/s]\n"
          ]
        },
        {
          "name": "stdout",
          "output_type": "stream",
          "text": [
            "Epoch [255], last_lr: 0.00047, train_loss: 0.4047, val_loss: 1.2951, val_acc: 0.7367\n"
          ]
        },
        {
          "name": "stderr",
          "output_type": "stream",
          "text": [
            "Epoch 256 Training: 100%|██████████| 75/75 [00:12<00:00,  5.82it/s]\n",
            "Epoch 256 Validation: 100%|██████████| 19/19 [00:01<00:00, 10.93it/s]\n"
          ]
        },
        {
          "name": "stdout",
          "output_type": "stream",
          "text": [
            "Epoch [256], last_lr: 0.00045, train_loss: 0.3975, val_loss: 1.2681, val_acc: 0.7367\n"
          ]
        },
        {
          "name": "stderr",
          "output_type": "stream",
          "text": [
            "Epoch 257 Training: 100%|██████████| 75/75 [00:12<00:00,  6.08it/s]\n",
            "Epoch 257 Validation: 100%|██████████| 19/19 [00:01<00:00, 10.99it/s]\n"
          ]
        },
        {
          "name": "stdout",
          "output_type": "stream",
          "text": [
            "Epoch [257], last_lr: 0.00043, train_loss: 0.3478, val_loss: 1.2547, val_acc: 0.7533\n"
          ]
        },
        {
          "name": "stderr",
          "output_type": "stream",
          "text": [
            "Epoch 258 Training: 100%|██████████| 75/75 [00:12<00:00,  5.95it/s]\n",
            "Epoch 258 Validation: 100%|██████████| 19/19 [00:01<00:00, 10.93it/s]\n"
          ]
        },
        {
          "name": "stdout",
          "output_type": "stream",
          "text": [
            "Epoch [258], last_lr: 0.00041, train_loss: 0.3696, val_loss: 1.2411, val_acc: 0.7400\n"
          ]
        },
        {
          "name": "stderr",
          "output_type": "stream",
          "text": [
            "Epoch 259 Training: 100%|██████████| 75/75 [00:12<00:00,  5.91it/s]\n",
            "Epoch 259 Validation: 100%|██████████| 19/19 [00:01<00:00, 10.79it/s]\n"
          ]
        },
        {
          "name": "stdout",
          "output_type": "stream",
          "text": [
            "Epoch [259], last_lr: 0.00039, train_loss: 0.3636, val_loss: 1.2667, val_acc: 0.7567\n"
          ]
        },
        {
          "name": "stderr",
          "output_type": "stream",
          "text": [
            "Epoch 260 Training: 100%|██████████| 75/75 [00:12<00:00,  5.95it/s]\n",
            "Epoch 260 Validation: 100%|██████████| 19/19 [00:01<00:00, 10.83it/s]\n"
          ]
        },
        {
          "name": "stdout",
          "output_type": "stream",
          "text": [
            "Epoch [260], last_lr: 0.00037, train_loss: 0.3791, val_loss: 1.1976, val_acc: 0.7467\n"
          ]
        },
        {
          "name": "stderr",
          "output_type": "stream",
          "text": [
            "Epoch 261 Training: 100%|██████████| 75/75 [00:12<00:00,  5.94it/s]\n",
            "Epoch 261 Validation: 100%|██████████| 19/19 [00:01<00:00, 11.27it/s]\n"
          ]
        },
        {
          "name": "stdout",
          "output_type": "stream",
          "text": [
            "Epoch [261], last_lr: 0.00036, train_loss: 0.3833, val_loss: 1.2097, val_acc: 0.7567\n"
          ]
        },
        {
          "name": "stderr",
          "output_type": "stream",
          "text": [
            "Epoch 262 Training: 100%|██████████| 75/75 [00:12<00:00,  6.05it/s]\n",
            "Epoch 262 Validation: 100%|██████████| 19/19 [00:01<00:00, 11.03it/s]\n"
          ]
        },
        {
          "name": "stdout",
          "output_type": "stream",
          "text": [
            "Epoch [262], last_lr: 0.00034, train_loss: 0.3712, val_loss: 1.2463, val_acc: 0.7433\n"
          ]
        },
        {
          "name": "stderr",
          "output_type": "stream",
          "text": [
            "Epoch 263 Training: 100%|██████████| 75/75 [00:12<00:00,  6.01it/s]\n",
            "Epoch 263 Validation: 100%|██████████| 19/19 [00:01<00:00, 10.85it/s]\n"
          ]
        },
        {
          "name": "stdout",
          "output_type": "stream",
          "text": [
            "Epoch [263], last_lr: 0.00032, train_loss: 0.3719, val_loss: 1.3163, val_acc: 0.7433\n"
          ]
        },
        {
          "name": "stderr",
          "output_type": "stream",
          "text": [
            "Epoch 264 Training: 100%|██████████| 75/75 [00:12<00:00,  5.99it/s]\n",
            "Epoch 264 Validation: 100%|██████████| 19/19 [00:01<00:00, 10.94it/s]\n"
          ]
        },
        {
          "name": "stdout",
          "output_type": "stream",
          "text": [
            "Epoch [264], last_lr: 0.00030, train_loss: 0.3849, val_loss: 1.2931, val_acc: 0.7400\n"
          ]
        },
        {
          "name": "stderr",
          "output_type": "stream",
          "text": [
            "Epoch 265 Training: 100%|██████████| 75/75 [00:12<00:00,  6.04it/s]\n",
            "Epoch 265 Validation: 100%|██████████| 19/19 [00:01<00:00, 10.56it/s]\n"
          ]
        },
        {
          "name": "stdout",
          "output_type": "stream",
          "text": [
            "Epoch [265], last_lr: 0.00029, train_loss: 0.3772, val_loss: 1.2767, val_acc: 0.7333\n"
          ]
        },
        {
          "name": "stderr",
          "output_type": "stream",
          "text": [
            "Epoch 266 Training: 100%|██████████| 75/75 [00:12<00:00,  5.89it/s]\n",
            "Epoch 266 Validation: 100%|██████████| 19/19 [00:01<00:00, 10.83it/s]\n"
          ]
        },
        {
          "name": "stdout",
          "output_type": "stream",
          "text": [
            "Epoch [266], last_lr: 0.00027, train_loss: 0.3665, val_loss: 1.2705, val_acc: 0.7367\n"
          ]
        },
        {
          "name": "stderr",
          "output_type": "stream",
          "text": [
            "Epoch 267 Training: 100%|██████████| 75/75 [00:12<00:00,  6.06it/s]\n",
            "Epoch 267 Validation: 100%|██████████| 19/19 [00:01<00:00, 11.06it/s]\n"
          ]
        },
        {
          "name": "stdout",
          "output_type": "stream",
          "text": [
            "Epoch [267], last_lr: 0.00026, train_loss: 0.3638, val_loss: 1.2626, val_acc: 0.7400\n"
          ]
        },
        {
          "name": "stderr",
          "output_type": "stream",
          "text": [
            "Epoch 268 Training: 100%|██████████| 75/75 [00:12<00:00,  6.03it/s]\n",
            "Epoch 268 Validation: 100%|██████████| 19/19 [00:01<00:00, 11.12it/s]\n"
          ]
        },
        {
          "name": "stdout",
          "output_type": "stream",
          "text": [
            "Epoch [268], last_lr: 0.00024, train_loss: 0.3284, val_loss: 1.2628, val_acc: 0.7433\n"
          ]
        },
        {
          "name": "stderr",
          "output_type": "stream",
          "text": [
            "Epoch 269 Training: 100%|██████████| 75/75 [00:12<00:00,  6.03it/s]\n",
            "Epoch 269 Validation: 100%|██████████| 19/19 [00:01<00:00, 11.33it/s]\n"
          ]
        },
        {
          "name": "stdout",
          "output_type": "stream",
          "text": [
            "Epoch [269], last_lr: 0.00023, train_loss: 0.3422, val_loss: 1.3145, val_acc: 0.7533\n"
          ]
        },
        {
          "name": "stderr",
          "output_type": "stream",
          "text": [
            "Epoch 270 Training: 100%|██████████| 75/75 [00:12<00:00,  5.93it/s]\n",
            "Epoch 270 Validation: 100%|██████████| 19/19 [00:01<00:00, 10.98it/s]\n"
          ]
        },
        {
          "name": "stdout",
          "output_type": "stream",
          "text": [
            "Epoch [270], last_lr: 0.00021, train_loss: 0.3770, val_loss: 1.3457, val_acc: 0.7333\n"
          ]
        },
        {
          "name": "stderr",
          "output_type": "stream",
          "text": [
            "Epoch 271 Training: 100%|██████████| 75/75 [00:12<00:00,  5.93it/s]\n",
            "Epoch 271 Validation: 100%|██████████| 19/19 [00:01<00:00, 10.60it/s]\n"
          ]
        },
        {
          "name": "stdout",
          "output_type": "stream",
          "text": [
            "Epoch [271], last_lr: 0.00020, train_loss: 0.3519, val_loss: 1.3451, val_acc: 0.7467\n"
          ]
        },
        {
          "name": "stderr",
          "output_type": "stream",
          "text": [
            "Epoch 272 Training: 100%|██████████| 75/75 [00:12<00:00,  5.99it/s]\n",
            "Epoch 272 Validation: 100%|██████████| 19/19 [00:01<00:00, 11.13it/s]\n"
          ]
        },
        {
          "name": "stdout",
          "output_type": "stream",
          "text": [
            "Epoch [272], last_lr: 0.00019, train_loss: 0.3468, val_loss: 1.3950, val_acc: 0.7500\n"
          ]
        },
        {
          "name": "stderr",
          "output_type": "stream",
          "text": [
            "Epoch 273 Training: 100%|██████████| 75/75 [00:12<00:00,  5.99it/s]\n",
            "Epoch 273 Validation: 100%|██████████| 19/19 [00:01<00:00, 11.13it/s]\n"
          ]
        },
        {
          "name": "stdout",
          "output_type": "stream",
          "text": [
            "Epoch [273], last_lr: 0.00017, train_loss: 0.3489, val_loss: 1.3601, val_acc: 0.7400\n"
          ]
        },
        {
          "name": "stderr",
          "output_type": "stream",
          "text": [
            "Epoch 274 Training: 100%|██████████| 75/75 [00:12<00:00,  6.04it/s]\n",
            "Epoch 274 Validation: 100%|██████████| 19/19 [00:01<00:00, 11.20it/s]\n"
          ]
        },
        {
          "name": "stdout",
          "output_type": "stream",
          "text": [
            "Epoch [274], last_lr: 0.00016, train_loss: 0.3349, val_loss: 1.3212, val_acc: 0.7400\n"
          ]
        },
        {
          "name": "stderr",
          "output_type": "stream",
          "text": [
            "Epoch 275 Training: 100%|██████████| 75/75 [00:12<00:00,  5.95it/s]\n",
            "Epoch 275 Validation: 100%|██████████| 19/19 [00:01<00:00, 11.12it/s]\n"
          ]
        },
        {
          "name": "stdout",
          "output_type": "stream",
          "text": [
            "Epoch [275], last_lr: 0.00015, train_loss: 0.3526, val_loss: 1.3172, val_acc: 0.7367\n"
          ]
        },
        {
          "name": "stderr",
          "output_type": "stream",
          "text": [
            "Epoch 276 Training: 100%|██████████| 75/75 [00:12<00:00,  6.07it/s]\n",
            "Epoch 276 Validation: 100%|██████████| 19/19 [00:01<00:00, 11.01it/s]\n"
          ]
        },
        {
          "name": "stdout",
          "output_type": "stream",
          "text": [
            "Epoch [276], last_lr: 0.00014, train_loss: 0.3355, val_loss: 1.3217, val_acc: 0.7400\n"
          ]
        },
        {
          "name": "stderr",
          "output_type": "stream",
          "text": [
            "Epoch 277 Training: 100%|██████████| 75/75 [00:12<00:00,  5.90it/s]\n",
            "Epoch 277 Validation: 100%|██████████| 19/19 [00:01<00:00, 10.45it/s]\n"
          ]
        },
        {
          "name": "stdout",
          "output_type": "stream",
          "text": [
            "Epoch [277], last_lr: 0.00013, train_loss: 0.3607, val_loss: 1.2697, val_acc: 0.7500\n"
          ]
        },
        {
          "name": "stderr",
          "output_type": "stream",
          "text": [
            "Epoch 278 Training: 100%|██████████| 75/75 [00:12<00:00,  6.05it/s]\n",
            "Epoch 278 Validation: 100%|██████████| 19/19 [00:01<00:00, 11.37it/s]\n"
          ]
        },
        {
          "name": "stdout",
          "output_type": "stream",
          "text": [
            "Epoch [278], last_lr: 0.00012, train_loss: 0.3158, val_loss: 1.3229, val_acc: 0.7300\n"
          ]
        },
        {
          "name": "stderr",
          "output_type": "stream",
          "text": [
            "Epoch 279 Training: 100%|██████████| 75/75 [00:12<00:00,  6.02it/s]\n",
            "Epoch 279 Validation: 100%|██████████| 19/19 [00:01<00:00, 11.03it/s]\n"
          ]
        },
        {
          "name": "stdout",
          "output_type": "stream",
          "text": [
            "Epoch [279], last_lr: 0.00011, train_loss: 0.3796, val_loss: 1.2807, val_acc: 0.7333\n"
          ]
        },
        {
          "name": "stderr",
          "output_type": "stream",
          "text": [
            "Epoch 280 Training: 100%|██████████| 75/75 [00:12<00:00,  5.99it/s]\n",
            "Epoch 280 Validation: 100%|██████████| 19/19 [00:01<00:00, 11.31it/s]\n"
          ]
        },
        {
          "name": "stdout",
          "output_type": "stream",
          "text": [
            "Epoch [280], last_lr: 0.00010, train_loss: 0.3579, val_loss: 1.3300, val_acc: 0.7567\n"
          ]
        },
        {
          "name": "stderr",
          "output_type": "stream",
          "text": [
            "Epoch 281 Training: 100%|██████████| 75/75 [00:12<00:00,  6.05it/s]\n",
            "Epoch 281 Validation: 100%|██████████| 19/19 [00:01<00:00, 10.97it/s]\n"
          ]
        },
        {
          "name": "stdout",
          "output_type": "stream",
          "text": [
            "Epoch [281], last_lr: 0.00009, train_loss: 0.3170, val_loss: 1.3188, val_acc: 0.7433\n"
          ]
        },
        {
          "name": "stderr",
          "output_type": "stream",
          "text": [
            "Epoch 282 Training: 100%|██████████| 75/75 [00:12<00:00,  6.05it/s]\n",
            "Epoch 282 Validation: 100%|██████████| 19/19 [00:01<00:00, 10.81it/s]\n"
          ]
        },
        {
          "name": "stdout",
          "output_type": "stream",
          "text": [
            "Epoch [282], last_lr: 0.00008, train_loss: 0.3341, val_loss: 1.3339, val_acc: 0.7467\n"
          ]
        },
        {
          "name": "stderr",
          "output_type": "stream",
          "text": [
            "Epoch 283 Training: 100%|██████████| 75/75 [00:12<00:00,  6.02it/s]\n",
            "Epoch 283 Validation: 100%|██████████| 19/19 [00:01<00:00, 10.78it/s]\n"
          ]
        },
        {
          "name": "stdout",
          "output_type": "stream",
          "text": [
            "Epoch [283], last_lr: 0.00007, train_loss: 0.3142, val_loss: 1.3135, val_acc: 0.7400\n"
          ]
        },
        {
          "name": "stderr",
          "output_type": "stream",
          "text": [
            "Epoch 284 Training: 100%|██████████| 75/75 [00:12<00:00,  6.15it/s]\n",
            "Epoch 284 Validation: 100%|██████████| 19/19 [00:01<00:00, 11.15it/s]\n"
          ]
        },
        {
          "name": "stdout",
          "output_type": "stream",
          "text": [
            "Epoch [284], last_lr: 0.00006, train_loss: 0.3184, val_loss: 1.3394, val_acc: 0.7400\n"
          ]
        },
        {
          "name": "stderr",
          "output_type": "stream",
          "text": [
            "Epoch 285 Training: 100%|██████████| 75/75 [00:12<00:00,  5.98it/s]\n",
            "Epoch 285 Validation: 100%|██████████| 19/19 [00:01<00:00, 11.21it/s]\n"
          ]
        },
        {
          "name": "stdout",
          "output_type": "stream",
          "text": [
            "Epoch [285], last_lr: 0.00005, train_loss: 0.3331, val_loss: 1.3044, val_acc: 0.7600\n"
          ]
        },
        {
          "name": "stderr",
          "output_type": "stream",
          "text": [
            "Epoch 286 Training: 100%|██████████| 75/75 [00:12<00:00,  6.05it/s]\n",
            "Epoch 286 Validation: 100%|██████████| 19/19 [00:01<00:00, 10.94it/s]\n"
          ]
        },
        {
          "name": "stdout",
          "output_type": "stream",
          "text": [
            "Epoch [286], last_lr: 0.00005, train_loss: 0.3312, val_loss: 1.2865, val_acc: 0.7533\n"
          ]
        },
        {
          "name": "stderr",
          "output_type": "stream",
          "text": [
            "Epoch 287 Training: 100%|██████████| 75/75 [00:12<00:00,  6.09it/s]\n",
            "Epoch 287 Validation: 100%|██████████| 19/19 [00:01<00:00, 10.72it/s]\n"
          ]
        },
        {
          "name": "stdout",
          "output_type": "stream",
          "text": [
            "Epoch [287], last_lr: 0.00004, train_loss: 0.3878, val_loss: 1.2903, val_acc: 0.7467\n"
          ]
        },
        {
          "name": "stderr",
          "output_type": "stream",
          "text": [
            "Epoch 288 Training: 100%|██████████| 75/75 [00:12<00:00,  5.85it/s]\n",
            "Epoch 288 Validation: 100%|██████████| 19/19 [00:01<00:00,  9.92it/s]\n"
          ]
        },
        {
          "name": "stdout",
          "output_type": "stream",
          "text": [
            "Epoch [288], last_lr: 0.00003, train_loss: 0.3146, val_loss: 1.2987, val_acc: 0.7567\n"
          ]
        },
        {
          "name": "stderr",
          "output_type": "stream",
          "text": [
            "Epoch 289 Training: 100%|██████████| 75/75 [00:13<00:00,  5.66it/s]\n",
            "Epoch 289 Validation: 100%|██████████| 19/19 [00:01<00:00, 11.02it/s]\n"
          ]
        },
        {
          "name": "stdout",
          "output_type": "stream",
          "text": [
            "Epoch [289], last_lr: 0.00003, train_loss: 0.3427, val_loss: 1.3084, val_acc: 0.7467\n"
          ]
        },
        {
          "name": "stderr",
          "output_type": "stream",
          "text": [
            "Epoch 290 Training: 100%|██████████| 75/75 [00:12<00:00,  5.79it/s]\n",
            "Epoch 290 Validation: 100%|██████████| 19/19 [00:01<00:00, 11.06it/s]\n"
          ]
        },
        {
          "name": "stdout",
          "output_type": "stream",
          "text": [
            "Epoch [290], last_lr: 0.00002, train_loss: 0.3210, val_loss: 1.2776, val_acc: 0.7467\n"
          ]
        },
        {
          "name": "stderr",
          "output_type": "stream",
          "text": [
            "Epoch 291 Training: 100%|██████████| 75/75 [00:13<00:00,  5.76it/s]\n",
            "Epoch 291 Validation: 100%|██████████| 19/19 [00:01<00:00, 11.12it/s]\n"
          ]
        },
        {
          "name": "stdout",
          "output_type": "stream",
          "text": [
            "Epoch [291], last_lr: 0.00002, train_loss: 0.3226, val_loss: 1.2875, val_acc: 0.7433\n"
          ]
        },
        {
          "name": "stderr",
          "output_type": "stream",
          "text": [
            "Epoch 292 Training: 100%|██████████| 75/75 [00:12<00:00,  5.86it/s]\n",
            "Epoch 292 Validation: 100%|██████████| 19/19 [00:01<00:00, 11.05it/s]\n"
          ]
        },
        {
          "name": "stdout",
          "output_type": "stream",
          "text": [
            "Epoch [292], last_lr: 0.00002, train_loss: 0.3146, val_loss: 1.2905, val_acc: 0.7467\n"
          ]
        },
        {
          "name": "stderr",
          "output_type": "stream",
          "text": [
            "Epoch 293 Training: 100%|██████████| 75/75 [00:13<00:00,  5.75it/s]\n",
            "Epoch 293 Validation: 100%|██████████| 19/19 [00:01<00:00, 10.34it/s]\n"
          ]
        },
        {
          "name": "stdout",
          "output_type": "stream",
          "text": [
            "Epoch [293], last_lr: 0.00001, train_loss: 0.3099, val_loss: 1.3065, val_acc: 0.7500\n"
          ]
        },
        {
          "name": "stderr",
          "output_type": "stream",
          "text": [
            "Epoch 294 Training: 100%|██████████| 75/75 [00:13<00:00,  5.70it/s]\n",
            "Epoch 294 Validation: 100%|██████████| 19/19 [00:01<00:00, 10.82it/s]\n"
          ]
        },
        {
          "name": "stdout",
          "output_type": "stream",
          "text": [
            "Epoch [294], last_lr: 0.00001, train_loss: 0.2945, val_loss: 1.3229, val_acc: 0.7400\n"
          ]
        },
        {
          "name": "stderr",
          "output_type": "stream",
          "text": [
            "Epoch 295 Training: 100%|██████████| 75/75 [00:12<00:00,  5.79it/s]\n",
            "Epoch 295 Validation: 100%|██████████| 19/19 [00:01<00:00, 10.95it/s]\n"
          ]
        },
        {
          "name": "stdout",
          "output_type": "stream",
          "text": [
            "Epoch [295], last_lr: 0.00001, train_loss: 0.3223, val_loss: 1.3124, val_acc: 0.7500\n"
          ]
        },
        {
          "name": "stderr",
          "output_type": "stream",
          "text": [
            "Epoch 296 Training: 100%|██████████| 75/75 [00:13<00:00,  5.75it/s]\n",
            "Epoch 296 Validation: 100%|██████████| 19/19 [00:01<00:00, 10.64it/s]\n"
          ]
        },
        {
          "name": "stdout",
          "output_type": "stream",
          "text": [
            "Epoch [296], last_lr: 0.00000, train_loss: 0.3297, val_loss: 1.2998, val_acc: 0.7467\n"
          ]
        },
        {
          "name": "stderr",
          "output_type": "stream",
          "text": [
            "Epoch 297 Training: 100%|██████████| 75/75 [00:12<00:00,  5.78it/s]\n",
            "Epoch 297 Validation: 100%|██████████| 19/19 [00:01<00:00, 10.80it/s]\n"
          ]
        },
        {
          "name": "stdout",
          "output_type": "stream",
          "text": [
            "Epoch [297], last_lr: 0.00000, train_loss: 0.3287, val_loss: 1.3093, val_acc: 0.7600\n"
          ]
        },
        {
          "name": "stderr",
          "output_type": "stream",
          "text": [
            "Epoch 298 Training: 100%|██████████| 75/75 [00:12<00:00,  5.79it/s]\n",
            "Epoch 298 Validation: 100%|██████████| 19/19 [00:01<00:00, 10.37it/s]\n"
          ]
        },
        {
          "name": "stdout",
          "output_type": "stream",
          "text": [
            "Epoch [298], last_lr: 0.00000, train_loss: 0.3282, val_loss: 1.2932, val_acc: 0.7533\n"
          ]
        },
        {
          "name": "stderr",
          "output_type": "stream",
          "text": [
            "Epoch 299 Training: 100%|██████████| 75/75 [00:13<00:00,  5.71it/s]\n",
            "Epoch 299 Validation: 100%|██████████| 19/19 [00:01<00:00, 10.97it/s]\n"
          ]
        },
        {
          "name": "stdout",
          "output_type": "stream",
          "text": [
            "Epoch [299], last_lr: 0.00000, train_loss: 0.2956, val_loss: 1.3263, val_acc: 0.7467\n"
          ]
        },
        {
          "name": "stderr",
          "output_type": "stream",
          "text": [
            "Epoch 300 Training: 100%|██████████| 75/75 [00:12<00:00,  5.88it/s]\n",
            "Epoch 300 Validation: 100%|██████████| 19/19 [00:01<00:00, 11.09it/s]"
          ]
        },
        {
          "name": "stdout",
          "output_type": "stream",
          "text": [
            "Epoch [300], last_lr: 0.00000, train_loss: 0.3100, val_loss: 1.3299, val_acc: 0.7533\n"
          ]
        },
        {
          "name": "stderr",
          "output_type": "stream",
          "text": [
            "\n"
          ]
        }
      ],
      "source": [
        "global_history = []\n",
        "\n",
        "# def objective(trial):\n",
        "\n",
        "n_epochs = 300\n",
        "num_classes = 15\n",
        "patience = 50\n",
        "channels = 1\n",
        "path = 'drive/MyDrive/train'\n",
        "# batch_size = trial.suggest_categorical('batch_size', [16, 32, 64])\n",
        "# lr = trial.suggest_float('lr', 1e-4, 1e-1,log = True)\n",
        "# weight_decay = trial.suggest_float('weight_decay', 1e-5, 1e-1,log = True)\n",
        "# grad_clip = trial.suggest_float('grad_clip', 0.1, 5.0)\n",
        "# state1_loop = trial.suggest_int('state1_loop', 0, 5)\n",
        "# state2_loop = trial.suggest_int('state2_loop', 0, 5)\n",
        "# dropout1 = trial.suggest_float('dropout1', 0, 0.5)\n",
        "# dropout2 = trial.suggest_float('dropout2', 0, 0.5)\n",
        "# out_channels = trial.suggest_categorical('out_channels', [8, 16, 32, 64, 128])\n",
        "#optimizer_name = trial.suggest_categorical('optimizer', ['Adam', 'RMSprop', 'SGD'])\n",
        "\n",
        "# below are the best hyperparameters found by optuna, additional epochs were run to ensure a best model\n",
        "batch_size = 16\n",
        "lr = 0.004304870060658268\n",
        "weight_decay = 0.0007918823690228014\n",
        "grad_clip = 1.572382720992464\n",
        "state1_loop = 0\n",
        "state2_loop = 0\n",
        "dropout1 = 0.212104912726848\n",
        "dropout2 = 0.33715478476437205\n",
        "out_channels = 64\n",
        "optimizer_name = 'SGD'\n",
        "\n",
        "seed = 42\n",
        "torch.manual_seed(seed)\n",
        "torch.cuda.manual_seed_all(seed)\n",
        "random.seed(seed)\n",
        "\n",
        "model = ResNet(channels, num_classes, state1_loop, state2_loop, dropout1, dropout2, out_channels)\n",
        "\n",
        "optimizer = getattr(torch.optim, optimizer_name)(model.parameters(), lr=lr,weight_decay = weight_decay)\n",
        "\n",
        "train_loader, validation_loader = load_data(0.45624029636383057, 0.25140705704689026,path,batch_size)\n",
        "\n",
        "# move model and dataset to GPU/CPU\n",
        "device = get_device()\n",
        "train_loader = ToDeviceLoader(train_loader, device)\n",
        "valid_loader = ToDeviceLoader(validation_loader, device)\n",
        "resnet_model = to_device(model, device)\n",
        "\n",
        "criterion = nn.CrossEntropyLoss()\n",
        "accuracy = Accuracy(task=\"multiclass\", num_classes=15).to(device)\n",
        "early_stopping = EarlyStopping(patience=patience)\n",
        "scheduler = OneCycleLR(optimizer, max_lr=lr, steps_per_epoch=len(train_loader), epochs=n_epochs)\n",
        "history, best_accuracy = train_model(resnet_model, train_loader, valid_loader, optimizer, n_epochs, early_stopping, criterion, grad_clip, scheduler, accuracy)\n",
        "\n",
        "global_history.append(history)\n",
        "\n",
        "# return best_accuracy"
      ]
    },
    {
      "cell_type": "markdown",
      "metadata": {},
      "source": [
        "## Create a Optuna study and search for the best hyperparameters"
      ]
    },
    {
      "cell_type": "code",
      "execution_count": null,
      "metadata": {},
      "outputs": [],
      "source": [
        "# study = optuna.create_study(study_name='hyperparams_optimization', direction='maximize')\n",
        "# study.optimize(objective, n_trials=50)\n",
        "# print(\"Best trial:\")\n",
        "# trial_ = study.best_trial\n",
        "# print(f\"  Value: {trial_.value}\")\n",
        "# print(\"  Params: \")\n",
        "# for key, value in trial_.params.items():\n",
        "#     print(f\"    {key}: {value}\")"
      ]
    },
    {
      "cell_type": "code",
      "execution_count": null,
      "metadata": {
        "colab": {
          "base_uri": "https://localhost:8080/"
        },
        "id": "nKIN8nEwKsfy",
        "outputId": "6d330c9b-a6d5-4a0f-d572-c8eef9a50b2e"
      },
      "outputs": [
        {
          "name": "stdout",
          "output_type": "stream",
          "text": [
            "CUDA is available. Here are the GPU details:\n",
            "Number of GPUs: 1\n",
            "GPU 0: Tesla T4\n",
            "Current GPU Index: 0\n"
          ]
        }
      ],
      "source": [
        "# Check if CUDA is available\n",
        "if torch.cuda.is_available():\n",
        "    print(\"CUDA is available. Here are the GPU details:\")\n",
        "\n",
        "    # Number of GPUs available\n",
        "    print(f\"Number of GPUs: {torch.cuda.device_count()}\")\n",
        "\n",
        "    # Get the name of the GPU\n",
        "    for i in range(torch.cuda.device_count()):\n",
        "        print(f\"GPU {i}: {torch.cuda.get_device_name(i)}\")\n",
        "\n",
        "    # Get current device index\n",
        "    print(f\"Current GPU Index: {torch.cuda.current_device()}\")\n",
        "\n",
        "else:\n",
        "    print(\"CUDA is not available.\")"
      ]
    },
    {
      "cell_type": "markdown",
      "metadata": {},
      "source": [
        "## Visualising the final result"
      ]
    },
    {
      "cell_type": "code",
      "execution_count": null,
      "metadata": {
        "id": "e2sgg-4CqdsX"
      },
      "outputs": [],
      "source": [
        "from torch import Tensor\n",
        "import matplotlib.pyplot as plt\n",
        "import numpy as np\n",
        "def plot_acc(history):\n",
        "    plt.figure(figsize=(10, 6))\n",
        "    plt.plot([Tensor.cpu(x[\"val_acc\"]) for x in history],\"-x\")\n",
        "    plt.xlabel(\"Epoch\")\n",
        "    plt.ylabel(\"Accuracy\")\n",
        "\n",
        "def plot_loss(history):\n",
        "    plt.figure(figsize=(10, 6))\n",
        "    plt.plot([x.get(\"train_loss\") for x in history], \"-bx\")\n",
        "    plt.plot([x[\"val_loss\"] for x in history],\"-rx\")\n",
        "    plt.xlabel(\"Epoch\")\n",
        "    plt.ylabel(\"Loss\")\n",
        "    plt.legend([\"train loss\",\"val loss\"])"
      ]
    },
    {
      "cell_type": "code",
      "execution_count": null,
      "metadata": {
        "colab": {
          "base_uri": "https://localhost:8080/",
          "height": 542
        },
        "id": "bCb_Kjv_qrrP",
        "outputId": "52bb3a9f-bad7-4d7d-a098-6115c6142434"
      },
      "outputs": [
        {
          "data": {
            "image/png": "[encoded data removed]",
            "text/plain": [
              "<Figure size 1000x600 with 1 Axes>"
            ]
          },
          "metadata": {},
          "output_type": "display_data"
        }
      ],
      "source": [
        "plot_loss(global_history[-1])"
      ]
    },
    {
      "cell_type": "code",
      "execution_count": null,
      "metadata": {
        "colab": {
          "base_uri": "https://localhost:8080/",
          "height": 544
        },
        "id": "hkNc8Lx7qwqW",
        "outputId": "01b76ac3-be06-4ed8-b244-a7465ebe7841"
      },
      "outputs": [
        {
          "data": {
            "image/png": "[encoded data removed]",
            "text/plain": [
              "<Figure size 1000x600 with 1 Axes>"
            ]
          },
          "metadata": {},
          "output_type": "display_data"
        }
      ],
      "source": [
        "plot_acc(global_history[-1])"
      ]
    },
    {
      "cell_type": "code",
      "execution_count": null,
      "metadata": {
        "id": "Q8fQ5v37CXli"
      },
      "outputs": [],
      "source": [
        "# device = 'cuda'\n",
        "# import torch, gc\n",
        "# import os\n",
        "# gc.collect()\n",
        "# torch.cuda.empty_cache()"
      ]
    },
    {
      "cell_type": "code",
      "execution_count": null,
      "metadata": {
        "id": "jgSjJJaMMcuc"
      },
      "outputs": [],
      "source": [
        "# train_loader, validation_loader = load_data(mean,std,path,16)\n",
        "\n",
        "# data,label = next(iter(train_loader))\n",
        "\n",
        "# import torch\n",
        "# from torchvision import transforms\n",
        "# from PIL import Image\n",
        "# print(label)\n",
        "\n"
      ]
    },
    {
      "cell_type": "code",
      "execution_count": null,
      "metadata": {
        "id": "nEXIyDqyMcud"
      },
      "outputs": [],
      "source": [
        "# image = transforms.ToPILImage()(data[1])\n",
        "# image.show()"
      ]
    }
  ],
  "metadata": {
    "accelerator": "GPU",
    "colab": {
      "gpuType": "T4",
      "machine_shape": "hm",
      "provenance": []
    },
    "kernelspec": {
      "display_name": "Python 3",
      "name": "python3"
    },
    "language_info": {
      "codemirror_mode": {
        "name": "ipython",
        "version": 3
      },
      "file_extension": ".py",
      "mimetype": "text/x-python",
      "name": "python",
      "nbconvert_exporter": "python",
      "pygments_lexer": "ipython3",
      "version": "3.9.18"
    },
    "vscode": {
      "interpreter": {
        "hash": "856791c24f5e3639c6d9779cc1a9d9b1affa1a8735e24004e0b983e403570c82"
      }
    }
  },
  "nbformat": 4,
  "nbformat_minor": 0
}
